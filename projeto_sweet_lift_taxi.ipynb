{
 "cells": [
  {
   "cell_type": "markdown",
   "metadata": {},
   "source": [
    "<center>\n",
    "    \n",
    "# SWEET LIFT TAXI"
   ]
  },
  {
   "cell_type": "markdown",
   "metadata": {},
   "source": [
    "# Descrição do Projeto\n",
    "\n",
    "A empresa Sweet Lift Taxi coletou dados históricos sobre pedidos de táxi nos aeroportos. Para atrair mais motoristas durante o horário de pico, precisamos prever a quantidade de pedidos de táxi para a próxima hora. \t\n",
    "Construiremos modelos para tal predição e escolheremos o melhor modelo com base no REQM obtido e no tempo de treinamento."
   ]
  },
  {
   "cell_type": "markdown",
   "metadata": {},
   "source": [
    "## Preparação "
   ]
  },
  {
   "cell_type": "code",
   "execution_count": 2,
   "metadata": {},
   "outputs": [],
   "source": [
    "import pandas as pd\n",
    "import numpy as np\n",
    "\n",
    "import time\n",
    "import timeit\n",
    "\n",
    "import seaborn as sns\n",
    "import matplotlib.pyplot as plt\n",
    "\n",
    "from sklearn.model_selection import train_test_split\n",
    "from sklearn.model_selection import GridSearchCV\n",
    "\n",
    "from sklearn.metrics import root_mean_squared_error\n",
    "\n",
    "from sklearn.ensemble import RandomForestRegressor\n",
    "from sklearn.linear_model import LinearRegression\n",
    "from catboost import CatBoostRegressor, Pool\n",
    "import lightgbm as lgb\n",
    "import xgboost as xgb\n",
    "\n",
    "from statsmodels.tsa.seasonal import seasonal_decompose"
   ]
  },
  {
   "cell_type": "code",
   "execution_count": 3,
   "metadata": {},
   "outputs": [
    {
     "data": {
      "text/html": [
       "<div>\n",
       "<style scoped>\n",
       "    .dataframe tbody tr th:only-of-type {\n",
       "        vertical-align: middle;\n",
       "    }\n",
       "\n",
       "    .dataframe tbody tr th {\n",
       "        vertical-align: top;\n",
       "    }\n",
       "\n",
       "    .dataframe thead th {\n",
       "        text-align: right;\n",
       "    }\n",
       "</style>\n",
       "<table border=\"1\" class=\"dataframe\">\n",
       "  <thead>\n",
       "    <tr style=\"text-align: right;\">\n",
       "      <th></th>\n",
       "      <th>num_orders</th>\n",
       "    </tr>\n",
       "    <tr>\n",
       "      <th>datetime</th>\n",
       "      <th></th>\n",
       "    </tr>\n",
       "  </thead>\n",
       "  <tbody>\n",
       "    <tr>\n",
       "      <th>2018-03-01 00:00:00</th>\n",
       "      <td>9</td>\n",
       "    </tr>\n",
       "    <tr>\n",
       "      <th>2018-03-01 00:10:00</th>\n",
       "      <td>14</td>\n",
       "    </tr>\n",
       "    <tr>\n",
       "      <th>2018-03-01 00:20:00</th>\n",
       "      <td>28</td>\n",
       "    </tr>\n",
       "    <tr>\n",
       "      <th>2018-03-01 00:30:00</th>\n",
       "      <td>20</td>\n",
       "    </tr>\n",
       "    <tr>\n",
       "      <th>2018-03-01 00:40:00</th>\n",
       "      <td>32</td>\n",
       "    </tr>\n",
       "  </tbody>\n",
       "</table>\n",
       "</div>"
      ],
      "text/plain": [
       "                     num_orders\n",
       "datetime                       \n",
       "2018-03-01 00:00:00           9\n",
       "2018-03-01 00:10:00          14\n",
       "2018-03-01 00:20:00          28\n",
       "2018-03-01 00:30:00          20\n",
       "2018-03-01 00:40:00          32"
      ]
     },
     "execution_count": 3,
     "metadata": {},
     "output_type": "execute_result"
    }
   ],
   "source": [
    "# Lendo o arquivo e definindo a primeira coluna como índice\n",
    "data = pd.read_csv('./datasets/taxi.csv', index_col=[0], parse_dates=[0])\n",
    "data.sort_index(inplace=True)\n",
    "\n",
    "data.head()"
   ]
  },
  {
   "cell_type": "code",
   "execution_count": 4,
   "metadata": {},
   "outputs": [
    {
     "data": {
      "text/html": [
       "<div>\n",
       "<style scoped>\n",
       "    .dataframe tbody tr th:only-of-type {\n",
       "        vertical-align: middle;\n",
       "    }\n",
       "\n",
       "    .dataframe tbody tr th {\n",
       "        vertical-align: top;\n",
       "    }\n",
       "\n",
       "    .dataframe thead th {\n",
       "        text-align: right;\n",
       "    }\n",
       "</style>\n",
       "<table border=\"1\" class=\"dataframe\">\n",
       "  <thead>\n",
       "    <tr style=\"text-align: right;\">\n",
       "      <th></th>\n",
       "      <th>num_orders</th>\n",
       "    </tr>\n",
       "    <tr>\n",
       "      <th>datetime</th>\n",
       "      <th></th>\n",
       "    </tr>\n",
       "  </thead>\n",
       "  <tbody>\n",
       "    <tr>\n",
       "      <th>2018-03-01 00:00:00</th>\n",
       "      <td>124</td>\n",
       "    </tr>\n",
       "    <tr>\n",
       "      <th>2018-03-01 01:00:00</th>\n",
       "      <td>85</td>\n",
       "    </tr>\n",
       "    <tr>\n",
       "      <th>2018-03-01 02:00:00</th>\n",
       "      <td>71</td>\n",
       "    </tr>\n",
       "    <tr>\n",
       "      <th>2018-03-01 03:00:00</th>\n",
       "      <td>66</td>\n",
       "    </tr>\n",
       "    <tr>\n",
       "      <th>2018-03-01 04:00:00</th>\n",
       "      <td>43</td>\n",
       "    </tr>\n",
       "  </tbody>\n",
       "</table>\n",
       "</div>"
      ],
      "text/plain": [
       "                     num_orders\n",
       "datetime                       \n",
       "2018-03-01 00:00:00         124\n",
       "2018-03-01 01:00:00          85\n",
       "2018-03-01 02:00:00          71\n",
       "2018-03-01 03:00:00          66\n",
       "2018-03-01 04:00:00          43"
      ]
     },
     "execution_count": 4,
     "metadata": {},
     "output_type": "execute_result"
    }
   ],
   "source": [
    "# Reamostrando os dados para 1 hora\n",
    "data = data.resample('1h').sum()\n",
    "data.head()"
   ]
  },
  {
   "cell_type": "markdown",
   "metadata": {},
   "source": [
    "## Análise"
   ]
  },
  {
   "cell_type": "code",
   "execution_count": 5,
   "metadata": {},
   "outputs": [
    {
     "name": "stdout",
     "output_type": "stream",
     "text": [
      "<class 'pandas.core.frame.DataFrame'>\n",
      "DatetimeIndex: 4416 entries, 2018-03-01 00:00:00 to 2018-08-31 23:00:00\n",
      "Freq: h\n",
      "Data columns (total 1 columns):\n",
      " #   Column      Non-Null Count  Dtype\n",
      "---  ------      --------------  -----\n",
      " 0   num_orders  4416 non-null   int64\n",
      "dtypes: int64(1)\n",
      "memory usage: 69.0 KB\n"
     ]
    }
   ],
   "source": [
    "data.info()"
   ]
  },
  {
   "cell_type": "markdown",
   "metadata": {},
   "source": [
    "O DataFrame tem somente uma coluna 'num_orders' e não apresenta dados nulos. Portanto não precisamos ajustá-lo neste sentido."
   ]
  },
  {
   "cell_type": "code",
   "execution_count": 6,
   "metadata": {},
   "outputs": [
    {
     "data": {
      "text/plain": [
       "True"
      ]
     },
     "execution_count": 6,
     "metadata": {},
     "output_type": "execute_result"
    }
   ],
   "source": [
    "# Verificando se as datas nos índices apresentam crescimento monotônico.\n",
    "data.index.is_monotonic_increasing"
   ]
  },
  {
   "cell_type": "markdown",
   "metadata": {},
   "source": [
    "Os dados estão em ordem cronológica, conforme nossa necessidade."
   ]
  },
  {
   "cell_type": "code",
   "execution_count": 7,
   "metadata": {},
   "outputs": [
    {
     "data": {
      "text/plain": [
       "False"
      ]
     },
     "execution_count": 7,
     "metadata": {},
     "output_type": "execute_result"
    }
   ],
   "source": [
    "# Verificando se os dados de 'num_orders' apresentam crescimento monotônico.\n",
    "data.num_orders.is_monotonic_increasing"
   ]
  },
  {
   "cell_type": "code",
   "execution_count": 8,
   "metadata": {},
   "outputs": [
    {
     "data": {
      "text/plain": [
       "<Axes: xlabel='datetime'>"
      ]
     },
     "execution_count": 8,
     "metadata": {},
     "output_type": "execute_result"
    },
    {
     "data": {
      "image/png": "[encoded data removed]",
      "text/plain": [
       "<Figure size 640x480 with 1 Axes>"
      ]
     },
     "metadata": {},
     "output_type": "display_data"
    }
   ],
   "source": [
    "# Plotando os dados \n",
    "data.plot()"
   ]
  },
  {
   "cell_type": "markdown",
   "metadata": {},
   "source": [
    "### Decomposição"
   ]
  },
  {
   "cell_type": "code",
   "execution_count": 9,
   "metadata": {},
   "outputs": [
    {
     "data": {
      "image/png": "[encoded data removed]",
      "text/plain": [
       "<Figure size 800x800 with 3 Axes>"
      ]
     },
     "metadata": {},
     "output_type": "display_data"
    }
   ],
   "source": [
    "# Fazendo a decomposição dos dados em tendência, sazonalidade e resíduo\n",
    "decompose = seasonal_decompose(data)\n",
    "\n",
    "# Plotando tendência\n",
    "plt.figure(figsize=(8,8))\n",
    "plt.subplot(311)\n",
    "decompose.trend.plot(ax=plt.gca())\n",
    "plt.title('Tendência')\n",
    "\n",
    "# Plotando sazonalidade\n",
    "plt.subplot(312)\n",
    "decompose.seasonal.plot(ax=plt.gca())\n",
    "plt.title('Sazonalidade')\n",
    "\n",
    "# Plotando resíduo\n",
    "plt.subplot(313)\n",
    "decompose.resid.plot(ax=plt.gca())\n",
    "plt.title('Resíduos')\n",
    "\n",
    "plt.tight_layout()"
   ]
  },
  {
   "cell_type": "markdown",
   "metadata": {},
   "source": [
    "**Tendência:** Os dados apresentam uma tendência de alta em relação aos pedidos de táxi de abril até agosto;  \n",
    "\n",
    "**Sazonalidade:** A densidade das linhas indica que há padrões que se repetem com frequência, sugerindo ciclos diários de demanda. As oscilações mostram as flutuações de hora em hora. Esse comportamento sugere variações significativas dentro de cada dia, reforçando a ideia de horários de pico e vales de demanda. A alta densidade de linhas pode indicar que, em algumas horas, a demanda muda rapidamente.\n",
    "\n",
    "**Resíduos:** O gráfico mostrou que há bastante variabilidade, com alguns picos. Isso indica que existem variabilidades nos dados que são imprevisíveis e não seguem um padrão fixo. Isso pode estar relacionado a vários fatores, como horários de chuva, eventos, entre outros que não temos dados suficientes para explorar."
   ]
  },
  {
   "cell_type": "markdown",
   "metadata": {},
   "source": [
    "### Diferenças de séries temporais"
   ]
  },
  {
   "cell_type": "code",
   "execution_count": 10,
   "metadata": {},
   "outputs": [
    {
     "data": {
      "text/html": [
       "<div>\n",
       "<style scoped>\n",
       "    .dataframe tbody tr th:only-of-type {\n",
       "        vertical-align: middle;\n",
       "    }\n",
       "\n",
       "    .dataframe tbody tr th {\n",
       "        vertical-align: top;\n",
       "    }\n",
       "\n",
       "    .dataframe thead th {\n",
       "        text-align: right;\n",
       "    }\n",
       "</style>\n",
       "<table border=\"1\" class=\"dataframe\">\n",
       "  <thead>\n",
       "    <tr style=\"text-align: right;\">\n",
       "      <th></th>\n",
       "      <th>num_orders</th>\n",
       "      <th>diff</th>\n",
       "    </tr>\n",
       "    <tr>\n",
       "      <th>datetime</th>\n",
       "      <th></th>\n",
       "      <th></th>\n",
       "    </tr>\n",
       "  </thead>\n",
       "  <tbody>\n",
       "    <tr>\n",
       "      <th>2018-03-01 00:00:00</th>\n",
       "      <td>124</td>\n",
       "      <td>124</td>\n",
       "    </tr>\n",
       "    <tr>\n",
       "      <th>2018-03-01 01:00:00</th>\n",
       "      <td>85</td>\n",
       "      <td>-39</td>\n",
       "    </tr>\n",
       "    <tr>\n",
       "      <th>2018-03-01 02:00:00</th>\n",
       "      <td>71</td>\n",
       "      <td>-14</td>\n",
       "    </tr>\n",
       "    <tr>\n",
       "      <th>2018-03-01 03:00:00</th>\n",
       "      <td>66</td>\n",
       "      <td>-5</td>\n",
       "    </tr>\n",
       "    <tr>\n",
       "      <th>2018-03-01 04:00:00</th>\n",
       "      <td>43</td>\n",
       "      <td>-23</td>\n",
       "    </tr>\n",
       "  </tbody>\n",
       "</table>\n",
       "</div>"
      ],
      "text/plain": [
       "                     num_orders  diff\n",
       "datetime                             \n",
       "2018-03-01 00:00:00         124   124\n",
       "2018-03-01 01:00:00          85   -39\n",
       "2018-03-01 02:00:00          71   -14\n",
       "2018-03-01 03:00:00          66    -5\n",
       "2018-03-01 04:00:00          43   -23"
      ]
     },
     "execution_count": 10,
     "metadata": {},
     "output_type": "execute_result"
    }
   ],
   "source": [
    "# Criando coluna com a diferença das séries temporais\n",
    "data_shift = data['num_orders'].shift(fill_value=0)\n",
    "data['diff'] = data['num_orders'] - data_shift\n",
    "\n",
    "data.head()"
   ]
  },
  {
   "cell_type": "markdown",
   "metadata": {},
   "source": [
    "#### Decomposição da diferença das séries temporais"
   ]
  },
  {
   "cell_type": "code",
   "execution_count": 11,
   "metadata": {},
   "outputs": [
    {
     "data": {
      "image/png": "[encoded data removed]",
      "text/plain": [
       "<Figure size 800x800 with 3 Axes>"
      ]
     },
     "metadata": {},
     "output_type": "display_data"
    }
   ],
   "source": [
    "decompose = seasonal_decompose(data['diff'])\n",
    "\n",
    "plt.figure(figsize=(8,8))\n",
    "plt.subplot(311)\n",
    "decompose.trend.plot(ax=plt.gca())\n",
    "plt.title('Tendência')\n",
    "\n",
    "plt.subplot(312)\n",
    "decompose.seasonal.plot(ax=plt.gca())\n",
    "plt.title('Sazonalidade')\n",
    "\n",
    "plt.subplot(313)\n",
    "decompose.resid.plot(ax=plt.gca())\n",
    "plt.title('Resíduos')\n",
    "\n",
    "plt.tight_layout()"
   ]
  },
  {
   "cell_type": "markdown",
   "metadata": {},
   "source": [
    "### Criando características"
   ]
  },
  {
   "cell_type": "code",
   "execution_count": 12,
   "metadata": {},
   "outputs": [],
   "source": [
    "def make_features(data, max_lag, rolling_mean_size):\n",
    "\n",
    "    data['day_of_week'] = data.index.dayofweek\n",
    "    data['day'] = data.index.day\n",
    "    data['month'] = data.index.month\n",
    "    data['hour'] = data.index.hour\n",
    "    \n",
    "    data['rolling_mean'] = data['num_orders'].shift().rolling(rolling_mean_size).mean()\n",
    "    \n",
    "    for lag in range(1, max_lag+1):\n",
    "        data['lag_{}'.format(lag)] = data['num_orders'].shift(lag)\n",
    "        \n",
    "    return data"
   ]
  },
  {
   "cell_type": "code",
   "execution_count": 13,
   "metadata": {},
   "outputs": [
    {
     "data": {
      "text/html": [
       "<div>\n",
       "<style scoped>\n",
       "    .dataframe tbody tr th:only-of-type {\n",
       "        vertical-align: middle;\n",
       "    }\n",
       "\n",
       "    .dataframe tbody tr th {\n",
       "        vertical-align: top;\n",
       "    }\n",
       "\n",
       "    .dataframe thead th {\n",
       "        text-align: right;\n",
       "    }\n",
       "</style>\n",
       "<table border=\"1\" class=\"dataframe\">\n",
       "  <thead>\n",
       "    <tr style=\"text-align: right;\">\n",
       "      <th></th>\n",
       "      <th>num_orders</th>\n",
       "      <th>diff</th>\n",
       "      <th>day_of_week</th>\n",
       "      <th>day</th>\n",
       "      <th>month</th>\n",
       "      <th>hour</th>\n",
       "      <th>rolling_mean</th>\n",
       "      <th>lag_1</th>\n",
       "      <th>lag_2</th>\n",
       "      <th>lag_3</th>\n",
       "      <th>...</th>\n",
       "      <th>lag_15</th>\n",
       "      <th>lag_16</th>\n",
       "      <th>lag_17</th>\n",
       "      <th>lag_18</th>\n",
       "      <th>lag_19</th>\n",
       "      <th>lag_20</th>\n",
       "      <th>lag_21</th>\n",
       "      <th>lag_22</th>\n",
       "      <th>lag_23</th>\n",
       "      <th>lag_24</th>\n",
       "    </tr>\n",
       "    <tr>\n",
       "      <th>datetime</th>\n",
       "      <th></th>\n",
       "      <th></th>\n",
       "      <th></th>\n",
       "      <th></th>\n",
       "      <th></th>\n",
       "      <th></th>\n",
       "      <th></th>\n",
       "      <th></th>\n",
       "      <th></th>\n",
       "      <th></th>\n",
       "      <th></th>\n",
       "      <th></th>\n",
       "      <th></th>\n",
       "      <th></th>\n",
       "      <th></th>\n",
       "      <th></th>\n",
       "      <th></th>\n",
       "      <th></th>\n",
       "      <th></th>\n",
       "      <th></th>\n",
       "      <th></th>\n",
       "    </tr>\n",
       "  </thead>\n",
       "  <tbody>\n",
       "    <tr>\n",
       "      <th>2018-03-01 00:00:00</th>\n",
       "      <td>124</td>\n",
       "      <td>124</td>\n",
       "      <td>3</td>\n",
       "      <td>1</td>\n",
       "      <td>3</td>\n",
       "      <td>0</td>\n",
       "      <td>NaN</td>\n",
       "      <td>NaN</td>\n",
       "      <td>NaN</td>\n",
       "      <td>NaN</td>\n",
       "      <td>...</td>\n",
       "      <td>NaN</td>\n",
       "      <td>NaN</td>\n",
       "      <td>NaN</td>\n",
       "      <td>NaN</td>\n",
       "      <td>NaN</td>\n",
       "      <td>NaN</td>\n",
       "      <td>NaN</td>\n",
       "      <td>NaN</td>\n",
       "      <td>NaN</td>\n",
       "      <td>NaN</td>\n",
       "    </tr>\n",
       "    <tr>\n",
       "      <th>2018-03-01 01:00:00</th>\n",
       "      <td>85</td>\n",
       "      <td>-39</td>\n",
       "      <td>3</td>\n",
       "      <td>1</td>\n",
       "      <td>3</td>\n",
       "      <td>1</td>\n",
       "      <td>NaN</td>\n",
       "      <td>124.0</td>\n",
       "      <td>NaN</td>\n",
       "      <td>NaN</td>\n",
       "      <td>...</td>\n",
       "      <td>NaN</td>\n",
       "      <td>NaN</td>\n",
       "      <td>NaN</td>\n",
       "      <td>NaN</td>\n",
       "      <td>NaN</td>\n",
       "      <td>NaN</td>\n",
       "      <td>NaN</td>\n",
       "      <td>NaN</td>\n",
       "      <td>NaN</td>\n",
       "      <td>NaN</td>\n",
       "    </tr>\n",
       "    <tr>\n",
       "      <th>2018-03-01 02:00:00</th>\n",
       "      <td>71</td>\n",
       "      <td>-14</td>\n",
       "      <td>3</td>\n",
       "      <td>1</td>\n",
       "      <td>3</td>\n",
       "      <td>2</td>\n",
       "      <td>NaN</td>\n",
       "      <td>85.0</td>\n",
       "      <td>124.0</td>\n",
       "      <td>NaN</td>\n",
       "      <td>...</td>\n",
       "      <td>NaN</td>\n",
       "      <td>NaN</td>\n",
       "      <td>NaN</td>\n",
       "      <td>NaN</td>\n",
       "      <td>NaN</td>\n",
       "      <td>NaN</td>\n",
       "      <td>NaN</td>\n",
       "      <td>NaN</td>\n",
       "      <td>NaN</td>\n",
       "      <td>NaN</td>\n",
       "    </tr>\n",
       "    <tr>\n",
       "      <th>2018-03-01 03:00:00</th>\n",
       "      <td>66</td>\n",
       "      <td>-5</td>\n",
       "      <td>3</td>\n",
       "      <td>1</td>\n",
       "      <td>3</td>\n",
       "      <td>3</td>\n",
       "      <td>NaN</td>\n",
       "      <td>71.0</td>\n",
       "      <td>85.0</td>\n",
       "      <td>124.0</td>\n",
       "      <td>...</td>\n",
       "      <td>NaN</td>\n",
       "      <td>NaN</td>\n",
       "      <td>NaN</td>\n",
       "      <td>NaN</td>\n",
       "      <td>NaN</td>\n",
       "      <td>NaN</td>\n",
       "      <td>NaN</td>\n",
       "      <td>NaN</td>\n",
       "      <td>NaN</td>\n",
       "      <td>NaN</td>\n",
       "    </tr>\n",
       "    <tr>\n",
       "      <th>2018-03-01 04:00:00</th>\n",
       "      <td>43</td>\n",
       "      <td>-23</td>\n",
       "      <td>3</td>\n",
       "      <td>1</td>\n",
       "      <td>3</td>\n",
       "      <td>4</td>\n",
       "      <td>NaN</td>\n",
       "      <td>66.0</td>\n",
       "      <td>71.0</td>\n",
       "      <td>85.0</td>\n",
       "      <td>...</td>\n",
       "      <td>NaN</td>\n",
       "      <td>NaN</td>\n",
       "      <td>NaN</td>\n",
       "      <td>NaN</td>\n",
       "      <td>NaN</td>\n",
       "      <td>NaN</td>\n",
       "      <td>NaN</td>\n",
       "      <td>NaN</td>\n",
       "      <td>NaN</td>\n",
       "      <td>NaN</td>\n",
       "    </tr>\n",
       "  </tbody>\n",
       "</table>\n",
       "<p>5 rows × 31 columns</p>\n",
       "</div>"
      ],
      "text/plain": [
       "                     num_orders  diff  day_of_week  day  month  hour  \\\n",
       "datetime                                                               \n",
       "2018-03-01 00:00:00         124   124            3    1      3     0   \n",
       "2018-03-01 01:00:00          85   -39            3    1      3     1   \n",
       "2018-03-01 02:00:00          71   -14            3    1      3     2   \n",
       "2018-03-01 03:00:00          66    -5            3    1      3     3   \n",
       "2018-03-01 04:00:00          43   -23            3    1      3     4   \n",
       "\n",
       "                     rolling_mean  lag_1  lag_2  lag_3  ...  lag_15  lag_16  \\\n",
       "datetime                                                ...                   \n",
       "2018-03-01 00:00:00           NaN    NaN    NaN    NaN  ...     NaN     NaN   \n",
       "2018-03-01 01:00:00           NaN  124.0    NaN    NaN  ...     NaN     NaN   \n",
       "2018-03-01 02:00:00           NaN   85.0  124.0    NaN  ...     NaN     NaN   \n",
       "2018-03-01 03:00:00           NaN   71.0   85.0  124.0  ...     NaN     NaN   \n",
       "2018-03-01 04:00:00           NaN   66.0   71.0   85.0  ...     NaN     NaN   \n",
       "\n",
       "                     lag_17  lag_18  lag_19  lag_20  lag_21  lag_22  lag_23  \\\n",
       "datetime                                                                      \n",
       "2018-03-01 00:00:00     NaN     NaN     NaN     NaN     NaN     NaN     NaN   \n",
       "2018-03-01 01:00:00     NaN     NaN     NaN     NaN     NaN     NaN     NaN   \n",
       "2018-03-01 02:00:00     NaN     NaN     NaN     NaN     NaN     NaN     NaN   \n",
       "2018-03-01 03:00:00     NaN     NaN     NaN     NaN     NaN     NaN     NaN   \n",
       "2018-03-01 04:00:00     NaN     NaN     NaN     NaN     NaN     NaN     NaN   \n",
       "\n",
       "                     lag_24  \n",
       "datetime                     \n",
       "2018-03-01 00:00:00     NaN  \n",
       "2018-03-01 01:00:00     NaN  \n",
       "2018-03-01 02:00:00     NaN  \n",
       "2018-03-01 03:00:00     NaN  \n",
       "2018-03-01 04:00:00     NaN  \n",
       "\n",
       "[5 rows x 31 columns]"
      ]
     },
     "execution_count": 13,
     "metadata": {},
     "output_type": "execute_result"
    }
   ],
   "source": [
    "# Chamando a função para criar as colunas de características\n",
    "# Escolhi 24 devido ao dia ter 24 horas\n",
    "make_features(data, 24, 24)\n",
    "data.head()"
   ]
  },
  {
   "cell_type": "markdown",
   "metadata": {},
   "source": [
    "### Divisão dos dados em conjuntos de treino, validação e teste"
   ]
  },
  {
   "cell_type": "code",
   "execution_count": 14,
   "metadata": {},
   "outputs": [
    {
     "name": "stdout",
     "output_type": "stream",
     "text": [
      "(3508, 30)\n",
      "(3508,)\n",
      "(442, 30)\n",
      "(442,)\n",
      "(442, 30)\n",
      "(442,)\n"
     ]
    }
   ],
   "source": [
    "# Na primeira etapa, dividiremos os dados em 80% para conjunto de \"treinamento\" e 20% para \"conjunto de dados restantes\"\n",
    "train, remain = train_test_split(data, shuffle=False, test_size=0.2)\n",
    "\n",
    "# Como queremos 10% dos dados iniciais para teste, vamos definir test_size que represente 50% dos dados restantes\n",
    "valid, test = train_test_split(remain, shuffle=False, test_size=0.5)\n",
    "\n",
    "\n",
    "train = train.dropna()\n",
    "\n",
    "features_train = train.drop(['num_orders'], axis=1)\n",
    "target_train = train['num_orders']\n",
    "\n",
    "features_valid = valid.drop(['num_orders'], axis=1)\n",
    "target_valid = valid['num_orders']\n",
    "\n",
    "features_test = test.drop(['num_orders'], axis=1)\n",
    "target_test = test['num_orders']\n",
    "\n",
    "print(features_train.shape)\n",
    "print(target_train.shape)\n",
    "print(features_valid.shape)\n",
    "print(target_valid.shape)\n",
    "print(features_test.shape)\n",
    "print(target_test.shape)"
   ]
  },
  {
   "cell_type": "code",
   "execution_count": 15,
   "metadata": {},
   "outputs": [
    {
     "data": {
      "image/png": "[encoded data removed]",
      "text/plain": [
       "<Figure size 1000x400 with 1 Axes>"
      ]
     },
     "metadata": {},
     "output_type": "display_data"
    },
    {
     "data": {
      "image/png": "[encoded data removed]",
      "text/plain": [
       "<Figure size 1000x400 with 1 Axes>"
      ]
     },
     "metadata": {},
     "output_type": "display_data"
    }
   ],
   "source": [
    "# Criando gráfico para inspeção visual da distribuição e comportamento dos dados\n",
    "position_train = int(0.8 * len(data))\n",
    "vertical_line_position_train = data.index[position_train]\n",
    "\n",
    "position_valid = int(0.9 * len(data))\n",
    "vertical_line_position_valid = data.index[position_valid]\n",
    "\n",
    "\n",
    "# Coluna num_orders\n",
    "plt.figure(figsize=(10, 4))\n",
    "plt.plot(data.index, data['num_orders'])\n",
    "\n",
    "# Adicionando as linhas verticais\n",
    "plt.axvline(x=vertical_line_position_train, color='r', linestyle='--')\n",
    "plt.axvline(x=vertical_line_position_valid, color='r', linestyle='--')\n",
    "\n",
    "# Adicionando título e rótulos dos eixos\n",
    "plt.title(\"Distribuição dos conjuntos | treino | validação | teste | para coluna 'num_orders'\")\n",
    "plt.xlabel('Período')\n",
    "plt.ylabel('N Pedidos')\n",
    "\n",
    "\n",
    "\n",
    "# Coluna 'diff'\n",
    "plt.figure(figsize=(10, 4))\n",
    "plt.plot(data.index, data['diff'])\n",
    "\n",
    "# Adicionando as linhas verticais\n",
    "plt.axvline(x=vertical_line_position_train, color='r', linestyle='--')\n",
    "plt.axvline(x=vertical_line_position_valid, color='r', linestyle='--')\n",
    "\n",
    "# Adicionando título e rótulos dos eixos\n",
    "plt.title(\"Distribuição dos conjuntos | treino | validação | teste | para coluna 'diff'\")\n",
    "plt.xlabel('Período')\n",
    "plt.ylabel('N Pedidos')\n",
    "\n",
    "plt.show()"
   ]
  },
  {
   "cell_type": "markdown",
   "metadata": {},
   "source": [
    "## Treinamento e teste dos modelos"
   ]
  },
  {
   "cell_type": "markdown",
   "metadata": {},
   "source": [
    "### Regressão Linear"
   ]
  },
  {
   "cell_type": "code",
   "execution_count": 16,
   "metadata": {},
   "outputs": [
    {
     "name": "stdout",
     "output_type": "stream",
     "text": [
      "Tempo de execução: 0.10393829992972314 segundos\n",
      "REQM para conjunto de validação: 8.215104553092869e-14\n",
      "\n",
      "REQM para conjunto de teste: 1.2711147744212784e-13\n"
     ]
    }
   ],
   "source": [
    "model_reg = LinearRegression()\n",
    "\n",
    "# Medindo o tempo de treinamento do modelo\n",
    "time_train_reg = timeit.timeit(lambda: model_reg.fit(features_train, target_train), number=1)\n",
    "\n",
    "model_reg.fit(features_train, target_train)\n",
    "\n",
    "predict_valid_reg = model_reg.predict(features_valid)\n",
    "reqm_valid_reg = root_mean_squared_error(predict_valid_reg, target_valid)\n",
    "\n",
    "predict_test_reg = model_reg.predict(features_test)\n",
    "reqm_test_reg = root_mean_squared_error(predict_test_reg, target_test)\n",
    "\n",
    "print(f'Tempo de execução: {time_train_reg} segundos')\n",
    "print('REQM para conjunto de validação:', reqm_valid_reg)\n",
    "print()\n",
    "print('REQM para conjunto de teste:', reqm_test_reg)"
   ]
  },
  {
   "cell_type": "markdown",
   "metadata": {},
   "source": [
    "### Floresta Aleatória"
   ]
  },
  {
   "cell_type": "code",
   "execution_count": 17,
   "metadata": {},
   "outputs": [
    {
     "name": "stdout",
     "output_type": "stream",
     "text": [
      "Melhores Hiperparâmetros: {'max_depth': 20, 'min_samples_split': 2, 'n_estimators': 50}\n",
      "Tempo de execução: 95.46971569978632 segundos\n",
      "\n",
      "REQM para conjunto de validação: 14.917263223575832\n",
      "\n",
      "REQM para conjunto de teste: 29.208791012265294\n"
     ]
    }
   ],
   "source": [
    "# Definindo o modelo de Floresta Aleatória\n",
    "model_forest = RandomForestRegressor(random_state=12345)\n",
    "\n",
    "# Definindo a grade de hiperparâmetros\n",
    "param_grid = {'n_estimators': [1, 5, 10, 50],\n",
    "              'max_depth': [None, 2, 5, 10, 20, 30],\n",
    "              'min_samples_split': [2, 5, 10, 20]}\n",
    "\n",
    "# Configurando o GridSearchCV\n",
    "grid_search = GridSearchCV(estimator=model_forest, param_grid=param_grid, cv=3, n_jobs=-1, scoring='neg_mean_squared_error')\n",
    "\n",
    "\n",
    "# Função para executar o ajuste do modelo\n",
    "def fit_model_forest():\n",
    "    grid_search.fit(features_train, target_train)\n",
    "\n",
    "# Medindo o tempo de execução do treinamento\n",
    "time_train_forest = timeit.timeit(fit_model_forest, number=1)\n",
    "\n",
    "# Treinando o modelo e fazendo as predições\n",
    "grid_search.fit(features_train, target_train)\n",
    "best_model_forest = grid_search.best_estimator_\n",
    "\n",
    "\n",
    "predict_valid_forest = best_model_forest.predict(features_valid)\n",
    "predict_test_forest = best_model_forest.predict(features_test)\n",
    "\n",
    "\n",
    "# Avaliando o modelo\n",
    "reqm_valid_forest = root_mean_squared_error(target_valid, predict_valid_forest)\n",
    "reqm_test_forest = root_mean_squared_error(target_test, predict_test_forest)\n",
    "print('Melhores Hiperparâmetros:', grid_search.best_params_)\n",
    "print(f'Tempo de execução: {time_train_forest} segundos')\n",
    "print()\n",
    "print('REQM para conjunto de validação:', reqm_valid_forest)\n",
    "print()\n",
    "print('REQM para conjunto de teste:', reqm_test_forest)"
   ]
  },
  {
   "cell_type": "markdown",
   "metadata": {},
   "source": [
    "### CatBoost"
   ]
  },
  {
   "cell_type": "code",
   "execution_count": 27,
   "metadata": {
    "scrolled": true
   },
   "outputs": [
    {
     "name": "stdout",
     "output_type": "stream",
     "text": [
      "Learning rate set to 0.049923\n",
      "0:\tlearn: 34.6137281\ttotal: 18.8ms\tremaining: 18.8s\n",
      "1:\tlearn: 33.4929033\ttotal: 30.4ms\tremaining: 15.2s\n",
      "2:\tlearn: 32.3481372\ttotal: 77.9ms\tremaining: 25.9s\n",
      "3:\tlearn: 31.2097924\ttotal: 109ms\tremaining: 27.2s\n",
      "4:\tlearn: 30.3229327\ttotal: 172ms\tremaining: 34.2s\n",
      "5:\tlearn: 29.3582961\ttotal: 260ms\tremaining: 43.1s\n",
      "6:\tlearn: 28.4006837\ttotal: 290ms\tremaining: 41.1s\n",
      "7:\tlearn: 27.5304065\ttotal: 318ms\tremaining: 39.5s\n",
      "8:\tlearn: 26.7037320\ttotal: 340ms\tremaining: 37.5s\n",
      "9:\tlearn: 25.8850924\ttotal: 352ms\tremaining: 34.9s\n",
      "10:\tlearn: 25.1884077\ttotal: 383ms\tremaining: 34.5s\n",
      "11:\tlearn: 24.4545866\ttotal: 411ms\tremaining: 33.9s\n",
      "12:\tlearn: 23.6817513\ttotal: 421ms\tremaining: 32s\n",
      "13:\tlearn: 22.9331275\ttotal: 431ms\tremaining: 30.3s\n",
      "14:\tlearn: 22.2033585\ttotal: 440ms\tremaining: 28.9s\n",
      "15:\tlearn: 21.5290459\ttotal: 451ms\tremaining: 27.7s\n",
      "16:\tlearn: 20.9248781\ttotal: 460ms\tremaining: 26.6s\n",
      "17:\tlearn: 20.3660707\ttotal: 470ms\tremaining: 25.6s\n",
      "18:\tlearn: 19.7477827\ttotal: 481ms\tremaining: 24.8s\n",
      "19:\tlearn: 19.1961015\ttotal: 497ms\tremaining: 24.4s\n",
      "20:\tlearn: 18.6550017\ttotal: 505ms\tremaining: 23.6s\n",
      "21:\tlearn: 18.0936032\ttotal: 517ms\tremaining: 23s\n",
      "22:\tlearn: 17.5304098\ttotal: 528ms\tremaining: 22.4s\n",
      "23:\tlearn: 17.0654902\ttotal: 544ms\tremaining: 22.1s\n",
      "24:\tlearn: 16.5810871\ttotal: 553ms\tremaining: 21.6s\n",
      "25:\tlearn: 16.1547774\ttotal: 564ms\tremaining: 21.1s\n",
      "26:\tlearn: 15.7187573\ttotal: 582ms\tremaining: 21s\n",
      "27:\tlearn: 15.2826082\ttotal: 595ms\tremaining: 20.6s\n",
      "28:\tlearn: 14.8181028\ttotal: 603ms\tremaining: 20.2s\n",
      "29:\tlearn: 14.4167034\ttotal: 614ms\tremaining: 19.9s\n",
      "30:\tlearn: 14.0396176\ttotal: 627ms\tremaining: 19.6s\n",
      "31:\tlearn: 13.6312788\ttotal: 637ms\tremaining: 19.3s\n",
      "32:\tlearn: 13.2820210\ttotal: 648ms\tremaining: 19s\n",
      "33:\tlearn: 12.9541458\ttotal: 658ms\tremaining: 18.7s\n",
      "34:\tlearn: 12.6115293\ttotal: 666ms\tremaining: 18.4s\n",
      "35:\tlearn: 12.2856952\ttotal: 676ms\tremaining: 18.1s\n",
      "36:\tlearn: 12.0030836\ttotal: 688ms\tremaining: 17.9s\n",
      "37:\tlearn: 11.7207068\ttotal: 698ms\tremaining: 17.7s\n",
      "38:\tlearn: 11.4492319\ttotal: 713ms\tremaining: 17.6s\n",
      "39:\tlearn: 11.1875044\ttotal: 724ms\tremaining: 17.4s\n",
      "40:\tlearn: 10.9115188\ttotal: 733ms\tremaining: 17.2s\n",
      "41:\tlearn: 10.6417953\ttotal: 743ms\tremaining: 17s\n",
      "42:\tlearn: 10.4721406\ttotal: 753ms\tremaining: 16.8s\n",
      "43:\tlearn: 10.2514263\ttotal: 761ms\tremaining: 16.5s\n",
      "44:\tlearn: 9.9991456\ttotal: 770ms\tremaining: 16.3s\n",
      "45:\tlearn: 9.7812487\ttotal: 779ms\tremaining: 16.2s\n",
      "46:\tlearn: 9.5954623\ttotal: 789ms\tremaining: 16s\n",
      "47:\tlearn: 9.3973314\ttotal: 800ms\tremaining: 15.9s\n",
      "48:\tlearn: 9.1902365\ttotal: 809ms\tremaining: 15.7s\n",
      "49:\tlearn: 8.9893772\ttotal: 818ms\tremaining: 15.5s\n",
      "50:\tlearn: 8.8227863\ttotal: 826ms\tremaining: 15.4s\n",
      "51:\tlearn: 8.6305097\ttotal: 835ms\tremaining: 15.2s\n",
      "52:\tlearn: 8.4576890\ttotal: 843ms\tremaining: 15.1s\n",
      "53:\tlearn: 8.3052835\ttotal: 853ms\tremaining: 14.9s\n",
      "54:\tlearn: 8.1389732\ttotal: 861ms\tremaining: 14.8s\n",
      "55:\tlearn: 8.0274152\ttotal: 870ms\tremaining: 14.7s\n",
      "56:\tlearn: 7.8929810\ttotal: 883ms\tremaining: 14.6s\n",
      "57:\tlearn: 7.7748799\ttotal: 892ms\tremaining: 14.5s\n",
      "58:\tlearn: 7.6337606\ttotal: 902ms\tremaining: 14.4s\n",
      "59:\tlearn: 7.5120618\ttotal: 915ms\tremaining: 14.3s\n",
      "60:\tlearn: 7.3740193\ttotal: 923ms\tremaining: 14.2s\n",
      "61:\tlearn: 7.2448842\ttotal: 933ms\tremaining: 14.1s\n",
      "62:\tlearn: 7.1410268\ttotal: 942ms\tremaining: 14s\n",
      "63:\tlearn: 7.0362674\ttotal: 952ms\tremaining: 13.9s\n",
      "64:\tlearn: 6.9386774\ttotal: 961ms\tremaining: 13.8s\n",
      "65:\tlearn: 6.8503795\ttotal: 970ms\tremaining: 13.7s\n",
      "66:\tlearn: 6.7611542\ttotal: 980ms\tremaining: 13.6s\n",
      "67:\tlearn: 6.6632096\ttotal: 987ms\tremaining: 13.5s\n",
      "68:\tlearn: 6.5686237\ttotal: 997ms\tremaining: 13.4s\n",
      "69:\tlearn: 6.4749213\ttotal: 1.01s\tremaining: 13.4s\n",
      "70:\tlearn: 6.3976517\ttotal: 1.01s\tremaining: 13.3s\n",
      "71:\tlearn: 6.3061111\ttotal: 1.02s\tremaining: 13.2s\n",
      "72:\tlearn: 6.2384969\ttotal: 1.03s\tremaining: 13.1s\n",
      "73:\tlearn: 6.1584719\ttotal: 1.04s\tremaining: 13s\n",
      "74:\tlearn: 6.1050788\ttotal: 1.05s\tremaining: 13s\n",
      "75:\tlearn: 6.0420066\ttotal: 1.06s\tremaining: 12.9s\n",
      "76:\tlearn: 5.9819261\ttotal: 1.07s\tremaining: 12.8s\n",
      "77:\tlearn: 5.9158930\ttotal: 1.08s\tremaining: 12.7s\n",
      "78:\tlearn: 5.8707683\ttotal: 1.09s\tremaining: 12.7s\n",
      "79:\tlearn: 5.8088760\ttotal: 1.1s\tremaining: 12.6s\n",
      "80:\tlearn: 5.7404125\ttotal: 1.11s\tremaining: 12.6s\n",
      "81:\tlearn: 5.6835897\ttotal: 1.12s\tremaining: 12.5s\n",
      "82:\tlearn: 5.6185538\ttotal: 1.13s\tremaining: 12.5s\n",
      "83:\tlearn: 5.5462269\ttotal: 1.14s\tremaining: 12.4s\n",
      "84:\tlearn: 5.4941834\ttotal: 1.15s\tremaining: 12.3s\n",
      "85:\tlearn: 5.4462800\ttotal: 1.16s\tremaining: 12.3s\n",
      "86:\tlearn: 5.3914314\ttotal: 1.16s\tremaining: 12.2s\n",
      "87:\tlearn: 5.3379912\ttotal: 1.17s\tremaining: 12.2s\n",
      "88:\tlearn: 5.2737203\ttotal: 1.18s\tremaining: 12.1s\n",
      "89:\tlearn: 5.2372605\ttotal: 1.19s\tremaining: 12s\n",
      "90:\tlearn: 5.1699343\ttotal: 1.2s\tremaining: 12s\n",
      "91:\tlearn: 5.1105989\ttotal: 1.21s\tremaining: 12s\n",
      "92:\tlearn: 5.0952110\ttotal: 1.23s\tremaining: 12s\n",
      "93:\tlearn: 5.0398490\ttotal: 1.24s\tremaining: 11.9s\n",
      "94:\tlearn: 4.9878268\ttotal: 1.25s\tremaining: 11.9s\n",
      "95:\tlearn: 4.9335253\ttotal: 1.25s\tremaining: 11.8s\n",
      "96:\tlearn: 4.8862251\ttotal: 1.26s\tremaining: 11.8s\n",
      "97:\tlearn: 4.8460047\ttotal: 1.28s\tremaining: 11.8s\n",
      "98:\tlearn: 4.7939116\ttotal: 1.29s\tremaining: 11.7s\n",
      "99:\tlearn: 4.7446839\ttotal: 1.3s\tremaining: 11.7s\n",
      "100:\tlearn: 4.7070100\ttotal: 1.31s\tremaining: 11.6s\n",
      "101:\tlearn: 4.6588783\ttotal: 1.32s\tremaining: 11.6s\n",
      "102:\tlearn: 4.6313409\ttotal: 1.33s\tremaining: 11.6s\n",
      "103:\tlearn: 4.5766447\ttotal: 1.34s\tremaining: 11.5s\n",
      "104:\tlearn: 4.5494709\ttotal: 1.35s\tremaining: 11.5s\n",
      "105:\tlearn: 4.4971963\ttotal: 1.36s\tremaining: 11.5s\n",
      "106:\tlearn: 4.4781999\ttotal: 1.37s\tremaining: 11.4s\n",
      "107:\tlearn: 4.4327991\ttotal: 1.37s\tremaining: 11.4s\n",
      "108:\tlearn: 4.4058058\ttotal: 1.38s\tremaining: 11.3s\n",
      "109:\tlearn: 4.3565357\ttotal: 1.39s\tremaining: 11.3s\n",
      "110:\tlearn: 4.3236624\ttotal: 1.4s\tremaining: 11.2s\n",
      "111:\tlearn: 4.3134785\ttotal: 1.41s\tremaining: 11.2s\n",
      "112:\tlearn: 4.2790578\ttotal: 1.42s\tremaining: 11.2s\n",
      "113:\tlearn: 4.2403946\ttotal: 1.43s\tremaining: 11.1s\n",
      "114:\tlearn: 4.2147019\ttotal: 1.44s\tremaining: 11.1s\n",
      "115:\tlearn: 4.1644960\ttotal: 1.46s\tremaining: 11.1s\n",
      "116:\tlearn: 4.1432880\ttotal: 1.47s\tremaining: 11.1s\n",
      "117:\tlearn: 4.0988564\ttotal: 1.48s\tremaining: 11s\n",
      "118:\tlearn: 4.0694574\ttotal: 1.49s\tremaining: 11s\n",
      "119:\tlearn: 4.0604715\ttotal: 1.5s\tremaining: 11s\n",
      "120:\tlearn: 4.0316987\ttotal: 1.51s\tremaining: 11s\n",
      "121:\tlearn: 3.9846603\ttotal: 1.52s\tremaining: 11s\n",
      "122:\tlearn: 3.9479170\ttotal: 1.53s\tremaining: 10.9s\n",
      "123:\tlearn: 3.9393516\ttotal: 1.55s\tremaining: 10.9s\n",
      "124:\tlearn: 3.8983675\ttotal: 1.56s\tremaining: 10.9s\n",
      "125:\tlearn: 3.8944046\ttotal: 1.57s\tremaining: 10.9s\n",
      "126:\tlearn: 3.8778767\ttotal: 1.58s\tremaining: 10.9s\n",
      "127:\tlearn: 3.8442527\ttotal: 1.59s\tremaining: 10.8s\n",
      "128:\tlearn: 3.8188896\ttotal: 1.6s\tremaining: 10.8s\n",
      "129:\tlearn: 3.7809169\ttotal: 1.62s\tremaining: 10.8s\n",
      "130:\tlearn: 3.7681983\ttotal: 1.63s\tremaining: 10.8s\n",
      "131:\tlearn: 3.7648856\ttotal: 1.64s\tremaining: 10.8s\n",
      "132:\tlearn: 3.7348877\ttotal: 1.65s\tremaining: 10.8s\n",
      "133:\tlearn: 3.7318113\ttotal: 1.66s\tremaining: 10.7s\n",
      "134:\tlearn: 3.7162444\ttotal: 1.68s\tremaining: 10.8s\n",
      "135:\tlearn: 3.6872389\ttotal: 1.69s\tremaining: 10.7s\n",
      "136:\tlearn: 3.6740581\ttotal: 1.71s\tremaining: 10.8s\n",
      "137:\tlearn: 3.6356516\ttotal: 1.73s\tremaining: 10.8s\n",
      "138:\tlearn: 3.6154790\ttotal: 1.76s\tremaining: 10.9s\n",
      "139:\tlearn: 3.5914385\ttotal: 1.78s\tremaining: 10.9s\n",
      "140:\tlearn: 3.5808138\ttotal: 1.79s\tremaining: 10.9s\n",
      "141:\tlearn: 3.5491030\ttotal: 1.8s\tremaining: 10.9s\n",
      "142:\tlearn: 3.5159435\ttotal: 1.81s\tremaining: 10.9s\n",
      "143:\tlearn: 3.5117876\ttotal: 1.82s\tremaining: 10.8s\n",
      "144:\tlearn: 3.4914186\ttotal: 1.83s\tremaining: 10.8s\n",
      "145:\tlearn: 3.4731519\ttotal: 1.85s\tremaining: 10.8s\n",
      "146:\tlearn: 3.4465065\ttotal: 1.86s\tremaining: 10.8s\n",
      "147:\tlearn: 3.4175669\ttotal: 1.87s\tremaining: 10.8s\n",
      "148:\tlearn: 3.3985712\ttotal: 1.92s\tremaining: 10.9s\n",
      "149:\tlearn: 3.3831626\ttotal: 1.97s\tremaining: 11.2s\n",
      "150:\tlearn: 3.3545881\ttotal: 2.03s\tremaining: 11.4s\n",
      "151:\tlearn: 3.3244208\ttotal: 2.1s\tremaining: 11.7s\n",
      "152:\tlearn: 3.3085001\ttotal: 2.12s\tremaining: 11.7s\n",
      "153:\tlearn: 3.2945106\ttotal: 2.13s\tremaining: 11.7s\n",
      "154:\tlearn: 3.2664317\ttotal: 2.15s\tremaining: 11.7s\n",
      "155:\tlearn: 3.2491390\ttotal: 2.16s\tremaining: 11.7s\n",
      "156:\tlearn: 3.2431551\ttotal: 2.17s\tremaining: 11.7s\n",
      "157:\tlearn: 3.2399250\ttotal: 2.19s\tremaining: 11.7s\n",
      "158:\tlearn: 3.2224012\ttotal: 2.21s\tremaining: 11.7s\n",
      "159:\tlearn: 3.2002971\ttotal: 2.22s\tremaining: 11.7s\n",
      "160:\tlearn: 3.1856791\ttotal: 2.24s\tremaining: 11.7s\n",
      "161:\tlearn: 3.1605391\ttotal: 2.25s\tremaining: 11.7s\n",
      "162:\tlearn: 3.1393047\ttotal: 2.27s\tremaining: 11.6s\n",
      "163:\tlearn: 3.1100432\ttotal: 2.29s\tremaining: 11.7s\n",
      "164:\tlearn: 3.0867577\ttotal: 2.29s\tremaining: 11.6s\n",
      "165:\tlearn: 3.0686535\ttotal: 2.3s\tremaining: 11.6s\n",
      "166:\tlearn: 3.0469540\ttotal: 2.31s\tremaining: 11.5s\n",
      "167:\tlearn: 3.0298523\ttotal: 2.33s\tremaining: 11.5s\n",
      "168:\tlearn: 3.0243259\ttotal: 2.34s\tremaining: 11.5s\n",
      "169:\tlearn: 2.9987749\ttotal: 2.35s\tremaining: 11.5s\n",
      "170:\tlearn: 2.9808374\ttotal: 2.37s\tremaining: 11.5s\n",
      "171:\tlearn: 2.9564261\ttotal: 2.38s\tremaining: 11.5s\n",
      "172:\tlearn: 2.9344135\ttotal: 2.4s\tremaining: 11.4s\n",
      "173:\tlearn: 2.9219403\ttotal: 2.41s\tremaining: 11.4s\n",
      "174:\tlearn: 2.9114609\ttotal: 2.42s\tremaining: 11.4s\n",
      "175:\tlearn: 2.9008010\ttotal: 2.43s\tremaining: 11.4s\n",
      "176:\tlearn: 2.8804502\ttotal: 2.44s\tremaining: 11.3s\n",
      "177:\tlearn: 2.8593207\ttotal: 2.45s\tremaining: 11.3s\n",
      "178:\tlearn: 2.8359237\ttotal: 2.46s\tremaining: 11.3s\n",
      "179:\tlearn: 2.8319951\ttotal: 2.47s\tremaining: 11.3s\n",
      "180:\tlearn: 2.8113500\ttotal: 2.49s\tremaining: 11.3s\n",
      "181:\tlearn: 2.7907941\ttotal: 2.5s\tremaining: 11.2s\n",
      "182:\tlearn: 2.7870749\ttotal: 2.51s\tremaining: 11.2s\n",
      "183:\tlearn: 2.7766744\ttotal: 2.52s\tremaining: 11.2s\n",
      "184:\tlearn: 2.7706695\ttotal: 2.54s\tremaining: 11.2s\n",
      "185:\tlearn: 2.7480423\ttotal: 2.55s\tremaining: 11.2s\n",
      "186:\tlearn: 2.7414170\ttotal: 2.57s\tremaining: 11.2s\n",
      "187:\tlearn: 2.7229699\ttotal: 2.58s\tremaining: 11.1s\n",
      "188:\tlearn: 2.7180337\ttotal: 2.59s\tremaining: 11.1s\n",
      "189:\tlearn: 2.7036731\ttotal: 2.6s\tremaining: 11.1s\n",
      "190:\tlearn: 2.6841546\ttotal: 2.61s\tremaining: 11.1s\n",
      "191:\tlearn: 2.6681742\ttotal: 2.62s\tremaining: 11s\n",
      "192:\tlearn: 2.6486035\ttotal: 2.63s\tremaining: 11s\n",
      "193:\tlearn: 2.6294836\ttotal: 2.64s\tremaining: 11s\n",
      "194:\tlearn: 2.6178700\ttotal: 2.65s\tremaining: 10.9s\n",
      "195:\tlearn: 2.5979443\ttotal: 2.66s\tremaining: 10.9s\n",
      "196:\tlearn: 2.5850852\ttotal: 2.67s\tremaining: 10.9s\n",
      "197:\tlearn: 2.5664076\ttotal: 2.69s\tremaining: 10.9s\n",
      "198:\tlearn: 2.5554607\ttotal: 2.7s\tremaining: 10.9s\n",
      "199:\tlearn: 2.5530275\ttotal: 2.71s\tremaining: 10.8s\n",
      "200:\tlearn: 2.5365602\ttotal: 2.72s\tremaining: 10.8s\n",
      "201:\tlearn: 2.5191484\ttotal: 2.73s\tremaining: 10.8s\n",
      "202:\tlearn: 2.5064208\ttotal: 2.74s\tremaining: 10.8s\n",
      "203:\tlearn: 2.4893624\ttotal: 2.75s\tremaining: 10.7s\n",
      "204:\tlearn: 2.4786521\ttotal: 2.76s\tremaining: 10.7s\n",
      "205:\tlearn: 2.4759729\ttotal: 2.77s\tremaining: 10.7s\n",
      "206:\tlearn: 2.4571974\ttotal: 2.78s\tremaining: 10.6s\n",
      "207:\tlearn: 2.4547518\ttotal: 2.79s\tremaining: 10.6s\n",
      "208:\tlearn: 2.4376993\ttotal: 2.8s\tremaining: 10.6s\n",
      "209:\tlearn: 2.4284279\ttotal: 2.81s\tremaining: 10.6s\n",
      "210:\tlearn: 2.4261266\ttotal: 2.82s\tremaining: 10.6s\n",
      "211:\tlearn: 2.4121410\ttotal: 2.83s\tremaining: 10.5s\n",
      "212:\tlearn: 2.3947349\ttotal: 2.84s\tremaining: 10.5s\n",
      "213:\tlearn: 2.3926417\ttotal: 2.85s\tremaining: 10.5s\n",
      "214:\tlearn: 2.3842683\ttotal: 2.86s\tremaining: 10.4s\n",
      "215:\tlearn: 2.3820193\ttotal: 2.87s\tremaining: 10.4s\n",
      "216:\tlearn: 2.3800917\ttotal: 2.88s\tremaining: 10.4s\n",
      "217:\tlearn: 2.3659452\ttotal: 2.9s\tremaining: 10.4s\n",
      "218:\tlearn: 2.3504077\ttotal: 2.91s\tremaining: 10.4s\n",
      "219:\tlearn: 2.3356698\ttotal: 2.92s\tremaining: 10.4s\n",
      "220:\tlearn: 2.3207407\ttotal: 2.94s\tremaining: 10.3s\n",
      "221:\tlearn: 2.3125723\ttotal: 2.94s\tremaining: 10.3s\n",
      "222:\tlearn: 2.2975431\ttotal: 2.96s\tremaining: 10.3s\n",
      "223:\tlearn: 2.2856874\ttotal: 2.96s\tremaining: 10.3s\n",
      "224:\tlearn: 2.2686933\ttotal: 2.98s\tremaining: 10.2s\n",
      "225:\tlearn: 2.2519523\ttotal: 2.98s\tremaining: 10.2s\n",
      "226:\tlearn: 2.2425851\ttotal: 3s\tremaining: 10.2s\n",
      "227:\tlearn: 2.2287132\ttotal: 3.02s\tremaining: 10.2s\n",
      "228:\tlearn: 2.2150664\ttotal: 3.03s\tremaining: 10.2s\n",
      "229:\tlearn: 2.2064135\ttotal: 3.04s\tremaining: 10.2s\n",
      "230:\tlearn: 2.1935973\ttotal: 3.05s\tremaining: 10.1s\n",
      "231:\tlearn: 2.1867647\ttotal: 3.05s\tremaining: 10.1s\n",
      "232:\tlearn: 2.1781202\ttotal: 3.06s\tremaining: 10.1s\n",
      "233:\tlearn: 2.1645582\ttotal: 3.07s\tremaining: 10.1s\n",
      "234:\tlearn: 2.1621893\ttotal: 3.08s\tremaining: 10s\n",
      "235:\tlearn: 2.1513124\ttotal: 3.09s\tremaining: 10s\n",
      "236:\tlearn: 2.1361520\ttotal: 3.1s\tremaining: 9.98s\n",
      "237:\tlearn: 2.1272922\ttotal: 3.11s\tremaining: 9.96s\n",
      "238:\tlearn: 2.1251929\ttotal: 3.12s\tremaining: 9.94s\n",
      "239:\tlearn: 2.1188957\ttotal: 3.13s\tremaining: 9.91s\n",
      "240:\tlearn: 2.1175153\ttotal: 3.14s\tremaining: 9.89s\n",
      "241:\tlearn: 2.1147625\ttotal: 3.15s\tremaining: 9.86s\n",
      "242:\tlearn: 2.1024911\ttotal: 3.16s\tremaining: 9.84s\n",
      "243:\tlearn: 2.0883731\ttotal: 3.17s\tremaining: 9.81s\n",
      "244:\tlearn: 2.0751671\ttotal: 3.18s\tremaining: 9.79s\n",
      "245:\tlearn: 2.0640328\ttotal: 3.19s\tremaining: 9.77s\n",
      "246:\tlearn: 2.0621727\ttotal: 3.2s\tremaining: 9.75s\n",
      "247:\tlearn: 2.0519677\ttotal: 3.21s\tremaining: 9.73s\n",
      "248:\tlearn: 2.0427335\ttotal: 3.22s\tremaining: 9.71s\n",
      "249:\tlearn: 2.0295000\ttotal: 3.23s\tremaining: 9.68s\n",
      "250:\tlearn: 2.0279834\ttotal: 3.24s\tremaining: 9.66s\n",
      "251:\tlearn: 2.0192034\ttotal: 3.25s\tremaining: 9.63s\n",
      "252:\tlearn: 2.0055149\ttotal: 3.25s\tremaining: 9.61s\n",
      "253:\tlearn: 2.0042231\ttotal: 3.26s\tremaining: 9.58s\n",
      "254:\tlearn: 1.9959739\ttotal: 3.27s\tremaining: 9.56s\n",
      "255:\tlearn: 1.9868067\ttotal: 3.28s\tremaining: 9.54s\n",
      "256:\tlearn: 1.9855918\ttotal: 3.29s\tremaining: 9.51s\n",
      "257:\tlearn: 1.9784762\ttotal: 3.3s\tremaining: 9.49s\n",
      "258:\tlearn: 1.9727708\ttotal: 3.31s\tremaining: 9.47s\n",
      "259:\tlearn: 1.9608480\ttotal: 3.32s\tremaining: 9.45s\n",
      "260:\tlearn: 1.9538999\ttotal: 3.33s\tremaining: 9.42s\n",
      "261:\tlearn: 1.9450146\ttotal: 3.34s\tremaining: 9.41s\n",
      "262:\tlearn: 1.9390406\ttotal: 3.35s\tremaining: 9.39s\n",
      "263:\tlearn: 1.9375981\ttotal: 3.36s\tremaining: 9.36s\n",
      "264:\tlearn: 1.9249515\ttotal: 3.37s\tremaining: 9.34s\n",
      "265:\tlearn: 1.9130773\ttotal: 3.38s\tremaining: 9.32s\n",
      "266:\tlearn: 1.9116496\ttotal: 3.38s\tremaining: 9.29s\n",
      "267:\tlearn: 1.9062396\ttotal: 3.39s\tremaining: 9.27s\n",
      "268:\tlearn: 1.8966102\ttotal: 3.4s\tremaining: 9.25s\n",
      "269:\tlearn: 1.8905226\ttotal: 3.42s\tremaining: 9.24s\n",
      "270:\tlearn: 1.8829456\ttotal: 3.43s\tremaining: 9.22s\n",
      "271:\tlearn: 1.8742718\ttotal: 3.44s\tremaining: 9.2s\n",
      "272:\tlearn: 1.8703027\ttotal: 3.45s\tremaining: 9.18s\n",
      "273:\tlearn: 1.8690160\ttotal: 3.45s\tremaining: 9.14s\n",
      "274:\tlearn: 1.8571218\ttotal: 3.46s\tremaining: 9.13s\n",
      "275:\tlearn: 1.8512627\ttotal: 3.47s\tremaining: 9.11s\n",
      "276:\tlearn: 1.8435255\ttotal: 3.5s\tremaining: 9.13s\n",
      "277:\tlearn: 1.8332379\ttotal: 3.52s\tremaining: 9.14s\n",
      "278:\tlearn: 1.8234458\ttotal: 3.53s\tremaining: 9.13s\n",
      "279:\tlearn: 1.8139551\ttotal: 3.55s\tremaining: 9.12s\n",
      "280:\tlearn: 1.8039220\ttotal: 3.56s\tremaining: 9.11s\n",
      "281:\tlearn: 1.7977290\ttotal: 3.57s\tremaining: 9.09s\n",
      "282:\tlearn: 1.7965187\ttotal: 3.58s\tremaining: 9.06s\n",
      "283:\tlearn: 1.7955978\ttotal: 3.59s\tremaining: 9.04s\n",
      "284:\tlearn: 1.7874086\ttotal: 3.6s\tremaining: 9.04s\n",
      "285:\tlearn: 1.7825452\ttotal: 3.62s\tremaining: 9.05s\n",
      "286:\tlearn: 1.7757739\ttotal: 3.65s\tremaining: 9.07s\n",
      "287:\tlearn: 1.7676817\ttotal: 3.66s\tremaining: 9.05s\n",
      "288:\tlearn: 1.7633747\ttotal: 3.67s\tremaining: 9.04s\n",
      "289:\tlearn: 1.7624674\ttotal: 3.68s\tremaining: 9.02s\n",
      "290:\tlearn: 1.7580312\ttotal: 3.7s\tremaining: 9.01s\n",
      "291:\tlearn: 1.7571571\ttotal: 3.71s\tremaining: 9s\n",
      "292:\tlearn: 1.7490412\ttotal: 3.73s\tremaining: 8.99s\n",
      "293:\tlearn: 1.7415752\ttotal: 3.73s\tremaining: 8.97s\n",
      "294:\tlearn: 1.7327458\ttotal: 3.76s\tremaining: 8.98s\n",
      "295:\tlearn: 1.7269561\ttotal: 3.77s\tremaining: 8.97s\n",
      "296:\tlearn: 1.7191648\ttotal: 3.79s\tremaining: 8.98s\n",
      "297:\tlearn: 1.7182957\ttotal: 3.85s\tremaining: 9.07s\n",
      "298:\tlearn: 1.7131518\ttotal: 3.87s\tremaining: 9.08s\n",
      "299:\tlearn: 1.7124112\ttotal: 3.91s\tremaining: 9.12s\n",
      "300:\tlearn: 1.7086072\ttotal: 3.93s\tremaining: 9.12s\n",
      "301:\tlearn: 1.7078177\ttotal: 3.98s\tremaining: 9.19s\n",
      "302:\tlearn: 1.7070401\ttotal: 4s\tremaining: 9.2s\n",
      "303:\tlearn: 1.7012719\ttotal: 4.02s\tremaining: 9.21s\n",
      "304:\tlearn: 1.6918337\ttotal: 4.03s\tremaining: 9.19s\n",
      "305:\tlearn: 1.6838476\ttotal: 4.05s\tremaining: 9.19s\n",
      "306:\tlearn: 1.6799668\ttotal: 4.07s\tremaining: 9.18s\n",
      "307:\tlearn: 1.6792979\ttotal: 4.08s\tremaining: 9.17s\n",
      "308:\tlearn: 1.6785999\ttotal: 4.09s\tremaining: 9.15s\n",
      "309:\tlearn: 1.6697807\ttotal: 4.11s\tremaining: 9.15s\n",
      "310:\tlearn: 1.6691361\ttotal: 4.12s\tremaining: 9.14s\n",
      "311:\tlearn: 1.6682590\ttotal: 4.14s\tremaining: 9.13s\n",
      "312:\tlearn: 1.6626714\ttotal: 4.15s\tremaining: 9.11s\n",
      "313:\tlearn: 1.6580835\ttotal: 4.16s\tremaining: 9.09s\n",
      "314:\tlearn: 1.6553061\ttotal: 4.17s\tremaining: 9.07s\n",
      "315:\tlearn: 1.6488155\ttotal: 4.18s\tremaining: 9.05s\n",
      "316:\tlearn: 1.6399383\ttotal: 4.19s\tremaining: 9.02s\n",
      "317:\tlearn: 1.6327173\ttotal: 4.2s\tremaining: 9s\n",
      "318:\tlearn: 1.6257723\ttotal: 4.21s\tremaining: 8.98s\n",
      "319:\tlearn: 1.6202769\ttotal: 4.22s\tremaining: 8.97s\n",
      "320:\tlearn: 1.6145925\ttotal: 4.23s\tremaining: 8.96s\n",
      "321:\tlearn: 1.6080654\ttotal: 4.25s\tremaining: 8.94s\n",
      "322:\tlearn: 1.6002390\ttotal: 4.26s\tremaining: 8.92s\n",
      "323:\tlearn: 1.5962238\ttotal: 4.27s\tremaining: 8.9s\n",
      "324:\tlearn: 1.5909825\ttotal: 4.28s\tremaining: 8.88s\n",
      "325:\tlearn: 1.5877000\ttotal: 4.28s\tremaining: 8.86s\n",
      "326:\tlearn: 1.5841400\ttotal: 4.29s\tremaining: 8.84s\n",
      "327:\tlearn: 1.5801440\ttotal: 4.3s\tremaining: 8.81s\n",
      "328:\tlearn: 1.5795588\ttotal: 4.31s\tremaining: 8.79s\n",
      "329:\tlearn: 1.5789702\ttotal: 4.32s\tremaining: 8.77s\n",
      "330:\tlearn: 1.5752730\ttotal: 4.33s\tremaining: 8.75s\n",
      "331:\tlearn: 1.5678195\ttotal: 4.34s\tremaining: 8.73s\n",
      "332:\tlearn: 1.5648380\ttotal: 4.35s\tremaining: 8.71s\n",
      "333:\tlearn: 1.5577747\ttotal: 4.36s\tremaining: 8.69s\n",
      "334:\tlearn: 1.5571523\ttotal: 4.37s\tremaining: 8.67s\n",
      "335:\tlearn: 1.5487641\ttotal: 4.38s\tremaining: 8.65s\n",
      "336:\tlearn: 1.5465459\ttotal: 4.39s\tremaining: 8.63s\n",
      "337:\tlearn: 1.5426964\ttotal: 4.4s\tremaining: 8.61s\n",
      "338:\tlearn: 1.5421062\ttotal: 4.41s\tremaining: 8.59s\n",
      "339:\tlearn: 1.5415309\ttotal: 4.41s\tremaining: 8.57s\n",
      "340:\tlearn: 1.5353243\ttotal: 4.42s\tremaining: 8.55s\n",
      "341:\tlearn: 1.5295437\ttotal: 4.43s\tremaining: 8.53s\n",
      "342:\tlearn: 1.5290300\ttotal: 4.45s\tremaining: 8.52s\n",
      "343:\tlearn: 1.5251356\ttotal: 4.46s\tremaining: 8.51s\n",
      "344:\tlearn: 1.5181880\ttotal: 4.48s\tremaining: 8.5s\n",
      "345:\tlearn: 1.5122726\ttotal: 4.49s\tremaining: 8.48s\n",
      "346:\tlearn: 1.5061596\ttotal: 4.5s\tremaining: 8.47s\n",
      "347:\tlearn: 1.5032119\ttotal: 4.51s\tremaining: 8.45s\n",
      "348:\tlearn: 1.4977983\ttotal: 4.52s\tremaining: 8.43s\n",
      "349:\tlearn: 1.4972962\ttotal: 4.53s\tremaining: 8.4s\n",
      "350:\tlearn: 1.4913481\ttotal: 4.54s\tremaining: 8.39s\n",
      "351:\tlearn: 1.4858611\ttotal: 4.54s\tremaining: 8.37s\n",
      "352:\tlearn: 1.4804508\ttotal: 4.55s\tremaining: 8.35s\n",
      "353:\tlearn: 1.4751460\ttotal: 4.57s\tremaining: 8.33s\n",
      "354:\tlearn: 1.4715085\ttotal: 4.58s\tremaining: 8.31s\n",
      "355:\tlearn: 1.4709393\ttotal: 4.58s\tremaining: 8.29s\n",
      "356:\tlearn: 1.4674460\ttotal: 4.59s\tremaining: 8.27s\n",
      "357:\tlearn: 1.4630882\ttotal: 4.6s\tremaining: 8.26s\n",
      "358:\tlearn: 1.4577348\ttotal: 4.62s\tremaining: 8.24s\n",
      "359:\tlearn: 1.4572224\ttotal: 4.63s\tremaining: 8.22s\n",
      "360:\tlearn: 1.4530689\ttotal: 4.64s\tremaining: 8.21s\n",
      "361:\tlearn: 1.4501039\ttotal: 4.65s\tremaining: 8.2s\n",
      "362:\tlearn: 1.4447785\ttotal: 4.67s\tremaining: 8.19s\n",
      "363:\tlearn: 1.4409602\ttotal: 4.67s\tremaining: 8.17s\n",
      "364:\tlearn: 1.4371061\ttotal: 4.68s\tremaining: 8.15s\n",
      "365:\tlearn: 1.4316375\ttotal: 4.69s\tremaining: 8.13s\n",
      "366:\tlearn: 1.4279215\ttotal: 4.7s\tremaining: 8.11s\n",
      "367:\tlearn: 1.4274436\ttotal: 4.71s\tremaining: 8.09s\n",
      "368:\tlearn: 1.4269448\ttotal: 4.72s\tremaining: 8.07s\n",
      "369:\tlearn: 1.4216924\ttotal: 4.73s\tremaining: 8.05s\n",
      "370:\tlearn: 1.4212417\ttotal: 4.74s\tremaining: 8.03s\n",
      "371:\tlearn: 1.4157703\ttotal: 4.75s\tremaining: 8.02s\n",
      "372:\tlearn: 1.4132972\ttotal: 4.76s\tremaining: 8s\n",
      "373:\tlearn: 1.4102261\ttotal: 4.77s\tremaining: 7.98s\n",
      "374:\tlearn: 1.4097366\ttotal: 4.78s\tremaining: 7.96s\n",
      "375:\tlearn: 1.4036496\ttotal: 4.79s\tremaining: 7.94s\n",
      "376:\tlearn: 1.3991916\ttotal: 4.8s\tremaining: 7.92s\n",
      "377:\tlearn: 1.3987563\ttotal: 4.8s\tremaining: 7.91s\n",
      "378:\tlearn: 1.3965553\ttotal: 4.81s\tremaining: 7.89s\n",
      "379:\tlearn: 1.3927810\ttotal: 4.82s\tremaining: 7.87s\n",
      "380:\tlearn: 1.3890844\ttotal: 4.83s\tremaining: 7.85s\n",
      "381:\tlearn: 1.3854443\ttotal: 4.84s\tremaining: 7.83s\n",
      "382:\tlearn: 1.3827428\ttotal: 4.85s\tremaining: 7.82s\n",
      "383:\tlearn: 1.3792387\ttotal: 4.87s\tremaining: 7.81s\n",
      "384:\tlearn: 1.3745344\ttotal: 4.88s\tremaining: 7.79s\n",
      "385:\tlearn: 1.3693353\ttotal: 4.89s\tremaining: 7.77s\n",
      "386:\tlearn: 1.3658286\ttotal: 4.9s\tremaining: 7.75s\n",
      "387:\tlearn: 1.3634549\ttotal: 4.9s\tremaining: 7.74s\n",
      "388:\tlearn: 1.3598147\ttotal: 4.91s\tremaining: 7.72s\n",
      "389:\tlearn: 1.3563736\ttotal: 4.92s\tremaining: 7.7s\n",
      "390:\tlearn: 1.3518255\ttotal: 4.93s\tremaining: 7.68s\n",
      "391:\tlearn: 1.3482397\ttotal: 4.94s\tremaining: 7.67s\n",
      "392:\tlearn: 1.3466675\ttotal: 4.95s\tremaining: 7.65s\n",
      "393:\tlearn: 1.3431305\ttotal: 4.96s\tremaining: 7.63s\n",
      "394:\tlearn: 1.3375238\ttotal: 4.97s\tremaining: 7.61s\n",
      "395:\tlearn: 1.3345153\ttotal: 4.98s\tremaining: 7.6s\n",
      "396:\tlearn: 1.3340959\ttotal: 4.99s\tremaining: 7.58s\n",
      "397:\tlearn: 1.3305516\ttotal: 5s\tremaining: 7.56s\n",
      "398:\tlearn: 1.3263359\ttotal: 5.01s\tremaining: 7.55s\n",
      "399:\tlearn: 1.3220259\ttotal: 5.02s\tremaining: 7.53s\n",
      "400:\tlearn: 1.3172043\ttotal: 5.03s\tremaining: 7.51s\n",
      "401:\tlearn: 1.3168213\ttotal: 5.04s\tremaining: 7.5s\n",
      "402:\tlearn: 1.3145486\ttotal: 5.05s\tremaining: 7.48s\n",
      "403:\tlearn: 1.3103548\ttotal: 5.06s\tremaining: 7.47s\n",
      "404:\tlearn: 1.3081766\ttotal: 5.07s\tremaining: 7.45s\n",
      "405:\tlearn: 1.3052801\ttotal: 5.08s\tremaining: 7.43s\n",
      "406:\tlearn: 1.3048592\ttotal: 5.09s\tremaining: 7.41s\n",
      "407:\tlearn: 1.3044512\ttotal: 5.1s\tremaining: 7.4s\n",
      "408:\tlearn: 1.3007941\ttotal: 5.11s\tremaining: 7.38s\n",
      "409:\tlearn: 1.2969291\ttotal: 5.12s\tremaining: 7.36s\n",
      "410:\tlearn: 1.2954630\ttotal: 5.12s\tremaining: 7.34s\n",
      "411:\tlearn: 1.2950927\ttotal: 5.13s\tremaining: 7.33s\n",
      "412:\tlearn: 1.2906270\ttotal: 5.14s\tremaining: 7.31s\n",
      "413:\tlearn: 1.2865672\ttotal: 5.15s\tremaining: 7.29s\n",
      "414:\tlearn: 1.2830682\ttotal: 5.17s\tremaining: 7.28s\n",
      "415:\tlearn: 1.2826887\ttotal: 5.18s\tremaining: 7.27s\n",
      "416:\tlearn: 1.2799048\ttotal: 5.19s\tremaining: 7.25s\n",
      "417:\tlearn: 1.2768023\ttotal: 5.2s\tremaining: 7.23s\n",
      "418:\tlearn: 1.2726954\ttotal: 5.2s\tremaining: 7.22s\n",
      "419:\tlearn: 1.2702853\ttotal: 5.21s\tremaining: 7.2s\n",
      "420:\tlearn: 1.2663807\ttotal: 5.22s\tremaining: 7.18s\n",
      "421:\tlearn: 1.2630881\ttotal: 5.23s\tremaining: 7.16s\n",
      "422:\tlearn: 1.2613842\ttotal: 5.24s\tremaining: 7.15s\n",
      "423:\tlearn: 1.2599917\ttotal: 5.25s\tremaining: 7.13s\n",
      "424:\tlearn: 1.2596342\ttotal: 5.26s\tremaining: 7.12s\n",
      "425:\tlearn: 1.2561584\ttotal: 5.27s\tremaining: 7.11s\n",
      "426:\tlearn: 1.2523862\ttotal: 5.29s\tremaining: 7.09s\n",
      "427:\tlearn: 1.2500907\ttotal: 5.29s\tremaining: 7.07s\n",
      "428:\tlearn: 1.2469659\ttotal: 5.3s\tremaining: 7.06s\n",
      "429:\tlearn: 1.2466300\ttotal: 5.31s\tremaining: 7.04s\n",
      "430:\tlearn: 1.2447426\ttotal: 5.32s\tremaining: 7.03s\n",
      "431:\tlearn: 1.2444043\ttotal: 5.33s\tremaining: 7.01s\n",
      "432:\tlearn: 1.2440914\ttotal: 5.34s\tremaining: 6.99s\n",
      "433:\tlearn: 1.2409355\ttotal: 5.35s\tremaining: 6.98s\n",
      "434:\tlearn: 1.2385025\ttotal: 5.36s\tremaining: 6.96s\n",
      "435:\tlearn: 1.2369586\ttotal: 5.37s\tremaining: 6.95s\n",
      "436:\tlearn: 1.2366621\ttotal: 5.38s\tremaining: 6.93s\n",
      "437:\tlearn: 1.2341317\ttotal: 5.39s\tremaining: 6.91s\n",
      "438:\tlearn: 1.2326333\ttotal: 5.4s\tremaining: 6.9s\n",
      "439:\tlearn: 1.2310688\ttotal: 5.41s\tremaining: 6.88s\n",
      "440:\tlearn: 1.2296247\ttotal: 5.42s\tremaining: 6.87s\n",
      "441:\tlearn: 1.2268202\ttotal: 5.43s\tremaining: 6.86s\n",
      "442:\tlearn: 1.2241791\ttotal: 5.44s\tremaining: 6.84s\n",
      "443:\tlearn: 1.2214242\ttotal: 5.45s\tremaining: 6.83s\n",
      "444:\tlearn: 1.2181169\ttotal: 5.46s\tremaining: 6.81s\n",
      "445:\tlearn: 1.2148553\ttotal: 5.47s\tremaining: 6.8s\n",
      "446:\tlearn: 1.2115911\ttotal: 5.49s\tremaining: 6.79s\n",
      "447:\tlearn: 1.2093472\ttotal: 5.5s\tremaining: 6.78s\n",
      "448:\tlearn: 1.2073138\ttotal: 5.51s\tremaining: 6.76s\n",
      "449:\tlearn: 1.2057065\ttotal: 5.52s\tremaining: 6.75s\n",
      "450:\tlearn: 1.2037970\ttotal: 5.53s\tremaining: 6.73s\n",
      "451:\tlearn: 1.2005133\ttotal: 5.54s\tremaining: 6.72s\n",
      "452:\tlearn: 1.1983179\ttotal: 5.55s\tremaining: 6.7s\n",
      "453:\tlearn: 1.1957333\ttotal: 5.56s\tremaining: 6.69s\n",
      "454:\tlearn: 1.1954360\ttotal: 5.57s\tremaining: 6.67s\n",
      "455:\tlearn: 1.1951478\ttotal: 5.58s\tremaining: 6.66s\n",
      "456:\tlearn: 1.1911929\ttotal: 5.59s\tremaining: 6.64s\n",
      "457:\tlearn: 1.1890210\ttotal: 5.6s\tremaining: 6.62s\n",
      "458:\tlearn: 1.1871631\ttotal: 5.61s\tremaining: 6.61s\n",
      "459:\tlearn: 1.1843447\ttotal: 5.62s\tremaining: 6.59s\n",
      "460:\tlearn: 1.1821169\ttotal: 5.63s\tremaining: 6.58s\n",
      "461:\tlearn: 1.1799860\ttotal: 5.63s\tremaining: 6.56s\n",
      "462:\tlearn: 1.1782142\ttotal: 5.64s\tremaining: 6.55s\n",
      "463:\tlearn: 1.1779379\ttotal: 5.65s\tremaining: 6.53s\n",
      "464:\tlearn: 1.1751906\ttotal: 5.66s\tremaining: 6.51s\n",
      "465:\tlearn: 1.1721319\ttotal: 5.67s\tremaining: 6.5s\n",
      "466:\tlearn: 1.1697551\ttotal: 5.68s\tremaining: 6.49s\n",
      "467:\tlearn: 1.1666319\ttotal: 5.7s\tremaining: 6.47s\n",
      "468:\tlearn: 1.1662081\ttotal: 5.71s\tremaining: 6.46s\n",
      "469:\tlearn: 1.1658674\ttotal: 5.71s\tremaining: 6.45s\n",
      "470:\tlearn: 1.1630533\ttotal: 5.72s\tremaining: 6.43s\n",
      "471:\tlearn: 1.1618436\ttotal: 5.74s\tremaining: 6.42s\n",
      "472:\tlearn: 1.1589443\ttotal: 5.74s\tremaining: 6.4s\n",
      "473:\tlearn: 1.1570186\ttotal: 5.75s\tremaining: 6.38s\n",
      "474:\tlearn: 1.1543727\ttotal: 5.76s\tremaining: 6.37s\n",
      "475:\tlearn: 1.1524904\ttotal: 5.77s\tremaining: 6.36s\n",
      "476:\tlearn: 1.1496660\ttotal: 5.78s\tremaining: 6.34s\n",
      "477:\tlearn: 1.1479328\ttotal: 5.79s\tremaining: 6.33s\n",
      "478:\tlearn: 1.1457352\ttotal: 5.8s\tremaining: 6.31s\n",
      "479:\tlearn: 1.1438179\ttotal: 5.81s\tremaining: 6.3s\n",
      "480:\tlearn: 1.1413322\ttotal: 5.82s\tremaining: 6.28s\n",
      "481:\tlearn: 1.1381417\ttotal: 5.83s\tremaining: 6.27s\n",
      "482:\tlearn: 1.1378696\ttotal: 5.84s\tremaining: 6.25s\n",
      "483:\tlearn: 1.1370316\ttotal: 5.85s\tremaining: 6.24s\n",
      "484:\tlearn: 1.1347242\ttotal: 5.86s\tremaining: 6.22s\n",
      "485:\tlearn: 1.1329166\ttotal: 5.87s\tremaining: 6.21s\n",
      "486:\tlearn: 1.1326375\ttotal: 5.88s\tremaining: 6.19s\n",
      "487:\tlearn: 1.1302426\ttotal: 5.89s\tremaining: 6.18s\n",
      "488:\tlearn: 1.1284686\ttotal: 5.9s\tremaining: 6.17s\n",
      "489:\tlearn: 1.1258436\ttotal: 5.91s\tremaining: 6.16s\n",
      "490:\tlearn: 1.1248001\ttotal: 5.92s\tremaining: 6.14s\n",
      "491:\tlearn: 1.1245737\ttotal: 5.93s\tremaining: 6.13s\n",
      "492:\tlearn: 1.1226987\ttotal: 5.94s\tremaining: 6.11s\n",
      "493:\tlearn: 1.1208317\ttotal: 5.95s\tremaining: 6.1s\n",
      "494:\tlearn: 1.1197305\ttotal: 5.96s\tremaining: 6.08s\n",
      "495:\tlearn: 1.1174451\ttotal: 5.97s\tremaining: 6.07s\n",
      "496:\tlearn: 1.1149546\ttotal: 5.98s\tremaining: 6.05s\n",
      "497:\tlearn: 1.1126446\ttotal: 5.99s\tremaining: 6.04s\n",
      "498:\tlearn: 1.1099261\ttotal: 6s\tremaining: 6.03s\n",
      "499:\tlearn: 1.1070683\ttotal: 6.01s\tremaining: 6.01s\n",
      "500:\tlearn: 1.1068535\ttotal: 6.02s\tremaining: 6s\n",
      "501:\tlearn: 1.1051904\ttotal: 6.03s\tremaining: 5.98s\n",
      "502:\tlearn: 1.1029413\ttotal: 6.04s\tremaining: 5.97s\n",
      "503:\tlearn: 1.1010924\ttotal: 6.05s\tremaining: 5.95s\n",
      "504:\tlearn: 1.0979119\ttotal: 6.06s\tremaining: 5.94s\n",
      "505:\tlearn: 1.0961683\ttotal: 6.07s\tremaining: 5.92s\n",
      "506:\tlearn: 1.0953577\ttotal: 6.08s\tremaining: 5.91s\n",
      "507:\tlearn: 1.0932826\ttotal: 6.09s\tremaining: 5.89s\n",
      "508:\tlearn: 1.0919623\ttotal: 6.1s\tremaining: 5.88s\n",
      "509:\tlearn: 1.0904398\ttotal: 6.11s\tremaining: 5.87s\n",
      "510:\tlearn: 1.0888125\ttotal: 6.12s\tremaining: 5.85s\n",
      "511:\tlearn: 1.0870044\ttotal: 6.13s\tremaining: 5.84s\n",
      "512:\tlearn: 1.0849926\ttotal: 6.14s\tremaining: 5.83s\n",
      "513:\tlearn: 1.0837608\ttotal: 6.15s\tremaining: 5.81s\n",
      "514:\tlearn: 1.0821080\ttotal: 6.16s\tremaining: 5.8s\n",
      "515:\tlearn: 1.0805528\ttotal: 6.17s\tremaining: 5.79s\n",
      "516:\tlearn: 1.0782901\ttotal: 6.18s\tremaining: 5.77s\n",
      "517:\tlearn: 1.0780771\ttotal: 6.19s\tremaining: 5.76s\n",
      "518:\tlearn: 1.0768289\ttotal: 6.2s\tremaining: 5.74s\n",
      "519:\tlearn: 1.0756895\ttotal: 6.21s\tremaining: 5.73s\n",
      "520:\tlearn: 1.0745722\ttotal: 6.21s\tremaining: 5.71s\n",
      "521:\tlearn: 1.0727258\ttotal: 6.23s\tremaining: 5.7s\n",
      "522:\tlearn: 1.0701827\ttotal: 6.24s\tremaining: 5.69s\n",
      "523:\tlearn: 1.0699930\ttotal: 6.25s\tremaining: 5.67s\n",
      "524:\tlearn: 1.0669494\ttotal: 6.25s\tremaining: 5.66s\n",
      "525:\tlearn: 1.0649643\ttotal: 6.26s\tremaining: 5.64s\n",
      "526:\tlearn: 1.0632424\ttotal: 6.27s\tremaining: 5.63s\n",
      "527:\tlearn: 1.0611804\ttotal: 6.28s\tremaining: 5.62s\n",
      "528:\tlearn: 1.0590700\ttotal: 6.29s\tremaining: 5.6s\n",
      "529:\tlearn: 1.0570495\ttotal: 6.3s\tremaining: 5.59s\n",
      "530:\tlearn: 1.0545486\ttotal: 6.31s\tremaining: 5.57s\n",
      "531:\tlearn: 1.0519818\ttotal: 6.34s\tremaining: 5.58s\n",
      "532:\tlearn: 1.0504782\ttotal: 6.36s\tremaining: 5.57s\n",
      "533:\tlearn: 1.0485699\ttotal: 6.37s\tremaining: 5.56s\n",
      "534:\tlearn: 1.0463906\ttotal: 6.38s\tremaining: 5.55s\n",
      "535:\tlearn: 1.0460865\ttotal: 6.39s\tremaining: 5.54s\n",
      "536:\tlearn: 1.0443922\ttotal: 6.41s\tremaining: 5.52s\n",
      "537:\tlearn: 1.0424199\ttotal: 6.42s\tremaining: 5.51s\n",
      "538:\tlearn: 1.0409180\ttotal: 6.43s\tremaining: 5.5s\n",
      "539:\tlearn: 1.0391753\ttotal: 6.44s\tremaining: 5.49s\n",
      "540:\tlearn: 1.0375471\ttotal: 6.45s\tremaining: 5.47s\n",
      "541:\tlearn: 1.0373591\ttotal: 6.46s\tremaining: 5.46s\n",
      "542:\tlearn: 1.0353934\ttotal: 6.47s\tremaining: 5.44s\n",
      "543:\tlearn: 1.0339003\ttotal: 6.48s\tremaining: 5.43s\n",
      "544:\tlearn: 1.0321399\ttotal: 6.49s\tremaining: 5.42s\n",
      "545:\tlearn: 1.0304144\ttotal: 6.5s\tremaining: 5.4s\n",
      "546:\tlearn: 1.0293290\ttotal: 6.51s\tremaining: 5.39s\n",
      "547:\tlearn: 1.0291515\ttotal: 6.52s\tremaining: 5.38s\n",
      "548:\tlearn: 1.0266956\ttotal: 6.53s\tremaining: 5.37s\n",
      "549:\tlearn: 1.0253236\ttotal: 6.54s\tremaining: 5.35s\n",
      "550:\tlearn: 1.0235095\ttotal: 6.55s\tremaining: 5.34s\n",
      "551:\tlearn: 1.0222534\ttotal: 6.56s\tremaining: 5.33s\n",
      "552:\tlearn: 1.0203059\ttotal: 6.57s\tremaining: 5.31s\n",
      "553:\tlearn: 1.0188624\ttotal: 6.58s\tremaining: 5.3s\n",
      "554:\tlearn: 1.0158394\ttotal: 6.59s\tremaining: 5.28s\n",
      "555:\tlearn: 1.0142802\ttotal: 6.6s\tremaining: 5.27s\n",
      "556:\tlearn: 1.0141145\ttotal: 6.61s\tremaining: 5.26s\n",
      "557:\tlearn: 1.0139544\ttotal: 6.62s\tremaining: 5.25s\n",
      "558:\tlearn: 1.0124584\ttotal: 6.63s\tremaining: 5.23s\n",
      "559:\tlearn: 1.0110982\ttotal: 6.64s\tremaining: 5.22s\n",
      "560:\tlearn: 1.0101995\ttotal: 6.65s\tremaining: 5.2s\n",
      "561:\tlearn: 1.0090833\ttotal: 6.66s\tremaining: 5.19s\n",
      "562:\tlearn: 1.0076858\ttotal: 6.67s\tremaining: 5.17s\n",
      "563:\tlearn: 1.0060952\ttotal: 6.67s\tremaining: 5.16s\n",
      "564:\tlearn: 1.0049536\ttotal: 6.69s\tremaining: 5.15s\n",
      "565:\tlearn: 1.0037137\ttotal: 6.7s\tremaining: 5.13s\n",
      "566:\tlearn: 1.0025389\ttotal: 6.71s\tremaining: 5.12s\n",
      "567:\tlearn: 1.0009002\ttotal: 6.72s\tremaining: 5.11s\n",
      "568:\tlearn: 0.9999124\ttotal: 6.72s\tremaining: 5.09s\n",
      "569:\tlearn: 0.9978533\ttotal: 6.74s\tremaining: 5.08s\n",
      "570:\tlearn: 0.9966052\ttotal: 6.75s\tremaining: 5.07s\n",
      "571:\tlearn: 0.9948497\ttotal: 6.76s\tremaining: 5.06s\n",
      "572:\tlearn: 0.9929441\ttotal: 6.77s\tremaining: 5.04s\n",
      "573:\tlearn: 0.9913638\ttotal: 6.78s\tremaining: 5.03s\n",
      "574:\tlearn: 0.9909356\ttotal: 6.79s\tremaining: 5.02s\n",
      "575:\tlearn: 0.9889166\ttotal: 6.8s\tremaining: 5s\n",
      "576:\tlearn: 0.9869174\ttotal: 6.81s\tremaining: 4.99s\n",
      "577:\tlearn: 0.9852455\ttotal: 6.82s\tremaining: 4.98s\n",
      "578:\tlearn: 0.9850893\ttotal: 6.82s\tremaining: 4.96s\n",
      "579:\tlearn: 0.9838394\ttotal: 6.83s\tremaining: 4.95s\n",
      "580:\tlearn: 0.9826105\ttotal: 6.84s\tremaining: 4.93s\n",
      "581:\tlearn: 0.9813062\ttotal: 6.85s\tremaining: 4.92s\n",
      "582:\tlearn: 0.9795214\ttotal: 6.86s\tremaining: 4.91s\n",
      "583:\tlearn: 0.9782641\ttotal: 6.87s\tremaining: 4.89s\n",
      "584:\tlearn: 0.9771746\ttotal: 6.88s\tremaining: 4.88s\n",
      "585:\tlearn: 0.9760823\ttotal: 6.89s\tremaining: 4.87s\n",
      "586:\tlearn: 0.9743836\ttotal: 6.9s\tremaining: 4.85s\n",
      "587:\tlearn: 0.9725840\ttotal: 6.91s\tremaining: 4.84s\n",
      "588:\tlearn: 0.9709139\ttotal: 6.92s\tremaining: 4.83s\n",
      "589:\tlearn: 0.9695264\ttotal: 6.93s\tremaining: 4.81s\n",
      "590:\tlearn: 0.9682396\ttotal: 6.94s\tremaining: 4.8s\n",
      "591:\tlearn: 0.9665201\ttotal: 6.95s\tremaining: 4.79s\n",
      "592:\tlearn: 0.9653967\ttotal: 6.96s\tremaining: 4.78s\n",
      "593:\tlearn: 0.9642258\ttotal: 6.97s\tremaining: 4.76s\n",
      "594:\tlearn: 0.9640772\ttotal: 6.98s\tremaining: 4.75s\n",
      "595:\tlearn: 0.9621815\ttotal: 6.99s\tremaining: 4.74s\n",
      "596:\tlearn: 0.9617588\ttotal: 7s\tremaining: 4.72s\n",
      "597:\tlearn: 0.9600698\ttotal: 7.01s\tremaining: 4.71s\n",
      "598:\tlearn: 0.9577580\ttotal: 7.02s\tremaining: 4.7s\n",
      "599:\tlearn: 0.9559805\ttotal: 7.03s\tremaining: 4.68s\n",
      "600:\tlearn: 0.9549264\ttotal: 7.04s\tremaining: 4.67s\n",
      "601:\tlearn: 0.9539594\ttotal: 7.05s\tremaining: 4.66s\n",
      "602:\tlearn: 0.9521753\ttotal: 7.05s\tremaining: 4.64s\n",
      "603:\tlearn: 0.9510289\ttotal: 7.06s\tremaining: 4.63s\n",
      "604:\tlearn: 0.9501399\ttotal: 7.07s\tremaining: 4.62s\n",
      "605:\tlearn: 0.9488284\ttotal: 7.08s\tremaining: 4.6s\n",
      "606:\tlearn: 0.9472269\ttotal: 7.09s\tremaining: 4.59s\n",
      "607:\tlearn: 0.9447954\ttotal: 7.1s\tremaining: 4.58s\n",
      "608:\tlearn: 0.9434492\ttotal: 7.11s\tremaining: 4.57s\n",
      "609:\tlearn: 0.9426563\ttotal: 7.12s\tremaining: 4.55s\n",
      "610:\tlearn: 0.9419133\ttotal: 7.13s\tremaining: 4.54s\n",
      "611:\tlearn: 0.9400988\ttotal: 7.14s\tremaining: 4.53s\n",
      "612:\tlearn: 0.9388783\ttotal: 7.15s\tremaining: 4.51s\n",
      "613:\tlearn: 0.9375501\ttotal: 7.17s\tremaining: 4.5s\n",
      "614:\tlearn: 0.9359609\ttotal: 7.17s\tremaining: 4.49s\n",
      "615:\tlearn: 0.9350983\ttotal: 7.19s\tremaining: 4.48s\n",
      "616:\tlearn: 0.9343362\ttotal: 7.19s\tremaining: 4.46s\n",
      "617:\tlearn: 0.9330851\ttotal: 7.21s\tremaining: 4.45s\n",
      "618:\tlearn: 0.9321793\ttotal: 7.22s\tremaining: 4.44s\n",
      "619:\tlearn: 0.9311464\ttotal: 7.22s\tremaining: 4.43s\n",
      "620:\tlearn: 0.9298876\ttotal: 7.23s\tremaining: 4.42s\n",
      "621:\tlearn: 0.9284843\ttotal: 7.24s\tremaining: 4.4s\n",
      "622:\tlearn: 0.9272708\ttotal: 7.25s\tremaining: 4.39s\n",
      "623:\tlearn: 0.9261949\ttotal: 7.26s\tremaining: 4.38s\n",
      "624:\tlearn: 0.9251943\ttotal: 7.27s\tremaining: 4.36s\n",
      "625:\tlearn: 0.9237686\ttotal: 7.28s\tremaining: 4.35s\n",
      "626:\tlearn: 0.9223210\ttotal: 7.29s\tremaining: 4.33s\n",
      "627:\tlearn: 0.9206122\ttotal: 7.3s\tremaining: 4.32s\n",
      "628:\tlearn: 0.9189511\ttotal: 7.31s\tremaining: 4.31s\n",
      "629:\tlearn: 0.9176640\ttotal: 7.32s\tremaining: 4.3s\n",
      "630:\tlearn: 0.9175714\ttotal: 7.33s\tremaining: 4.29s\n",
      "631:\tlearn: 0.9169685\ttotal: 7.33s\tremaining: 4.27s\n",
      "632:\tlearn: 0.9161776\ttotal: 7.34s\tremaining: 4.26s\n",
      "633:\tlearn: 0.9150919\ttotal: 7.36s\tremaining: 4.25s\n",
      "634:\tlearn: 0.9138886\ttotal: 7.37s\tremaining: 4.24s\n",
      "635:\tlearn: 0.9122099\ttotal: 7.38s\tremaining: 4.23s\n",
      "636:\tlearn: 0.9115847\ttotal: 7.39s\tremaining: 4.21s\n",
      "637:\tlearn: 0.9106211\ttotal: 7.41s\tremaining: 4.2s\n",
      "638:\tlearn: 0.9104281\ttotal: 7.42s\tremaining: 4.19s\n",
      "639:\tlearn: 0.9103004\ttotal: 7.43s\tremaining: 4.18s\n",
      "640:\tlearn: 0.9095776\ttotal: 7.43s\tremaining: 4.16s\n",
      "641:\tlearn: 0.9083322\ttotal: 7.45s\tremaining: 4.15s\n",
      "642:\tlearn: 0.9081388\ttotal: 7.45s\tremaining: 4.14s\n",
      "643:\tlearn: 0.9076451\ttotal: 7.46s\tremaining: 4.13s\n",
      "644:\tlearn: 0.9067771\ttotal: 7.48s\tremaining: 4.11s\n",
      "645:\tlearn: 0.9046106\ttotal: 7.48s\tremaining: 4.1s\n",
      "646:\tlearn: 0.9034347\ttotal: 7.49s\tremaining: 4.09s\n",
      "647:\tlearn: 0.9023790\ttotal: 7.5s\tremaining: 4.08s\n",
      "648:\tlearn: 0.9000440\ttotal: 7.51s\tremaining: 4.06s\n",
      "649:\tlearn: 0.8987309\ttotal: 7.52s\tremaining: 4.05s\n",
      "650:\tlearn: 0.8977423\ttotal: 7.53s\tremaining: 4.04s\n",
      "651:\tlearn: 0.8970240\ttotal: 7.54s\tremaining: 4.03s\n",
      "652:\tlearn: 0.8962495\ttotal: 7.55s\tremaining: 4.01s\n",
      "653:\tlearn: 0.8953092\ttotal: 7.56s\tremaining: 4s\n",
      "654:\tlearn: 0.8939928\ttotal: 7.57s\tremaining: 3.99s\n",
      "655:\tlearn: 0.8929157\ttotal: 7.58s\tremaining: 3.97s\n",
      "656:\tlearn: 0.8927426\ttotal: 7.59s\tremaining: 3.96s\n",
      "657:\tlearn: 0.8918847\ttotal: 7.6s\tremaining: 3.95s\n",
      "658:\tlearn: 0.8911638\ttotal: 7.61s\tremaining: 3.94s\n",
      "659:\tlearn: 0.8900616\ttotal: 7.62s\tremaining: 3.93s\n",
      "660:\tlearn: 0.8890156\ttotal: 7.63s\tremaining: 3.91s\n",
      "661:\tlearn: 0.8880879\ttotal: 7.64s\tremaining: 3.9s\n",
      "662:\tlearn: 0.8863180\ttotal: 7.65s\tremaining: 3.89s\n",
      "663:\tlearn: 0.8851949\ttotal: 7.66s\tremaining: 3.88s\n",
      "664:\tlearn: 0.8850614\ttotal: 7.67s\tremaining: 3.86s\n",
      "665:\tlearn: 0.8841167\ttotal: 7.68s\tremaining: 3.85s\n",
      "666:\tlearn: 0.8833555\ttotal: 7.68s\tremaining: 3.84s\n",
      "667:\tlearn: 0.8822911\ttotal: 7.7s\tremaining: 3.82s\n",
      "668:\tlearn: 0.8812255\ttotal: 7.71s\tremaining: 3.81s\n",
      "669:\tlearn: 0.8805369\ttotal: 7.71s\tremaining: 3.8s\n",
      "670:\tlearn: 0.8782614\ttotal: 7.72s\tremaining: 3.79s\n",
      "671:\tlearn: 0.8780781\ttotal: 7.73s\tremaining: 3.77s\n",
      "672:\tlearn: 0.8771945\ttotal: 7.74s\tremaining: 3.76s\n",
      "673:\tlearn: 0.8760343\ttotal: 7.75s\tremaining: 3.75s\n",
      "674:\tlearn: 0.8751663\ttotal: 7.76s\tremaining: 3.73s\n",
      "675:\tlearn: 0.8741540\ttotal: 7.77s\tremaining: 3.73s\n",
      "676:\tlearn: 0.8727999\ttotal: 7.79s\tremaining: 3.71s\n",
      "677:\tlearn: 0.8719856\ttotal: 7.8s\tremaining: 3.7s\n",
      "678:\tlearn: 0.8705880\ttotal: 7.81s\tremaining: 3.69s\n",
      "679:\tlearn: 0.8696203\ttotal: 7.82s\tremaining: 3.68s\n",
      "680:\tlearn: 0.8681585\ttotal: 7.83s\tremaining: 3.67s\n",
      "681:\tlearn: 0.8670418\ttotal: 7.84s\tremaining: 3.65s\n",
      "682:\tlearn: 0.8655059\ttotal: 7.84s\tremaining: 3.64s\n",
      "683:\tlearn: 0.8646565\ttotal: 7.86s\tremaining: 3.63s\n",
      "684:\tlearn: 0.8645575\ttotal: 7.86s\tremaining: 3.62s\n",
      "685:\tlearn: 0.8638183\ttotal: 7.87s\tremaining: 3.6s\n",
      "686:\tlearn: 0.8629173\ttotal: 7.88s\tremaining: 3.59s\n",
      "687:\tlearn: 0.8617141\ttotal: 7.89s\tremaining: 3.58s\n",
      "688:\tlearn: 0.8605794\ttotal: 7.9s\tremaining: 3.56s\n",
      "689:\tlearn: 0.8597189\ttotal: 7.91s\tremaining: 3.55s\n",
      "690:\tlearn: 0.8584620\ttotal: 7.92s\tremaining: 3.54s\n",
      "691:\tlearn: 0.8578107\ttotal: 7.93s\tremaining: 3.53s\n",
      "692:\tlearn: 0.8559863\ttotal: 7.94s\tremaining: 3.52s\n",
      "693:\tlearn: 0.8550349\ttotal: 7.95s\tremaining: 3.5s\n",
      "694:\tlearn: 0.8539100\ttotal: 7.96s\tremaining: 3.49s\n",
      "695:\tlearn: 0.8528988\ttotal: 7.97s\tremaining: 3.48s\n",
      "696:\tlearn: 0.8522674\ttotal: 7.97s\tremaining: 3.47s\n",
      "697:\tlearn: 0.8514914\ttotal: 7.99s\tremaining: 3.46s\n",
      "698:\tlearn: 0.8499590\ttotal: 8s\tremaining: 3.44s\n",
      "699:\tlearn: 0.8488475\ttotal: 8.01s\tremaining: 3.43s\n",
      "700:\tlearn: 0.8479190\ttotal: 8.02s\tremaining: 3.42s\n",
      "701:\tlearn: 0.8471564\ttotal: 8.03s\tremaining: 3.41s\n",
      "702:\tlearn: 0.8456799\ttotal: 8.04s\tremaining: 3.4s\n",
      "703:\tlearn: 0.8442987\ttotal: 8.05s\tremaining: 3.38s\n",
      "704:\tlearn: 0.8432603\ttotal: 8.06s\tremaining: 3.37s\n",
      "705:\tlearn: 0.8419588\ttotal: 8.07s\tremaining: 3.36s\n",
      "706:\tlearn: 0.8407141\ttotal: 8.08s\tremaining: 3.35s\n",
      "707:\tlearn: 0.8398894\ttotal: 8.09s\tremaining: 3.33s\n",
      "708:\tlearn: 0.8390746\ttotal: 8.1s\tremaining: 3.32s\n",
      "709:\tlearn: 0.8382406\ttotal: 8.11s\tremaining: 3.31s\n",
      "710:\tlearn: 0.8373727\ttotal: 8.12s\tremaining: 3.3s\n",
      "711:\tlearn: 0.8365230\ttotal: 8.12s\tremaining: 3.29s\n",
      "712:\tlearn: 0.8356758\ttotal: 8.13s\tremaining: 3.27s\n",
      "713:\tlearn: 0.8352504\ttotal: 8.14s\tremaining: 3.26s\n",
      "714:\tlearn: 0.8346418\ttotal: 8.15s\tremaining: 3.25s\n",
      "715:\tlearn: 0.8338857\ttotal: 8.16s\tremaining: 3.24s\n",
      "716:\tlearn: 0.8327624\ttotal: 8.17s\tremaining: 3.23s\n",
      "717:\tlearn: 0.8319256\ttotal: 8.18s\tremaining: 3.21s\n",
      "718:\tlearn: 0.8310247\ttotal: 8.2s\tremaining: 3.2s\n",
      "719:\tlearn: 0.8296013\ttotal: 8.21s\tremaining: 3.19s\n",
      "720:\tlearn: 0.8276636\ttotal: 8.22s\tremaining: 3.18s\n",
      "721:\tlearn: 0.8268643\ttotal: 8.23s\tremaining: 3.17s\n",
      "722:\tlearn: 0.8262043\ttotal: 8.23s\tremaining: 3.15s\n",
      "723:\tlearn: 0.8252860\ttotal: 8.24s\tremaining: 3.14s\n",
      "724:\tlearn: 0.8240942\ttotal: 8.25s\tremaining: 3.13s\n",
      "725:\tlearn: 0.8231667\ttotal: 8.26s\tremaining: 3.12s\n",
      "726:\tlearn: 0.8228875\ttotal: 8.27s\tremaining: 3.11s\n",
      "727:\tlearn: 0.8217773\ttotal: 8.28s\tremaining: 3.09s\n",
      "728:\tlearn: 0.8209409\ttotal: 8.29s\tremaining: 3.08s\n",
      "729:\tlearn: 0.8194978\ttotal: 8.3s\tremaining: 3.07s\n",
      "730:\tlearn: 0.8184342\ttotal: 8.31s\tremaining: 3.06s\n",
      "731:\tlearn: 0.8176963\ttotal: 8.32s\tremaining: 3.05s\n",
      "732:\tlearn: 0.8166593\ttotal: 8.33s\tremaining: 3.04s\n",
      "733:\tlearn: 0.8152276\ttotal: 8.34s\tremaining: 3.02s\n",
      "734:\tlearn: 0.8140547\ttotal: 8.35s\tremaining: 3.01s\n",
      "735:\tlearn: 0.8132060\ttotal: 8.36s\tremaining: 3s\n",
      "736:\tlearn: 0.8125159\ttotal: 8.37s\tremaining: 2.99s\n",
      "737:\tlearn: 0.8114502\ttotal: 8.38s\tremaining: 2.98s\n",
      "738:\tlearn: 0.8108046\ttotal: 8.39s\tremaining: 2.96s\n",
      "739:\tlearn: 0.8098626\ttotal: 8.4s\tremaining: 2.95s\n",
      "740:\tlearn: 0.8084488\ttotal: 8.41s\tremaining: 2.94s\n",
      "741:\tlearn: 0.8076870\ttotal: 8.43s\tremaining: 2.93s\n",
      "742:\tlearn: 0.8070282\ttotal: 8.44s\tremaining: 2.92s\n",
      "743:\tlearn: 0.8062491\ttotal: 8.45s\tremaining: 2.9s\n",
      "744:\tlearn: 0.8055786\ttotal: 8.45s\tremaining: 2.89s\n",
      "745:\tlearn: 0.8045042\ttotal: 8.46s\tremaining: 2.88s\n",
      "746:\tlearn: 0.8032903\ttotal: 8.47s\tremaining: 2.87s\n",
      "747:\tlearn: 0.8019544\ttotal: 8.48s\tremaining: 2.86s\n",
      "748:\tlearn: 0.8015251\ttotal: 8.49s\tremaining: 2.85s\n",
      "749:\tlearn: 0.8006734\ttotal: 8.5s\tremaining: 2.83s\n",
      "750:\tlearn: 0.7995039\ttotal: 8.51s\tremaining: 2.82s\n",
      "751:\tlearn: 0.7986478\ttotal: 8.52s\tremaining: 2.81s\n",
      "752:\tlearn: 0.7971225\ttotal: 8.53s\tremaining: 2.8s\n",
      "753:\tlearn: 0.7964746\ttotal: 8.54s\tremaining: 2.79s\n",
      "754:\tlearn: 0.7948749\ttotal: 8.55s\tremaining: 2.77s\n",
      "755:\tlearn: 0.7932097\ttotal: 8.56s\tremaining: 2.76s\n",
      "756:\tlearn: 0.7930486\ttotal: 8.57s\tremaining: 2.75s\n",
      "757:\tlearn: 0.7923913\ttotal: 8.58s\tremaining: 2.74s\n",
      "758:\tlearn: 0.7915919\ttotal: 8.59s\tremaining: 2.73s\n",
      "759:\tlearn: 0.7908618\ttotal: 8.6s\tremaining: 2.71s\n",
      "760:\tlearn: 0.7896014\ttotal: 8.61s\tremaining: 2.7s\n",
      "761:\tlearn: 0.7889215\ttotal: 8.63s\tremaining: 2.69s\n",
      "762:\tlearn: 0.7882275\ttotal: 8.64s\tremaining: 2.68s\n",
      "763:\tlearn: 0.7875037\ttotal: 8.64s\tremaining: 2.67s\n",
      "764:\tlearn: 0.7867154\ttotal: 8.65s\tremaining: 2.66s\n",
      "765:\tlearn: 0.7855473\ttotal: 8.66s\tremaining: 2.65s\n",
      "766:\tlearn: 0.7847475\ttotal: 8.67s\tremaining: 2.63s\n",
      "767:\tlearn: 0.7842642\ttotal: 8.68s\tremaining: 2.62s\n",
      "768:\tlearn: 0.7835183\ttotal: 8.69s\tremaining: 2.61s\n",
      "769:\tlearn: 0.7827682\ttotal: 8.7s\tremaining: 2.6s\n",
      "770:\tlearn: 0.7822205\ttotal: 8.71s\tremaining: 2.59s\n",
      "771:\tlearn: 0.7816850\ttotal: 8.72s\tremaining: 2.58s\n",
      "772:\tlearn: 0.7810968\ttotal: 8.73s\tremaining: 2.56s\n",
      "773:\tlearn: 0.7804372\ttotal: 8.74s\tremaining: 2.55s\n",
      "774:\tlearn: 0.7802812\ttotal: 8.75s\tremaining: 2.54s\n",
      "775:\tlearn: 0.7796108\ttotal: 8.76s\tremaining: 2.53s\n",
      "776:\tlearn: 0.7789366\ttotal: 8.77s\tremaining: 2.52s\n",
      "777:\tlearn: 0.7783491\ttotal: 8.78s\tremaining: 2.5s\n",
      "778:\tlearn: 0.7777699\ttotal: 8.79s\tremaining: 2.49s\n",
      "779:\tlearn: 0.7768870\ttotal: 8.8s\tremaining: 2.48s\n",
      "780:\tlearn: 0.7761912\ttotal: 8.8s\tremaining: 2.47s\n",
      "781:\tlearn: 0.7752766\ttotal: 8.82s\tremaining: 2.46s\n",
      "782:\tlearn: 0.7743325\ttotal: 8.83s\tremaining: 2.45s\n",
      "783:\tlearn: 0.7729093\ttotal: 8.84s\tremaining: 2.44s\n",
      "784:\tlearn: 0.7724484\ttotal: 8.85s\tremaining: 2.42s\n",
      "785:\tlearn: 0.7716557\ttotal: 8.86s\tremaining: 2.41s\n",
      "786:\tlearn: 0.7710480\ttotal: 8.87s\tremaining: 2.4s\n",
      "787:\tlearn: 0.7705641\ttotal: 8.88s\tremaining: 2.39s\n",
      "788:\tlearn: 0.7692362\ttotal: 8.89s\tremaining: 2.38s\n",
      "789:\tlearn: 0.7682193\ttotal: 8.9s\tremaining: 2.37s\n",
      "790:\tlearn: 0.7672054\ttotal: 8.91s\tremaining: 2.35s\n",
      "791:\tlearn: 0.7665676\ttotal: 8.92s\tremaining: 2.34s\n",
      "792:\tlearn: 0.7657344\ttotal: 8.93s\tremaining: 2.33s\n",
      "793:\tlearn: 0.7650180\ttotal: 8.94s\tremaining: 2.32s\n",
      "794:\tlearn: 0.7635736\ttotal: 8.95s\tremaining: 2.31s\n",
      "795:\tlearn: 0.7628269\ttotal: 8.96s\tremaining: 2.29s\n",
      "796:\tlearn: 0.7615950\ttotal: 8.97s\tremaining: 2.28s\n",
      "797:\tlearn: 0.7606682\ttotal: 8.97s\tremaining: 2.27s\n",
      "798:\tlearn: 0.7597806\ttotal: 8.98s\tremaining: 2.26s\n",
      "799:\tlearn: 0.7590361\ttotal: 8.99s\tremaining: 2.25s\n",
      "800:\tlearn: 0.7583135\ttotal: 9s\tremaining: 2.24s\n",
      "801:\tlearn: 0.7576363\ttotal: 9.01s\tremaining: 2.23s\n",
      "802:\tlearn: 0.7568667\ttotal: 9.03s\tremaining: 2.21s\n",
      "803:\tlearn: 0.7557944\ttotal: 9.04s\tremaining: 2.2s\n",
      "804:\tlearn: 0.7549293\ttotal: 9.05s\tremaining: 2.19s\n",
      "805:\tlearn: 0.7540349\ttotal: 9.06s\tremaining: 2.18s\n",
      "806:\tlearn: 0.7535914\ttotal: 9.07s\tremaining: 2.17s\n",
      "807:\tlearn: 0.7528333\ttotal: 9.08s\tremaining: 2.16s\n",
      "808:\tlearn: 0.7522657\ttotal: 9.09s\tremaining: 2.15s\n",
      "809:\tlearn: 0.7516489\ttotal: 9.1s\tremaining: 2.13s\n",
      "810:\tlearn: 0.7503433\ttotal: 9.11s\tremaining: 2.12s\n",
      "811:\tlearn: 0.7493612\ttotal: 9.12s\tremaining: 2.11s\n",
      "812:\tlearn: 0.7484210\ttotal: 9.13s\tremaining: 2.1s\n",
      "813:\tlearn: 0.7476868\ttotal: 9.14s\tremaining: 2.09s\n",
      "814:\tlearn: 0.7470936\ttotal: 9.15s\tremaining: 2.08s\n",
      "815:\tlearn: 0.7460910\ttotal: 9.16s\tremaining: 2.06s\n",
      "816:\tlearn: 0.7452608\ttotal: 9.17s\tremaining: 2.05s\n",
      "817:\tlearn: 0.7442880\ttotal: 9.18s\tremaining: 2.04s\n",
      "818:\tlearn: 0.7430726\ttotal: 9.18s\tremaining: 2.03s\n",
      "819:\tlearn: 0.7430190\ttotal: 9.19s\tremaining: 2.02s\n",
      "820:\tlearn: 0.7420247\ttotal: 9.2s\tremaining: 2.01s\n",
      "821:\tlearn: 0.7412605\ttotal: 9.21s\tremaining: 2s\n",
      "822:\tlearn: 0.7405181\ttotal: 9.22s\tremaining: 1.98s\n",
      "823:\tlearn: 0.7398137\ttotal: 9.24s\tremaining: 1.97s\n",
      "824:\tlearn: 0.7391049\ttotal: 9.25s\tremaining: 1.96s\n",
      "825:\tlearn: 0.7380492\ttotal: 9.26s\tremaining: 1.95s\n",
      "826:\tlearn: 0.7371521\ttotal: 9.27s\tremaining: 1.94s\n",
      "827:\tlearn: 0.7365664\ttotal: 9.28s\tremaining: 1.93s\n",
      "828:\tlearn: 0.7361062\ttotal: 9.29s\tremaining: 1.92s\n",
      "829:\tlearn: 0.7354733\ttotal: 9.3s\tremaining: 1.91s\n",
      "830:\tlearn: 0.7346749\ttotal: 9.31s\tremaining: 1.89s\n",
      "831:\tlearn: 0.7340987\ttotal: 9.32s\tremaining: 1.88s\n",
      "832:\tlearn: 0.7333066\ttotal: 9.33s\tremaining: 1.87s\n",
      "833:\tlearn: 0.7327402\ttotal: 9.34s\tremaining: 1.86s\n",
      "834:\tlearn: 0.7318677\ttotal: 9.35s\tremaining: 1.85s\n",
      "835:\tlearn: 0.7311030\ttotal: 9.36s\tremaining: 1.84s\n",
      "836:\tlearn: 0.7300924\ttotal: 9.37s\tremaining: 1.82s\n",
      "837:\tlearn: 0.7293051\ttotal: 9.38s\tremaining: 1.81s\n",
      "838:\tlearn: 0.7282602\ttotal: 9.39s\tremaining: 1.8s\n",
      "839:\tlearn: 0.7277448\ttotal: 9.4s\tremaining: 1.79s\n",
      "840:\tlearn: 0.7270388\ttotal: 9.41s\tremaining: 1.78s\n",
      "841:\tlearn: 0.7262826\ttotal: 9.42s\tremaining: 1.77s\n",
      "842:\tlearn: 0.7250546\ttotal: 9.44s\tremaining: 1.76s\n",
      "843:\tlearn: 0.7246898\ttotal: 9.45s\tremaining: 1.75s\n",
      "844:\tlearn: 0.7240570\ttotal: 9.46s\tremaining: 1.73s\n",
      "845:\tlearn: 0.7233836\ttotal: 9.47s\tremaining: 1.72s\n",
      "846:\tlearn: 0.7221885\ttotal: 9.48s\tremaining: 1.71s\n",
      "847:\tlearn: 0.7213236\ttotal: 9.49s\tremaining: 1.7s\n",
      "848:\tlearn: 0.7207767\ttotal: 9.49s\tremaining: 1.69s\n",
      "849:\tlearn: 0.7206708\ttotal: 9.5s\tremaining: 1.68s\n",
      "850:\tlearn: 0.7200857\ttotal: 9.51s\tremaining: 1.67s\n",
      "851:\tlearn: 0.7194987\ttotal: 9.52s\tremaining: 1.65s\n",
      "852:\tlearn: 0.7190399\ttotal: 9.53s\tremaining: 1.64s\n",
      "853:\tlearn: 0.7184690\ttotal: 9.54s\tremaining: 1.63s\n",
      "854:\tlearn: 0.7180233\ttotal: 9.55s\tremaining: 1.62s\n",
      "855:\tlearn: 0.7169079\ttotal: 9.56s\tremaining: 1.61s\n",
      "856:\tlearn: 0.7159372\ttotal: 9.57s\tremaining: 1.6s\n",
      "857:\tlearn: 0.7152844\ttotal: 9.58s\tremaining: 1.58s\n",
      "858:\tlearn: 0.7144853\ttotal: 9.59s\tremaining: 1.57s\n",
      "859:\tlearn: 0.7139730\ttotal: 9.6s\tremaining: 1.56s\n",
      "860:\tlearn: 0.7128410\ttotal: 9.61s\tremaining: 1.55s\n",
      "861:\tlearn: 0.7120857\ttotal: 9.62s\tremaining: 1.54s\n",
      "862:\tlearn: 0.7110456\ttotal: 9.63s\tremaining: 1.53s\n",
      "863:\tlearn: 0.7109015\ttotal: 9.64s\tremaining: 1.52s\n",
      "864:\tlearn: 0.7098768\ttotal: 9.66s\tremaining: 1.51s\n",
      "865:\tlearn: 0.7092195\ttotal: 9.67s\tremaining: 1.5s\n",
      "866:\tlearn: 0.7088777\ttotal: 9.68s\tremaining: 1.48s\n",
      "867:\tlearn: 0.7084603\ttotal: 9.69s\tremaining: 1.47s\n",
      "868:\tlearn: 0.7084114\ttotal: 9.7s\tremaining: 1.46s\n",
      "869:\tlearn: 0.7082896\ttotal: 9.71s\tremaining: 1.45s\n",
      "870:\tlearn: 0.7077656\ttotal: 9.72s\tremaining: 1.44s\n",
      "871:\tlearn: 0.7072120\ttotal: 9.72s\tremaining: 1.43s\n",
      "872:\tlearn: 0.7061215\ttotal: 9.73s\tremaining: 1.42s\n",
      "873:\tlearn: 0.7050509\ttotal: 9.74s\tremaining: 1.4s\n",
      "874:\tlearn: 0.7037125\ttotal: 9.76s\tremaining: 1.39s\n",
      "875:\tlearn: 0.7028391\ttotal: 9.77s\tremaining: 1.38s\n",
      "876:\tlearn: 0.7027741\ttotal: 9.77s\tremaining: 1.37s\n",
      "877:\tlearn: 0.7027288\ttotal: 9.78s\tremaining: 1.36s\n",
      "878:\tlearn: 0.7022997\ttotal: 9.79s\tremaining: 1.35s\n",
      "879:\tlearn: 0.7017906\ttotal: 9.8s\tremaining: 1.34s\n",
      "880:\tlearn: 0.7013236\ttotal: 9.81s\tremaining: 1.32s\n",
      "881:\tlearn: 0.7012141\ttotal: 9.82s\tremaining: 1.31s\n",
      "882:\tlearn: 0.7003566\ttotal: 9.83s\tremaining: 1.3s\n",
      "883:\tlearn: 0.6996485\ttotal: 9.84s\tremaining: 1.29s\n",
      "884:\tlearn: 0.6989560\ttotal: 9.85s\tremaining: 1.28s\n",
      "885:\tlearn: 0.6983558\ttotal: 9.87s\tremaining: 1.27s\n",
      "886:\tlearn: 0.6979474\ttotal: 9.88s\tremaining: 1.26s\n",
      "887:\tlearn: 0.6973079\ttotal: 9.89s\tremaining: 1.25s\n",
      "888:\tlearn: 0.6965291\ttotal: 9.9s\tremaining: 1.24s\n",
      "889:\tlearn: 0.6958377\ttotal: 9.9s\tremaining: 1.22s\n",
      "890:\tlearn: 0.6954583\ttotal: 9.91s\tremaining: 1.21s\n",
      "891:\tlearn: 0.6947155\ttotal: 9.92s\tremaining: 1.2s\n",
      "892:\tlearn: 0.6937642\ttotal: 9.93s\tremaining: 1.19s\n",
      "893:\tlearn: 0.6934373\ttotal: 9.94s\tremaining: 1.18s\n",
      "894:\tlearn: 0.6924763\ttotal: 9.95s\tremaining: 1.17s\n",
      "895:\tlearn: 0.6918450\ttotal: 9.96s\tremaining: 1.16s\n",
      "896:\tlearn: 0.6908851\ttotal: 9.97s\tremaining: 1.15s\n",
      "897:\tlearn: 0.6908420\ttotal: 9.98s\tremaining: 1.13s\n",
      "898:\tlearn: 0.6901364\ttotal: 9.99s\tremaining: 1.12s\n",
      "899:\tlearn: 0.6889311\ttotal: 10s\tremaining: 1.11s\n",
      "900:\tlearn: 0.6881115\ttotal: 10s\tremaining: 1.1s\n",
      "901:\tlearn: 0.6873566\ttotal: 10s\tremaining: 1.09s\n",
      "902:\tlearn: 0.6873014\ttotal: 10s\tremaining: 1.08s\n",
      "903:\tlearn: 0.6868040\ttotal: 10s\tremaining: 1.06s\n",
      "904:\tlearn: 0.6862502\ttotal: 10s\tremaining: 1.05s\n",
      "905:\tlearn: 0.6854372\ttotal: 10.1s\tremaining: 1.04s\n",
      "906:\tlearn: 0.6853978\ttotal: 10.1s\tremaining: 1.03s\n",
      "907:\tlearn: 0.6843665\ttotal: 10.1s\tremaining: 1.02s\n",
      "908:\tlearn: 0.6837298\ttotal: 10.1s\tremaining: 1.01s\n",
      "909:\tlearn: 0.6832061\ttotal: 10.1s\tremaining: 999ms\n",
      "910:\tlearn: 0.6824293\ttotal: 10.1s\tremaining: 988ms\n",
      "911:\tlearn: 0.6817222\ttotal: 10.1s\tremaining: 976ms\n",
      "912:\tlearn: 0.6812631\ttotal: 10.1s\tremaining: 965ms\n",
      "913:\tlearn: 0.6807729\ttotal: 10.1s\tremaining: 954ms\n",
      "914:\tlearn: 0.6800564\ttotal: 10.1s\tremaining: 942ms\n",
      "915:\tlearn: 0.6800163\ttotal: 10.2s\tremaining: 931ms\n",
      "916:\tlearn: 0.6791639\ttotal: 10.2s\tremaining: 920ms\n",
      "917:\tlearn: 0.6781196\ttotal: 10.2s\tremaining: 909ms\n",
      "918:\tlearn: 0.6776661\ttotal: 10.2s\tremaining: 898ms\n",
      "919:\tlearn: 0.6767913\ttotal: 10.2s\tremaining: 887ms\n",
      "920:\tlearn: 0.6767500\ttotal: 10.2s\tremaining: 875ms\n",
      "921:\tlearn: 0.6761592\ttotal: 10.2s\tremaining: 864ms\n",
      "922:\tlearn: 0.6752407\ttotal: 10.2s\tremaining: 853ms\n",
      "923:\tlearn: 0.6743506\ttotal: 10.2s\tremaining: 842ms\n",
      "924:\tlearn: 0.6740470\ttotal: 10.2s\tremaining: 831ms\n",
      "925:\tlearn: 0.6734971\ttotal: 10.3s\tremaining: 820ms\n",
      "926:\tlearn: 0.6731465\ttotal: 10.3s\tremaining: 808ms\n",
      "927:\tlearn: 0.6725788\ttotal: 10.3s\tremaining: 797ms\n",
      "928:\tlearn: 0.6719248\ttotal: 10.3s\tremaining: 786ms\n",
      "929:\tlearn: 0.6710929\ttotal: 10.3s\tremaining: 776ms\n",
      "930:\tlearn: 0.6701797\ttotal: 10.3s\tremaining: 765ms\n",
      "931:\tlearn: 0.6698060\ttotal: 10.3s\tremaining: 753ms\n",
      "932:\tlearn: 0.6691002\ttotal: 10.3s\tremaining: 742ms\n",
      "933:\tlearn: 0.6689308\ttotal: 10.3s\tremaining: 731ms\n",
      "934:\tlearn: 0.6683697\ttotal: 10.4s\tremaining: 720ms\n",
      "935:\tlearn: 0.6673455\ttotal: 10.4s\tremaining: 709ms\n",
      "936:\tlearn: 0.6667075\ttotal: 10.4s\tremaining: 697ms\n",
      "937:\tlearn: 0.6666700\ttotal: 10.4s\tremaining: 686ms\n",
      "938:\tlearn: 0.6660253\ttotal: 10.4s\tremaining: 675ms\n",
      "939:\tlearn: 0.6652822\ttotal: 10.4s\tremaining: 664ms\n",
      "940:\tlearn: 0.6646728\ttotal: 10.4s\tremaining: 653ms\n",
      "941:\tlearn: 0.6640513\ttotal: 10.4s\tremaining: 642ms\n",
      "942:\tlearn: 0.6633525\ttotal: 10.4s\tremaining: 630ms\n",
      "943:\tlearn: 0.6628770\ttotal: 10.4s\tremaining: 619ms\n",
      "944:\tlearn: 0.6623706\ttotal: 10.4s\tremaining: 608ms\n",
      "945:\tlearn: 0.6622165\ttotal: 10.5s\tremaining: 597ms\n",
      "946:\tlearn: 0.6616230\ttotal: 10.5s\tremaining: 586ms\n",
      "947:\tlearn: 0.6615842\ttotal: 10.5s\tremaining: 575ms\n",
      "948:\tlearn: 0.6610563\ttotal: 10.5s\tremaining: 564ms\n",
      "949:\tlearn: 0.6604542\ttotal: 10.5s\tremaining: 553ms\n",
      "950:\tlearn: 0.6593968\ttotal: 10.5s\tremaining: 542ms\n",
      "951:\tlearn: 0.6590148\ttotal: 10.5s\tremaining: 531ms\n",
      "952:\tlearn: 0.6580414\ttotal: 10.5s\tremaining: 519ms\n",
      "953:\tlearn: 0.6576343\ttotal: 10.5s\tremaining: 508ms\n",
      "954:\tlearn: 0.6568651\ttotal: 10.5s\tremaining: 497ms\n",
      "955:\tlearn: 0.6561688\ttotal: 10.6s\tremaining: 486ms\n",
      "956:\tlearn: 0.6556626\ttotal: 10.6s\tremaining: 475ms\n",
      "957:\tlearn: 0.6550422\ttotal: 10.6s\tremaining: 464ms\n",
      "958:\tlearn: 0.6544824\ttotal: 10.6s\tremaining: 453ms\n",
      "959:\tlearn: 0.6540350\ttotal: 10.6s\tremaining: 442ms\n",
      "960:\tlearn: 0.6533430\ttotal: 10.6s\tremaining: 431ms\n",
      "961:\tlearn: 0.6527655\ttotal: 10.6s\tremaining: 419ms\n",
      "962:\tlearn: 0.6522058\ttotal: 10.6s\tremaining: 408ms\n",
      "963:\tlearn: 0.6515911\ttotal: 10.6s\tremaining: 397ms\n",
      "964:\tlearn: 0.6510628\ttotal: 10.6s\tremaining: 386ms\n",
      "965:\tlearn: 0.6506827\ttotal: 10.7s\tremaining: 375ms\n",
      "966:\tlearn: 0.6506122\ttotal: 10.7s\tremaining: 364ms\n",
      "967:\tlearn: 0.6497465\ttotal: 10.7s\tremaining: 353ms\n",
      "968:\tlearn: 0.6497113\ttotal: 10.7s\tremaining: 342ms\n",
      "969:\tlearn: 0.6493589\ttotal: 10.7s\tremaining: 331ms\n",
      "970:\tlearn: 0.6487049\ttotal: 10.7s\tremaining: 320ms\n",
      "971:\tlearn: 0.6480445\ttotal: 10.7s\tremaining: 309ms\n",
      "972:\tlearn: 0.6472852\ttotal: 10.7s\tremaining: 298ms\n",
      "973:\tlearn: 0.6463557\ttotal: 10.7s\tremaining: 287ms\n",
      "974:\tlearn: 0.6459564\ttotal: 10.7s\tremaining: 276ms\n",
      "975:\tlearn: 0.6459210\ttotal: 10.8s\tremaining: 264ms\n",
      "976:\tlearn: 0.6451740\ttotal: 10.8s\tremaining: 253ms\n",
      "977:\tlearn: 0.6446585\ttotal: 10.8s\tremaining: 242ms\n",
      "978:\tlearn: 0.6441670\ttotal: 10.8s\tremaining: 231ms\n",
      "979:\tlearn: 0.6438027\ttotal: 10.8s\tremaining: 220ms\n",
      "980:\tlearn: 0.6432218\ttotal: 10.8s\tremaining: 209ms\n",
      "981:\tlearn: 0.6427816\ttotal: 10.8s\tremaining: 198ms\n",
      "982:\tlearn: 0.6426769\ttotal: 10.8s\tremaining: 187ms\n",
      "983:\tlearn: 0.6418375\ttotal: 10.8s\tremaining: 176ms\n",
      "984:\tlearn: 0.6413278\ttotal: 10.8s\tremaining: 165ms\n",
      "985:\tlearn: 0.6405737\ttotal: 10.8s\tremaining: 154ms\n",
      "986:\tlearn: 0.6401023\ttotal: 10.9s\tremaining: 143ms\n",
      "987:\tlearn: 0.6393509\ttotal: 10.9s\tremaining: 132ms\n",
      "988:\tlearn: 0.6386576\ttotal: 10.9s\tremaining: 121ms\n",
      "989:\tlearn: 0.6380605\ttotal: 10.9s\tremaining: 110ms\n",
      "990:\tlearn: 0.6372977\ttotal: 10.9s\tremaining: 99ms\n",
      "991:\tlearn: 0.6367597\ttotal: 10.9s\tremaining: 87.9ms\n",
      "992:\tlearn: 0.6365571\ttotal: 10.9s\tremaining: 77ms\n",
      "993:\tlearn: 0.6356477\ttotal: 10.9s\tremaining: 66ms\n",
      "994:\tlearn: 0.6349428\ttotal: 10.9s\tremaining: 55ms\n",
      "995:\tlearn: 0.6344066\ttotal: 10.9s\tremaining: 44ms\n",
      "996:\tlearn: 0.6341492\ttotal: 11s\tremaining: 33ms\n",
      "997:\tlearn: 0.6335613\ttotal: 11s\tremaining: 22ms\n",
      "998:\tlearn: 0.6330142\ttotal: 11s\tremaining: 11ms\n",
      "999:\tlearn: 0.6325117\ttotal: 11s\tremaining: 0us\n",
      "0:\tlearn: 31.9444965\ttest: 53.7271425\tbest: 53.7271425 (0)\ttotal: 4.18ms\tremaining: 623ms\n",
      "10:\tlearn: 13.5845586\ttest: 28.2249111\tbest: 28.2249111 (10)\ttotal: 38.6ms\tremaining: 488ms\n",
      "20:\tlearn: 8.4208214\ttest: 18.6009101\tbest: 18.6009101 (20)\ttotal: 70.2ms\tremaining: 431ms\n",
      "30:\tlearn: 6.5235531\ttest: 15.7453655\tbest: 15.7453655 (30)\ttotal: 101ms\tremaining: 386ms\n",
      "40:\tlearn: 5.3379677\ttest: 14.0088033\tbest: 14.0088033 (40)\ttotal: 133ms\tremaining: 353ms\n",
      "50:\tlearn: 4.5735647\ttest: 12.9503459\tbest: 12.9503459 (50)\ttotal: 169ms\tremaining: 327ms\n",
      "60:\tlearn: 3.9902654\ttest: 11.9509886\tbest: 11.9509886 (60)\ttotal: 239ms\tremaining: 349ms\n",
      "70:\tlearn: 3.5518310\ttest: 11.5323937\tbest: 11.5323937 (70)\ttotal: 278ms\tremaining: 310ms\n",
      "80:\tlearn: 3.2541952\ttest: 11.0854485\tbest: 11.0854485 (80)\ttotal: 312ms\tremaining: 266ms\n",
      "90:\tlearn: 3.0276121\ttest: 10.6933530\tbest: 10.6933530 (90)\ttotal: 349ms\tremaining: 226ms\n",
      "100:\tlearn: 2.8091834\ttest: 10.3941911\tbest: 10.3941911 (100)\ttotal: 392ms\tremaining: 190ms\n",
      "110:\tlearn: 2.6082592\ttest: 10.2613474\tbest: 10.2613474 (110)\ttotal: 444ms\tremaining: 156ms\n",
      "120:\tlearn: 2.4741686\ttest: 10.1170562\tbest: 10.1170562 (120)\ttotal: 487ms\tremaining: 117ms\n",
      "130:\tlearn: 2.3711968\ttest: 10.0062468\tbest: 10.0062468 (130)\ttotal: 520ms\tremaining: 75.4ms\n",
      "140:\tlearn: 2.2510180\ttest: 9.9189039\tbest: 9.9169170 (138)\ttotal: 557ms\tremaining: 35.6ms\n",
      "149:\tlearn: 2.1959454\ttest: 9.8267416\tbest: 9.8267416 (149)\ttotal: 589ms\tremaining: 0us\n",
      "\n",
      "bestTest = 9.826741644\n",
      "bestIteration = 149\n",
      "\n",
      "0:\tlearn: 31.9444965\ttest: 53.7271425\tbest: 53.7271425 (0)\ttotal: 7.86ms\tremaining: 1.17s\n",
      "10:\tlearn: 13.5845586\ttest: 28.2249111\tbest: 28.2249111 (10)\ttotal: 44.5ms\tremaining: 562ms\n",
      "20:\tlearn: 8.4208214\ttest: 18.6009101\tbest: 18.6009101 (20)\ttotal: 80.4ms\tremaining: 494ms\n",
      "30:\tlearn: 6.5235531\ttest: 15.7453655\tbest: 15.7453655 (30)\ttotal: 113ms\tremaining: 434ms\n",
      "40:\tlearn: 5.3379677\ttest: 14.0088033\tbest: 14.0088033 (40)\ttotal: 149ms\tremaining: 397ms\n",
      "50:\tlearn: 4.5735647\ttest: 12.9503459\tbest: 12.9503459 (50)\ttotal: 186ms\tremaining: 361ms\n",
      "60:\tlearn: 3.9902654\ttest: 11.9509886\tbest: 11.9509886 (60)\ttotal: 222ms\tremaining: 325ms\n",
      "70:\tlearn: 3.5518310\ttest: 11.5323937\tbest: 11.5323937 (70)\ttotal: 260ms\tremaining: 289ms\n",
      "80:\tlearn: 3.2541952\ttest: 11.0854485\tbest: 11.0854485 (80)\ttotal: 308ms\tremaining: 263ms\n",
      "90:\tlearn: 3.0276121\ttest: 10.6933530\tbest: 10.6933530 (90)\ttotal: 351ms\tremaining: 228ms\n",
      "100:\tlearn: 2.8091834\ttest: 10.3941911\tbest: 10.3941911 (100)\ttotal: 387ms\tremaining: 188ms\n",
      "110:\tlearn: 2.6082592\ttest: 10.2613474\tbest: 10.2613474 (110)\ttotal: 440ms\tremaining: 155ms\n",
      "120:\tlearn: 2.4741686\ttest: 10.1170562\tbest: 10.1170562 (120)\ttotal: 480ms\tremaining: 115ms\n",
      "130:\tlearn: 2.3711968\ttest: 10.0062468\tbest: 10.0062468 (130)\ttotal: 512ms\tremaining: 74.3ms\n",
      "140:\tlearn: 2.2510180\ttest: 9.9189039\tbest: 9.9169170 (138)\ttotal: 551ms\tremaining: 35.2ms\n",
      "149:\tlearn: 2.1959454\ttest: 9.8267416\tbest: 9.8267416 (149)\ttotal: 584ms\tremaining: 0us\n",
      "\n",
      "bestTest = 9.826741644\n",
      "bestIteration = 149\n",
      "\n",
      "Melhores Hiperparâmetros: {'depth': 3, 'iterations': 150, 'learning_rate': 0.2}\n",
      "Tempo de execução: 278.86683159996755 segundos\n",
      "\n",
      "REQM para conjunto de validação: 9.826741644239005\n",
      "\n",
      "REQM para conjunto de teste: 18.37082310085894\n"
     ]
    }
   ],
   "source": [
    "# Definindo o modelo de CatBoost\n",
    "model_cat = CatBoostRegressor(random_seed=12345, loss_function='RMSE', early_stopping_rounds=10)\n",
    "model_cat.fit(features_train, target_train)\n",
    "\n",
    "# Definindo a grade de hiperparâmetros\n",
    "param_grid = {'learning_rate': [0.1, 0.2, 0.3],\n",
    "              'depth': [1, 3, 6, 10],\n",
    "              'iterations': [50, 100, 150]}\n",
    "    \n",
    "\n",
    "# Configurando o GridSearchCV\n",
    "grid_search = GridSearchCV(estimator=model_cat, param_grid=param_grid, cv=3, n_jobs=-1, scoring='neg_mean_squared_error')\n",
    "\n",
    "\n",
    "# Função para executar o ajuste do modelo\n",
    "def fit_model_cat():\n",
    "    grid_search.fit(features_train, target_train, eval_set=(features_valid, target_valid), verbose=10, use_best_model=True)\n",
    "\n",
    "# Medindo o tempo de execução do treinamento\n",
    "time_train_cat = timeit.timeit(fit_model_cat, number=1)\n",
    "\n",
    "# Treinando o modelo e fazendo as predições\n",
    "grid_search.fit(features_train, target_train, eval_set=(features_valid, target_valid), verbose=10, use_best_model=True)\n",
    "best_model_cat = grid_search.best_estimator_\n",
    "\n",
    "\n",
    "predict_valid_cat = best_model_cat.predict(features_valid)\n",
    "predict_test_cat = best_model_cat.predict(features_test)\n",
    "\n",
    "# Avaliando o modelo\n",
    "reqm_valid_cat = root_mean_squared_error(target_valid, predict_valid_cat)\n",
    "reqm_test_cat = root_mean_squared_error(target_test, predict_test_cat)\n",
    "\n",
    "print('Melhores Hiperparâmetros:', grid_search.best_params_)\n",
    "print(f'Tempo de execução: {time_train_cat} segundos')\n",
    "print()\n",
    "print('REQM para conjunto de validação:', reqm_valid_cat)\n",
    "print()\n",
    "print('REQM para conjunto de teste:', reqm_test_cat)"
   ]
  },
  {
   "cell_type": "markdown",
   "metadata": {},
   "source": [
    "### LGBM"
   ]
  },
  {
   "cell_type": "code",
   "execution_count": 19,
   "metadata": {
    "scrolled": true
   },
   "outputs": [
    {
     "name": "stdout",
     "output_type": "stream",
     "text": [
      "[LightGBM] [Info] Auto-choosing col-wise multi-threading, the overhead of testing was 0.002147 seconds.\n",
      "You can set `force_col_wise=true` to remove the overhead.\n",
      "[LightGBM] [Info] Total Bins 4724\n",
      "[LightGBM] [Info] Number of data points in the train set: 3508, number of used features: 30\n",
      "[LightGBM] [Info] Start training from score 74.427024\n",
      "Training until validation scores don't improve for 10 rounds\n",
      "[10]\tvalid_0's rmse: 35.5006\tvalid_0's l2: 1260.29\n",
      "[20]\tvalid_0's rmse: 24.8294\tvalid_0's l2: 616.501\n",
      "[30]\tvalid_0's rmse: 19.4858\tvalid_0's l2: 379.695\n",
      "[40]\tvalid_0's rmse: 16.6096\tvalid_0's l2: 275.88\n",
      "[50]\tvalid_0's rmse: 15.2171\tvalid_0's l2: 231.56\n",
      "[60]\tvalid_0's rmse: 14.3112\tvalid_0's l2: 204.81\n",
      "[70]\tvalid_0's rmse: 13.7364\tvalid_0's l2: 188.69\n",
      "[80]\tvalid_0's rmse: 13.4168\tvalid_0's l2: 180.011\n",
      "[90]\tvalid_0's rmse: 13.1626\tvalid_0's l2: 173.254\n",
      "[100]\tvalid_0's rmse: 13.0051\tvalid_0's l2: 169.132\n",
      "[110]\tvalid_0's rmse: 12.9035\tvalid_0's l2: 166.501\n",
      "[LightGBM] [Warning] No further splits with positive gain, best gain: -inf\n",
      "[120]\tvalid_0's rmse: 12.7808\tvalid_0's l2: 163.348\n",
      "[130]\tvalid_0's rmse: 12.8018\tvalid_0's l2: 163.886\n",
      "Early stopping, best iteration is:\n",
      "[120]\tvalid_0's rmse: 12.7808\tvalid_0's l2: 163.348\n",
      "[LightGBM] [Info] Auto-choosing col-wise multi-threading, the overhead of testing was 0.001903 seconds.\n",
      "You can set `force_col_wise=true` to remove the overhead.\n",
      "[LightGBM] [Info] Total Bins 4724\n",
      "[LightGBM] [Info] Number of data points in the train set: 3508, number of used features: 30\n",
      "[LightGBM] [Info] Start training from score 74.427024\n",
      "Training until validation scores don't improve for 10 rounds\n",
      "[10]\tvalid_0's rmse: 35.5006\tvalid_0's l2: 1260.29\n",
      "[20]\tvalid_0's rmse: 24.8294\tvalid_0's l2: 616.501\n",
      "[30]\tvalid_0's rmse: 19.4858\tvalid_0's l2: 379.695\n",
      "[40]\tvalid_0's rmse: 16.6096\tvalid_0's l2: 275.88\n",
      "[50]\tvalid_0's rmse: 15.2171\tvalid_0's l2: 231.56\n",
      "[60]\tvalid_0's rmse: 14.3112\tvalid_0's l2: 204.81\n",
      "[70]\tvalid_0's rmse: 13.7364\tvalid_0's l2: 188.69\n",
      "[80]\tvalid_0's rmse: 13.4168\tvalid_0's l2: 180.011\n",
      "[90]\tvalid_0's rmse: 13.1626\tvalid_0's l2: 173.254\n",
      "[100]\tvalid_0's rmse: 13.0051\tvalid_0's l2: 169.132\n",
      "[110]\tvalid_0's rmse: 12.9035\tvalid_0's l2: 166.501\n",
      "[LightGBM] [Warning] No further splits with positive gain, best gain: -inf\n",
      "[120]\tvalid_0's rmse: 12.7808\tvalid_0's l2: 163.348\n",
      "[130]\tvalid_0's rmse: 12.8018\tvalid_0's l2: 163.886\n",
      "Early stopping, best iteration is:\n",
      "[120]\tvalid_0's rmse: 12.7808\tvalid_0's l2: 163.348\n",
      "Tempo de execução: 42.05637500016019 segundos\n",
      "Melhores Hiperparâmetros: {'learning_rate': 0.1, 'max_depth': 5, 'n_estimators': 150, 'num_leaves': 10}\n",
      "\n",
      "REQM para conjunto de validação: 12.78076292276954\n",
      "\n",
      "REQM para conjunto de teste: 24.655098795573025\n"
     ]
    }
   ],
   "source": [
    "# Definindo o modelo LGBM\n",
    "model_lgb = lgb.LGBMRegressor(random_state=12345)\n",
    "\n",
    "# Definindo a grade de hiperparâmetros\n",
    "param_grid = {\n",
    "    'learning_rate': [0.01, 0.1, 0.2],\n",
    "    'num_leaves': [10, 30, 50],\n",
    "    'n_estimators': [50, 100, 150],\n",
    "    'max_depth': [-1, 5, 10]}\n",
    "\n",
    "# Configurando o GridSearchCV\n",
    "grid_search = GridSearchCV(\n",
    "    estimator=model_lgb,\n",
    "    param_grid=param_grid,\n",
    "    cv=3,\n",
    "    n_jobs=-1,\n",
    "    scoring='neg_mean_squared_error')\n",
    "\n",
    "# Função callback para logging\n",
    "callbacks = [lgb.log_evaluation(period=10), lgb.early_stopping(stopping_rounds=10)]\n",
    "\n",
    "# Função para ajustar o modelo\n",
    "def fit_model():\n",
    "    grid_search.fit(\n",
    "        features_train, target_train,\n",
    "        eval_set=[(features_valid, target_valid)],\n",
    "        eval_metric='rmse',\n",
    "        callbacks=callbacks)\n",
    "\n",
    "# Medindo o tempo de execução\n",
    "time_train_lgb = timeit.timeit(fit_model, number=1)\n",
    "\n",
    "# Treinando o modelo\n",
    "fit_model()\n",
    "best_model_lgb = grid_search.best_estimator_\n",
    "\n",
    "# Fazendo as predições e avaliando o modelo\n",
    "predict_valid_lgb = best_model_lgb.predict(features_valid)\n",
    "predict_test_lgb = best_model_lgb.predict(features_test)\n",
    "\n",
    "reqm_valid_lgb = root_mean_squared_error(target_valid, predict_valid_lgb)\n",
    "reqm_test_lgb = root_mean_squared_error(target_test, predict_test_lgb)\n",
    "\n",
    "print(f'Tempo de execução: {time_train_lgb} segundos')\n",
    "print('Melhores Hiperparâmetros:', grid_search.best_params_)\n",
    "print()\n",
    "print('REQM para conjunto de validação:', reqm_valid_lgb)\n",
    "print()\n",
    "print('REQM para conjunto de teste:', reqm_test_lgb)"
   ]
  },
  {
   "cell_type": "markdown",
   "metadata": {},
   "source": [
    "### XGBoost"
   ]
  },
  {
   "cell_type": "code",
   "execution_count": 28,
   "metadata": {
    "scrolled": true
   },
   "outputs": [
    {
     "name": "stdout",
     "output_type": "stream",
     "text": [
      "[0]\tvalidation_0-rmse:54.65676\n",
      "[10]\tvalidation_0-rmse:27.96597\n",
      "[20]\tvalidation_0-rmse:19.62484\n",
      "[30]\tvalidation_0-rmse:16.24939\n",
      "[40]\tvalidation_0-rmse:13.34201\n",
      "[50]\tvalidation_0-rmse:12.30864\n",
      "[60]\tvalidation_0-rmse:11.65455\n",
      "[70]\tvalidation_0-rmse:11.40706\n",
      "[80]\tvalidation_0-rmse:11.17524\n",
      "[90]\tvalidation_0-rmse:10.76345\n",
      "[100]\tvalidation_0-rmse:10.40312\n",
      "[110]\tvalidation_0-rmse:10.26834\n",
      "[120]\tvalidation_0-rmse:10.16367\n",
      "[130]\tvalidation_0-rmse:10.08338\n",
      "[140]\tvalidation_0-rmse:10.00523\n",
      "[149]\tvalidation_0-rmse:9.94274\n",
      "[0]\tvalidation_0-rmse:54.65676\n",
      "[10]\tvalidation_0-rmse:27.96597\n",
      "[20]\tvalidation_0-rmse:19.62484\n",
      "[30]\tvalidation_0-rmse:16.24939\n",
      "[40]\tvalidation_0-rmse:13.34201\n",
      "[50]\tvalidation_0-rmse:12.30864\n",
      "[60]\tvalidation_0-rmse:11.65455\n",
      "[70]\tvalidation_0-rmse:11.40706\n",
      "[80]\tvalidation_0-rmse:11.17524\n",
      "[90]\tvalidation_0-rmse:10.76345\n",
      "[100]\tvalidation_0-rmse:10.40312\n",
      "[110]\tvalidation_0-rmse:10.26834\n",
      "[120]\tvalidation_0-rmse:10.16367\n",
      "[130]\tvalidation_0-rmse:10.08338\n",
      "[140]\tvalidation_0-rmse:10.00523\n",
      "[149]\tvalidation_0-rmse:9.94274\n",
      "Tempo de execução: 103.22872789995745 segundos\n",
      "Melhores Hiperparâmetros: {'colsample_bytree': 0.7, 'learning_rate': 0.2, 'max_depth': 3, 'n_estimators': 150}\n",
      "\n",
      "REQM para conjunto de validação: 9.936589330452582\n",
      "\n",
      "REQM para conjunto de teste: 21.838173807051604\n"
     ]
    }
   ],
   "source": [
    "# Definindo o modelo XGBoost\n",
    "model_xgb = xgb.XGBRegressor(random_state=12345, eval_metric='rmse', early_stopping_rounds=10)\n",
    "\n",
    "# Definindo a grade de hiperparâmetros\n",
    "param_grid_xgb = {\n",
    "    'learning_rate': [0.01, 0.1, 0.2],\n",
    "    'max_depth': [3, 6, 10],\n",
    "    'n_estimators': [50, 100, 150],\n",
    "    'colsample_bytree': [0.3, 0.7]}\n",
    "\n",
    "# Configurando o GridSearchCV\n",
    "grid_search_xgb = GridSearchCV(\n",
    "    estimator=model_xgb,\n",
    "    param_grid=param_grid_xgb,\n",
    "    cv=3,\n",
    "    n_jobs=-1,\n",
    "    scoring='neg_mean_squared_error')\n",
    "\n",
    "# Função para ajustar o modelo\n",
    "def fit_model_xgb():\n",
    "    grid_search_xgb.fit(\n",
    "        features_train, target_train,\n",
    "        eval_set=[(features_valid, target_valid)],\n",
    "        verbose=10)\n",
    "\n",
    "# Medindo o tempo de execução\n",
    "time_train_xgb = timeit.timeit(fit_model_xgb, number=1)\n",
    "\n",
    "# Treinando o modelo\n",
    "fit_model_xgb()\n",
    "best_model_xgb = grid_search_xgb.best_estimator_\n",
    "\n",
    "# Fazendo as predições e avaliando o modelo\n",
    "predict_valid_xgb = best_model_xgb.predict(features_valid)\n",
    "predict_test_xgb = best_model_xgb.predict(features_test)\n",
    "\n",
    "reqm_valid_xgb = root_mean_squared_error(target_valid, predict_valid_xgb)\n",
    "reqm_test_xgb = root_mean_squared_error(target_test, predict_test_xgb)\n",
    "\n",
    "print(f'Tempo de execução: {time_train_xgb} segundos')\n",
    "print('Melhores Hiperparâmetros:', grid_search_xgb.best_params_)\n",
    "print()\n",
    "print('REQM para conjunto de validação:', reqm_valid_xgb)\n",
    "print()\n",
    "print('REQM para conjunto de teste:', reqm_test_xgb)"
   ]
  },
  {
   "cell_type": "markdown",
   "metadata": {},
   "source": [
    "## Resultados"
   ]
  },
  {
   "cell_type": "code",
   "execution_count": 29,
   "metadata": {},
   "outputs": [
    {
     "data": {
      "text/html": [
       "<div>\n",
       "<style scoped>\n",
       "    .dataframe tbody tr th:only-of-type {\n",
       "        vertical-align: middle;\n",
       "    }\n",
       "\n",
       "    .dataframe tbody tr th {\n",
       "        vertical-align: top;\n",
       "    }\n",
       "\n",
       "    .dataframe thead th {\n",
       "        text-align: right;\n",
       "    }\n",
       "</style>\n",
       "<table border=\"1\" class=\"dataframe\">\n",
       "  <thead>\n",
       "    <tr style=\"text-align: right;\">\n",
       "      <th></th>\n",
       "      <th>REQM_valid</th>\n",
       "      <th>REQM_test</th>\n",
       "      <th>time_train_(s)</th>\n",
       "    </tr>\n",
       "    <tr>\n",
       "      <th>model</th>\n",
       "      <th></th>\n",
       "      <th></th>\n",
       "      <th></th>\n",
       "    </tr>\n",
       "  </thead>\n",
       "  <tbody>\n",
       "    <tr>\n",
       "      <th>Regressão Linear</th>\n",
       "      <td>8.215105e-14</td>\n",
       "      <td>1.271115e-13</td>\n",
       "      <td>0.103938</td>\n",
       "    </tr>\n",
       "    <tr>\n",
       "      <th>Floresta Aleatória</th>\n",
       "      <td>1.491726e+01</td>\n",
       "      <td>2.920879e+01</td>\n",
       "      <td>95.469716</td>\n",
       "    </tr>\n",
       "    <tr>\n",
       "      <th>CatBoost</th>\n",
       "      <td>9.826742e+00</td>\n",
       "      <td>1.837082e+01</td>\n",
       "      <td>278.866832</td>\n",
       "    </tr>\n",
       "    <tr>\n",
       "      <th>LightGBM</th>\n",
       "      <td>1.278076e+01</td>\n",
       "      <td>2.465510e+01</td>\n",
       "      <td>42.056375</td>\n",
       "    </tr>\n",
       "    <tr>\n",
       "      <th>XGBoost</th>\n",
       "      <td>9.936589e+00</td>\n",
       "      <td>2.183817e+01</td>\n",
       "      <td>103.228728</td>\n",
       "    </tr>\n",
       "  </tbody>\n",
       "</table>\n",
       "</div>"
      ],
      "text/plain": [
       "                      REQM_valid     REQM_test  time_train_(s)\n",
       "model                                                         \n",
       "Regressão Linear    8.215105e-14  1.271115e-13        0.103938\n",
       "Floresta Aleatória  1.491726e+01  2.920879e+01       95.469716\n",
       "CatBoost            9.826742e+00  1.837082e+01      278.866832\n",
       "LightGBM            1.278076e+01  2.465510e+01       42.056375\n",
       "XGBoost             9.936589e+00  2.183817e+01      103.228728"
      ]
     },
     "execution_count": 29,
     "metadata": {},
     "output_type": "execute_result"
    }
   ],
   "source": [
    "results = {\n",
    "    'model': ['Regressão Linear', 'Floresta Aleatória', 'CatBoost', 'LightGBM', 'XGBoost'],\n",
    "    'REQM_valid': [reqm_valid_reg, reqm_valid_forest, reqm_valid_cat, reqm_valid_lgb, reqm_valid_xgb],\n",
    "    'REQM_test': [reqm_test_reg, reqm_test_forest, reqm_test_cat, reqm_test_lgb, reqm_test_xgb],\n",
    "    'time_train_(s)': [time_train_reg, time_train_forest, time_train_cat, time_train_lgb, time_train_xgb]}\n",
    "\n",
    "df_results = pd.DataFrame(results)\n",
    "df_results = df_results.set_index('model')\n",
    "df_results"
   ]
  },
  {
   "cell_type": "code",
   "execution_count": 31,
   "metadata": {},
   "outputs": [
    {
     "data": {
      "image/png": "[encoded data removed]",
      "text/plain": [
       "<Figure size 1000x400 with 1 Axes>"
      ]
     },
     "metadata": {},
     "output_type": "display_data"
    }
   ],
   "source": [
    "# Plotando um gráfico de barras para visualização dos resultados de REQM\n",
    "ax = df_results['REQM_test'].plot(kind='bar',\n",
    "                    figsize=[10, 4],\n",
    "                    width=0.4)\n",
    "\n",
    "# Ajustando o título e os rótulos dos eixos\n",
    "ax.set_title('REQM OBTIDOS PARA CONJUNTO DE TESTE', fontsize=14, weight='bold', pad=20)\n",
    "ax.set_xlabel('MODELOS', fontsize=10, labelpad=10)\n",
    "ax.set_ylabel('REQM', fontsize=10, labelpad=10)\n",
    "\n",
    "# Rotacionando os rótulos do eixo x\n",
    "ax.set_xticklabels(df_results.index, rotation=0)\n",
    "\n",
    "# Ajustando o tamanho dos rótulos dos eixos\n",
    "ax.tick_params(axis='x', labelsize=10)\n",
    "ax.tick_params(axis='y', labelsize=12)\n",
    "\n",
    "# Adicionando gridlines\n",
    "ax.grid(True, which='both', linestyle='--', linewidth=1, axis='y')\n",
    "\n",
    "# Exibindo o gráfico\n",
    "plt.show()"
   ]
  },
  {
   "cell_type": "markdown",
   "metadata": {},
   "source": [
    "**Regressão Linear:** Apresentou valores extremamente baixos de REQM quando utilizadas as colunas 'num_orders' e 'diff'. Este valor de REQM indica que há um problema com o modelo, sendo possível que esteja sofrendo de overfitting, ou que a combinação de dados originais e diferenças de séries temporais pode ter impactado o modelo. Portanto, Esses resultados não serão considerados como confiáveis.\n",
    "\n",
    "Desta forma, **o melhor resultado de REQM obtido foi o do modelo CatBoost**"
   ]
  },
  {
   "cell_type": "code",
   "execution_count": 32,
   "metadata": {},
   "outputs": [
    {
     "data": {
      "image/png": "[encoded data removed]",
      "text/plain": [
       "<Figure size 1000x400 with 1 Axes>"
      ]
     },
     "metadata": {},
     "output_type": "display_data"
    }
   ],
   "source": [
    "# Plotando um gráfico de barras para visualização dos tempos de treinamento dos modelos\n",
    "ax = df_results['time_train_(s)'].plot(kind='bar',\n",
    "                    figsize=[10, 4],\n",
    "                    width=0.4)\n",
    "\n",
    "# Ajustando o título e os rótulos dos eixos\n",
    "ax.set_title('TEMPO PARA TREINAMENTO DOS MODELOS', fontsize=14, weight='bold', pad=20)\n",
    "ax.set_xlabel('MODELOS', fontsize=10, labelpad=10)\n",
    "ax.set_ylabel('TEMPO (s)', fontsize=10, labelpad=10)\n",
    "\n",
    "# Rotacionando os rótulos do eixo x\n",
    "ax.set_xticklabels(df_results.index, rotation=0)\n",
    "\n",
    "# Ajustando o tamanho dos rótulos dos eixos\n",
    "ax.tick_params(axis='x', labelsize=10)\n",
    "ax.tick_params(axis='y', labelsize=12)\n",
    "\n",
    "# Adicionando gridlines\n",
    "ax.grid(True, which='both', linestyle='--', linewidth=1, axis='y')\n",
    "\n",
    "# Exibindo o gráfico\n",
    "plt.show()"
   ]
  },
  {
   "cell_type": "markdown",
   "metadata": {},
   "source": [
    "O tempo gasto para o treinamento do modelo CatBoost foi praticamente o dobro do tempo gasto para os treinamentos dos modelos de Floresta e LGBM. porém, como o REQM deste modelo foi melhor do que os outros 2 modelos, ele foi considerado o melhor modelo"
   ]
  },
  {
   "cell_type": "markdown",
   "metadata": {},
   "source": [
    "## Outros testes realizados com diferentes parâmetros"
   ]
  },
  {
   "cell_type": "code",
   "execution_count": 24,
   "metadata": {},
   "outputs": [],
   "source": [
    "# Foram realizados todos os testes de treinamento dos modelos abaixo, onde:\n",
    "\n",
    "    # num_orders - treinamento dos modelos usando apenas a coluna num_orders com os dados originais,\n",
    "    # diff       - treinamento dos modelos usando apenas a coluna diff com dados das diferenças de séries temporais,\n",
    "    # diff_24    - treinamento dos modelos usando a coluna diff + características + lag=24 + rolling_mean=24,\n",
    "    # diff_100   - treinamento dos modelos usando a coluna diff + características + lag=100 + rolling_mean=100,\n",
    "    # both_100   - treinamento dos modelos usando colunas diff + num_orders + características + lag=100 + rolling_mean=100,\n",
    "    # both_24    - treinamento dos modelos usando coluna diff + num_orders + características + lag=24 + rolling_mean=24\n",
    "\n",
    "\n",
    "tests = ['num_orders', 'diff', 'diff_24', 'diff_100', 'both_100', 'both_24']\n",
    "\n",
    "\n",
    "# Resultados de REQM nos conjuntos de teste em todos os testes realizados\n",
    "reqm_results = {\n",
    "    'Regressão' : [46.48, 45.32, 45.32, 39.96, 1.75e-13, 1.68e-13],\n",
    "    'Floresta' : [49.42, 47.77, 47.15, 47.76, 29.56, 29.21],\n",
    "    'CatBoost' : [48.06, 45.49, 44.02, 44.80, 18.34, 18.37],\n",
    "    'LGBM' : [51.27, 45.93, 44.62, 45.38, 24.27, 25.17],\n",
    "    'XGBoost' : [53.23, 45.40, 44.08, 44.46, 22.70, 20.71]}\n",
    "\n",
    "\n",
    "# Resultados de tempo de treinamento nos testes realizados\n",
    "time_train_results = {\n",
    "    'Regressão': [0.007, 0.018, 0.007, 0.071, 0.024, 0.008],\n",
    "    'Floresta': [143.7, 341.5, 144.4, 511.2, 443.5, 131.3],\n",
    "    'CatBoost': [179.8, 226.2, 216.8, 814.2, 856.7, 250.5],\n",
    "    'LGBM': [120.7, 121.5, 127.9, 315.4, 318.5, 118.2],\n",
    "    'XGBoost': [303.2, 332.2, 337.9, 607.6, 659.1, 361.2]}\n",
    "\n",
    "\n",
    "# DataFrame para REQM\n",
    "df_reqm = pd.DataFrame(data=reqm_results, index=tests)\n",
    "\n",
    "# DataFrame para tempo de treinamento\n",
    "df_time_train = pd.DataFrame(data = time_train_results, index=tests)"
   ]
  },
  {
   "cell_type": "markdown",
   "metadata": {},
   "source": [
    "### Análise dos Resultados de REQM"
   ]
  },
  {
   "cell_type": "code",
   "execution_count": 25,
   "metadata": {},
   "outputs": [
    {
     "data": {
      "image/png": "[encoded data removed]",
      "text/plain": [
       "<Figure size 1000x400 with 1 Axes>"
      ]
     },
     "metadata": {},
     "output_type": "display_data"
    }
   ],
   "source": [
    "# Plotando um gráfico de barras para visualização dos reqm dos modelos\n",
    "ax = df_reqm.plot(kind='bar',\n",
    "                    figsize=[10, 4],\n",
    "                    width=0.4)\n",
    "\n",
    "# Ajustando o título e os rótulos dos eixos\n",
    "ax.set_title('REQM DOS MODELOS NOS DIFERENTES TESTES', fontsize=14, weight='bold', pad=20)\n",
    "ax.set_xlabel('MODELOS', fontsize=10, labelpad=10)\n",
    "ax.set_ylabel('REQM', fontsize=10, labelpad=10)\n",
    "\n",
    "# Rotacionando os rótulos do eixo x\n",
    "ax.set_xticklabels(df_reqm.index, rotation=0)\n",
    "\n",
    "# Ajustando o tamanho dos rótulos dos eixos\n",
    "ax.tick_params(axis='x', labelsize=10)\n",
    "ax.tick_params(axis='y', labelsize=12)\n",
    "\n",
    "# Adicionando gridlines\n",
    "ax.grid(True, which='both', linestyle='--', linewidth=1, axis='y')\n",
    "\n",
    "# Posicionando a legenda fora do gráfico\n",
    "ax.legend(fontsize=12, loc='upper left', bbox_to_anchor=(1, 1))\n",
    "\n",
    "# Exibindo o gráfico\n",
    "plt.show()"
   ]
  },
  {
   "cell_type": "markdown",
   "metadata": {},
   "source": [
    "**CONCLUSÕES:**\n",
    "\n",
    "* **num_orders:** O teste utilizando apenas a coluna com dados originais foi o que apresentou pior resultado de REQM;  \n",
    "  \n",
    "  \n",
    "* **diff:** O teste utilizando a coluna com dados das diferenças de séries temporais já apresentaram um resultado um pouco superior ao teste somente com os dados originais, mais ainda com um REQM muito elevado;   \n",
    "\n",
    "\n",
    "* **diff_24:** O teste utilizando a coluna 'diff' com todas as características criadas e considerando 24h de média móvel e defasagem, apresentou uma pequena melhor nos resultados dos modelos CatBoost, LGBM e XGBoost, mas não foi uma alteração muito significativa;  \n",
    "\n",
    "\n",
    "* **diff_100:** O teste utilizando a coluna 'diff' com todas as características criadas e considerando 100h de média móvel e defasagem, apresentou melhora apenas no modelo de Regressão Linear, sendo que os demais mantiveram o desempenho ou até mesmo pioraram um pouco seu resultado;\n",
    "\n",
    "\n",
    "* **both_100:** O teste utilizando tanto a coluna 'diff' quanto a coluna 'num_orders' com os dados originais, além das colunas com todas as características criadas e considerando 100h de média móvel e defasagem, apresentou uma significativa melhora de REQM em todos os modelos, com exceção do modelo de Regressão Linear, que apresentou algum problema e retornou resultados extremamente baixos de REQM, indicando possível overfitting ou que a combinação de dados originais e diferenças de séries temporais pode ter impactado o modelo.\n",
    "\n",
    "\n",
    "* **both_24:** O teste utilizando tanto a coluna 'diff' quanto a coluna 'num_orders' com os dados originais, além das colunas com todas as características criadas e considerando 24h de média móvel e defasagem, manteve praticamente os mesmos resultados de REQM dos testes com todas as colunas considerando 100h, sendo muito bons resultados (com excessão da Regressão Logística que teve resultados desconsiderados pelos motivos já explicados acima)\n",
    "\n",
    "\n",
    "**Resumo:**\n",
    "Dentre todos os testes realizados, os melhores resultados obtidos foram com o DataFrame constando simultaneamente das colunas de números de pedidos (dados originais) 'num_orders' e da coluna 'diff' com as diferenças de séries temporais, além das colunas de características criadas, como dia da semana, dia, mês, média móvel e defasagem (lag).\n"
   ]
  },
  {
   "cell_type": "markdown",
   "metadata": {},
   "source": [
    "### Análise dos Tempos para Treinamento dos Modelos"
   ]
  },
  {
   "cell_type": "code",
   "execution_count": 26,
   "metadata": {},
   "outputs": [
    {
     "data": {
      "image/png": "[encoded data removed]",
      "text/plain": [
       "<Figure size 1000x400 with 1 Axes>"
      ]
     },
     "metadata": {},
     "output_type": "display_data"
    }
   ],
   "source": [
    "# Plotando um gráfico de barras para visualização dos tempos de treinamento dos modelos\n",
    "ax = df_time_train.plot(kind='bar',\n",
    "                    figsize=[10, 4],\n",
    "                    width=0.4)\n",
    "\n",
    "# Ajustando o título e os rótulos dos eixos\n",
    "ax.set_title('TEMPO DE TREINAMENTO DOS MODELOS NOS DIFERENTES TESTES', fontsize=14, weight='bold', pad=20)\n",
    "ax.set_xlabel('MODELOS', fontsize=10, labelpad=10)\n",
    "ax.set_ylabel('TEMPO (s)', fontsize=10, labelpad=10)\n",
    "\n",
    "# Rotacionando os rótulos do eixo x\n",
    "ax.set_xticklabels(df_time_train.index, rotation=0)\n",
    "\n",
    "# Ajustando o tamanho dos rótulos dos eixos\n",
    "ax.tick_params(axis='x', labelsize=10)\n",
    "ax.tick_params(axis='y', labelsize=12)\n",
    "\n",
    "# Adicionando gridlines\n",
    "ax.grid(True, which='both', linestyle='--', linewidth=1, axis='y')\n",
    "\n",
    "# Posicionando a legenda fora do gráfico\n",
    "ax.legend(fontsize=12, loc='upper left', bbox_to_anchor=(1, 1))\n",
    "\n",
    "# Exibindo o gráfico\n",
    "plt.show()"
   ]
  },
  {
   "cell_type": "markdown",
   "metadata": {},
   "source": [
    "Em relação aos tempos de treinamento dos modelos, a Regressão Logística apresenta de longe o melhor desempenho, tendo todos os resultados abaixo de 1 segundo para o treinamento dos modelos, mesmo quando os dados estavam mais volumosos. Porém, como este modelo apresentou problemas com os resultados de REQM, ele será desconsiderado para a análise.\n",
    "\n",
    "\n",
    "Como os resultados de REQM foram muito melhores para os testes com todas as colunas disponíveis (both_24 e both_100), vamos considerar apenas estes dois testes para definirmos o melhor resultado.\n",
    "\n",
    "Comparando os tempos gastos para os treinamentos nos testes both_24 e both_100, podemos observar que os tempos foram muito menos quando consideramos 24h de defasagem e média móvel"
   ]
  },
  {
   "cell_type": "markdown",
   "metadata": {},
   "source": [
    "### Conclusão Final"
   ]
  },
  {
   "cell_type": "markdown",
   "metadata": {},
   "source": [
    "Dentre todos os testes realizados, o melhor modelo obtido foi o **CatBoost** para o teste **both_24** que contava com todas as colunas disponíveis simultaneamente e considerando 24h de defasagem e média móvel, pois ele obteve o menor resultado de REQM dentre os resultados válidos e obteve um tempo muito melhor em relação ao teste com 100h de defasagem e média móvel.\n",
    "\n",
    "\n",
    "**MELHOR MODELO:** CatBoost do teste both_24"
   ]
  }
 ],
 "metadata": {
  "ExecuteTimeLog": [
   {
    "duration": 315,
    "start_time": "2024-07-26T12:44:57.224Z"
   },
   {
    "duration": 5170,
    "start_time": "2024-07-26T12:45:00.649Z"
   },
   {
    "duration": 56,
    "start_time": "2024-07-26T12:45:05.822Z"
   },
   {
    "duration": 149,
    "start_time": "2024-07-26T12:46:56.974Z"
   },
   {
    "duration": 16,
    "start_time": "2024-07-26T12:47:03.295Z"
   },
   {
    "duration": 45,
    "start_time": "2024-07-26T12:47:11.537Z"
   },
   {
    "duration": 14,
    "start_time": "2024-07-26T12:47:12.534Z"
   },
   {
    "duration": 9,
    "start_time": "2024-07-26T12:48:50.134Z"
   },
   {
    "duration": 10,
    "start_time": "2024-07-26T12:49:06.139Z"
   },
   {
    "duration": 145,
    "start_time": "2024-07-26T12:49:15.788Z"
   },
   {
    "duration": 31,
    "start_time": "2024-07-26T12:49:30.891Z"
   },
   {
    "duration": 35,
    "start_time": "2024-07-26T12:49:37.686Z"
   },
   {
    "duration": 32,
    "start_time": "2024-07-26T12:51:15.010Z"
   },
   {
    "duration": 1606,
    "start_time": "2024-07-26T12:51:45.055Z"
   },
   {
    "duration": 40,
    "start_time": "2024-07-26T12:52:26.580Z"
   },
   {
    "duration": 46,
    "start_time": "2024-07-26T12:52:36.214Z"
   },
   {
    "duration": 1630,
    "start_time": "2024-07-26T12:53:46.034Z"
   },
   {
    "duration": 41,
    "start_time": "2024-07-26T12:53:51.130Z"
   },
   {
    "duration": 16,
    "start_time": "2024-07-26T12:53:56.244Z"
   },
   {
    "duration": 15,
    "start_time": "2024-07-26T12:54:26.412Z"
   },
   {
    "duration": 352,
    "start_time": "2024-07-26T12:55:54.548Z"
   },
   {
    "duration": 45,
    "start_time": "2024-07-26T12:58:41.231Z"
   },
   {
    "duration": 13,
    "start_time": "2024-07-26T12:59:11.046Z"
   },
   {
    "duration": 13,
    "start_time": "2024-07-26T12:59:22.924Z"
   },
   {
    "duration": 14,
    "start_time": "2024-07-26T12:59:39.918Z"
   },
   {
    "duration": 447,
    "start_time": "2024-07-26T13:00:06.927Z"
   },
   {
    "duration": 319,
    "start_time": "2024-07-26T13:00:13.671Z"
   },
   {
    "duration": 372,
    "start_time": "2024-07-26T13:01:54.886Z"
   },
   {
    "duration": 436,
    "start_time": "2024-07-26T13:03:15.645Z"
   },
   {
    "duration": 818,
    "start_time": "2024-07-26T13:03:27.800Z"
   },
   {
    "duration": 1072,
    "start_time": "2024-07-26T13:04:04.182Z"
   },
   {
    "duration": 984,
    "start_time": "2024-07-26T13:05:36.892Z"
   },
   {
    "duration": 28,
    "start_time": "2024-07-26T13:08:23.987Z"
   },
   {
    "duration": 9,
    "start_time": "2024-07-26T13:08:31.060Z"
   },
   {
    "duration": 8,
    "start_time": "2024-07-26T13:09:03.560Z"
   },
   {
    "duration": 7,
    "start_time": "2024-07-26T13:09:39.490Z"
   },
   {
    "duration": 9,
    "start_time": "2024-07-26T13:09:58.579Z"
   },
   {
    "duration": 14,
    "start_time": "2024-07-26T13:16:06.752Z"
   },
   {
    "duration": 15,
    "start_time": "2024-07-26T13:16:50.220Z"
   },
   {
    "duration": 15,
    "start_time": "2024-07-26T13:17:16.144Z"
   },
   {
    "duration": 10,
    "start_time": "2024-07-26T13:18:33.281Z"
   },
   {
    "duration": 73,
    "start_time": "2024-07-26T13:18:44.336Z"
   },
   {
    "duration": 10,
    "start_time": "2024-07-26T13:19:20.072Z"
   },
   {
    "duration": 1057,
    "start_time": "2024-07-26T13:19:41.235Z"
   },
   {
    "duration": 16,
    "start_time": "2024-07-26T13:43:41.849Z"
   },
   {
    "duration": 17,
    "start_time": "2024-07-26T13:44:43.642Z"
   },
   {
    "duration": 17,
    "start_time": "2024-07-26T13:45:05.895Z"
   },
   {
    "duration": 21,
    "start_time": "2024-07-26T13:45:51.653Z"
   },
   {
    "duration": 10,
    "start_time": "2024-07-26T14:06:26.582Z"
   },
   {
    "duration": 5,
    "start_time": "2024-07-26T14:06:37.905Z"
   },
   {
    "duration": 16,
    "start_time": "2024-07-26T14:06:45.801Z"
   },
   {
    "duration": 36,
    "start_time": "2024-07-26T14:07:12.682Z"
   },
   {
    "duration": 26,
    "start_time": "2024-07-26T14:11:32.885Z"
   },
   {
    "duration": 13,
    "start_time": "2024-07-26T14:14:13.275Z"
   },
   {
    "duration": 27,
    "start_time": "2024-07-26T14:17:41.351Z"
   },
   {
    "duration": 286,
    "start_time": "2024-07-26T14:17:54.647Z"
   },
   {
    "duration": 93,
    "start_time": "2024-07-26T14:18:27.048Z"
   },
   {
    "duration": 18,
    "start_time": "2024-07-26T14:20:05.045Z"
   },
   {
    "duration": 37,
    "start_time": "2024-07-26T14:20:38.102Z"
   },
   {
    "duration": 29,
    "start_time": "2024-07-26T14:20:52.612Z"
   },
   {
    "duration": 12,
    "start_time": "2024-07-26T14:21:08.465Z"
   },
   {
    "duration": 25,
    "start_time": "2024-07-26T14:21:10.053Z"
   },
   {
    "duration": 31,
    "start_time": "2024-07-26T14:21:39.828Z"
   },
   {
    "duration": 30,
    "start_time": "2024-07-26T14:22:03.817Z"
   },
   {
    "duration": 30,
    "start_time": "2024-07-26T14:22:23.390Z"
   },
   {
    "duration": 13,
    "start_time": "2024-07-26T14:23:24.744Z"
   },
   {
    "duration": 29,
    "start_time": "2024-07-26T14:23:26.190Z"
   },
   {
    "duration": 13,
    "start_time": "2024-07-26T14:23:33.467Z"
   },
   {
    "duration": 25,
    "start_time": "2024-07-26T14:23:33.855Z"
   },
   {
    "duration": 68,
    "start_time": "2024-07-26T14:24:02.088Z"
   },
   {
    "duration": 64,
    "start_time": "2024-07-26T14:24:11.920Z"
   },
   {
    "duration": 14,
    "start_time": "2024-07-26T14:24:18.933Z"
   },
   {
    "duration": 65,
    "start_time": "2024-07-26T14:24:19.298Z"
   },
   {
    "duration": 12,
    "start_time": "2024-07-26T14:24:29.588Z"
   },
   {
    "duration": 25,
    "start_time": "2024-07-26T14:24:29.912Z"
   },
   {
    "duration": 12,
    "start_time": "2024-07-26T14:24:33.840Z"
   },
   {
    "duration": 109,
    "start_time": "2024-07-26T14:24:34.227Z"
   },
   {
    "duration": 53,
    "start_time": "2024-07-26T14:24:54.500Z"
   },
   {
    "duration": 53,
    "start_time": "2024-07-26T14:25:08.198Z"
   },
   {
    "duration": 12,
    "start_time": "2024-07-26T14:25:12.472Z"
   },
   {
    "duration": 34,
    "start_time": "2024-07-26T14:25:12.916Z"
   },
   {
    "duration": 13,
    "start_time": "2024-07-26T14:25:21.098Z"
   },
   {
    "duration": 25,
    "start_time": "2024-07-26T14:25:21.553Z"
   },
   {
    "duration": 52,
    "start_time": "2024-07-26T14:25:35.081Z"
   },
   {
    "duration": 57,
    "start_time": "2024-07-26T14:25:36.140Z"
   },
   {
    "duration": 15,
    "start_time": "2024-07-26T14:25:41.617Z"
   },
   {
    "duration": 24,
    "start_time": "2024-07-26T14:25:42.035Z"
   },
   {
    "duration": 13,
    "start_time": "2024-07-26T14:25:51.800Z"
   },
   {
    "duration": 26,
    "start_time": "2024-07-26T14:25:52.145Z"
   },
   {
    "duration": 13,
    "start_time": "2024-07-26T14:26:02.571Z"
   },
   {
    "duration": 94,
    "start_time": "2024-07-26T14:26:02.941Z"
   },
   {
    "duration": 43,
    "start_time": "2024-07-26T14:38:40.715Z"
   },
   {
    "duration": 66,
    "start_time": "2024-07-26T14:41:51.767Z"
   },
   {
    "duration": 17739,
    "start_time": "2024-07-26T14:44:22.455Z"
   },
   {
    "duration": 59709,
    "start_time": "2024-07-26T14:46:26.383Z"
   },
   {
    "duration": 787600,
    "start_time": "2024-07-26T14:49:03.844Z"
   },
   {
    "duration": 621664,
    "start_time": "2024-07-26T16:55:22.053Z"
   },
   {
    "duration": 19,
    "start_time": "2024-07-26T17:15:16.918Z"
   },
   {
    "duration": 19,
    "start_time": "2024-07-26T17:16:45.820Z"
   },
   {
    "duration": 684351,
    "start_time": "2024-07-26T17:18:20.998Z"
   },
   {
    "duration": 1614,
    "start_time": "2024-07-26T17:32:44.058Z"
   },
   {
    "duration": 59,
    "start_time": "2024-07-26T17:32:45.675Z"
   },
   {
    "duration": 17,
    "start_time": "2024-07-26T17:32:45.737Z"
   },
   {
    "duration": 18,
    "start_time": "2024-07-26T17:32:45.757Z"
   },
   {
    "duration": 387,
    "start_time": "2024-07-26T17:32:45.779Z"
   },
   {
    "duration": 1011,
    "start_time": "2024-07-26T17:32:46.170Z"
   },
   {
    "duration": 11,
    "start_time": "2024-07-26T17:32:47.184Z"
   },
   {
    "duration": 1114,
    "start_time": "2024-07-26T17:32:47.198Z"
   },
   {
    "duration": 17,
    "start_time": "2024-07-26T17:32:48.315Z"
   },
   {
    "duration": 70,
    "start_time": "2024-07-26T17:32:48.336Z"
   },
   {
    "duration": 86,
    "start_time": "2024-07-26T17:32:48.409Z"
   },
   {
    "duration": 43,
    "start_time": "2024-07-26T17:32:48.498Z"
   },
   {
    "duration": 90,
    "start_time": "2024-07-26T17:32:48.544Z"
   },
   {
    "duration": 682526,
    "start_time": "2024-07-26T17:32:48.641Z"
   },
   {
    "duration": 250074,
    "start_time": "2024-07-26T17:44:11.170Z"
   },
   {
    "duration": 0,
    "start_time": "2024-07-26T17:48:21.248Z"
   },
   {
    "duration": 462040,
    "start_time": "2024-07-26T18:05:14.726Z"
   },
   {
    "duration": 232327,
    "start_time": "2024-07-26T18:35:52.307Z"
   },
   {
    "duration": 651102,
    "start_time": "2024-07-26T18:39:44.638Z"
   },
   {
    "duration": 30,
    "start_time": "2024-07-26T18:50:35.744Z"
   },
   {
    "duration": 0,
    "start_time": "2024-07-26T18:50:35.777Z"
   },
   {
    "duration": 33,
    "start_time": "2024-07-26T18:51:10.529Z"
   },
   {
    "duration": 57,
    "start_time": "2024-07-26T18:52:32.390Z"
   },
   {
    "duration": 15,
    "start_time": "2024-07-26T18:52:40.096Z"
   },
   {
    "duration": 218,
    "start_time": "2024-07-26T18:52:57.467Z"
   },
   {
    "duration": 863,
    "start_time": "2024-07-26T18:53:09.404Z"
   },
   {
    "duration": 234,
    "start_time": "2024-07-26T18:53:52.317Z"
   },
   {
    "duration": 18,
    "start_time": "2024-07-26T18:56:49.400Z"
   },
   {
    "duration": 40,
    "start_time": "2024-07-26T18:56:52.101Z"
   },
   {
    "duration": 1669,
    "start_time": "2024-07-26T18:57:02.761Z"
   },
   {
    "duration": 44,
    "start_time": "2024-07-26T18:57:04.435Z"
   },
   {
    "duration": 17,
    "start_time": "2024-07-26T18:57:04.483Z"
   },
   {
    "duration": 39,
    "start_time": "2024-07-26T18:57:04.504Z"
   },
   {
    "duration": 387,
    "start_time": "2024-07-26T18:57:04.550Z"
   },
   {
    "duration": 1025,
    "start_time": "2024-07-26T18:57:04.940Z"
   },
   {
    "duration": 11,
    "start_time": "2024-07-26T18:57:05.968Z"
   },
   {
    "duration": 1114,
    "start_time": "2024-07-26T18:57:05.982Z"
   },
   {
    "duration": 8,
    "start_time": "2024-07-26T18:57:07.099Z"
   },
   {
    "duration": 101,
    "start_time": "2024-07-26T18:57:07.112Z"
   },
   {
    "duration": 81,
    "start_time": "2024-07-26T18:57:07.216Z"
   },
   {
    "duration": 37,
    "start_time": "2024-07-26T18:57:07.301Z"
   },
   {
    "duration": 91,
    "start_time": "2024-07-26T18:57:07.342Z"
   },
   {
    "duration": 286410,
    "start_time": "2024-07-26T18:57:07.438Z"
   },
   {
    "duration": 225766,
    "start_time": "2024-07-26T19:08:01.778Z"
   },
   {
    "duration": 616815,
    "start_time": "2024-07-26T19:11:47.547Z"
   },
   {
    "duration": 17,
    "start_time": "2024-07-26T19:22:04.365Z"
   },
   {
    "duration": 255,
    "start_time": "2024-07-26T19:22:04.385Z"
   },
   {
    "duration": 245,
    "start_time": "2024-07-26T19:22:04.642Z"
   },
   {
    "duration": 1635,
    "start_time": "2024-07-26T19:29:57.288Z"
   },
   {
    "duration": 42,
    "start_time": "2024-07-26T19:29:58.927Z"
   },
   {
    "duration": 17,
    "start_time": "2024-07-26T19:29:58.972Z"
   },
   {
    "duration": 43,
    "start_time": "2024-07-26T19:29:58.993Z"
   },
   {
    "duration": 379,
    "start_time": "2024-07-26T19:29:59.039Z"
   },
   {
    "duration": 1018,
    "start_time": "2024-07-26T19:29:59.421Z"
   },
   {
    "duration": 12,
    "start_time": "2024-07-26T19:30:00.443Z"
   },
   {
    "duration": 1147,
    "start_time": "2024-07-26T19:30:00.457Z"
   },
   {
    "duration": 26,
    "start_time": "2024-07-26T19:30:01.607Z"
   },
   {
    "duration": 68,
    "start_time": "2024-07-26T19:30:01.640Z"
   },
   {
    "duration": 16,
    "start_time": "2024-07-26T19:30:01.732Z"
   },
   {
    "duration": 930,
    "start_time": "2024-07-26T19:30:01.751Z"
   },
   {
    "duration": 0,
    "start_time": "2024-07-26T19:30:02.684Z"
   },
   {
    "duration": 0,
    "start_time": "2024-07-26T19:30:02.686Z"
   },
   {
    "duration": 0,
    "start_time": "2024-07-26T19:30:02.688Z"
   },
   {
    "duration": 0,
    "start_time": "2024-07-26T19:30:02.690Z"
   },
   {
    "duration": 0,
    "start_time": "2024-07-26T19:30:02.692Z"
   },
   {
    "duration": 0,
    "start_time": "2024-07-26T19:30:02.694Z"
   },
   {
    "duration": 0,
    "start_time": "2024-07-26T19:30:02.696Z"
   },
   {
    "duration": 157,
    "start_time": "2024-07-26T19:31:52.745Z"
   },
   {
    "duration": 1709,
    "start_time": "2024-07-26T19:33:03.108Z"
   },
   {
    "duration": 48,
    "start_time": "2024-07-26T19:33:04.821Z"
   },
   {
    "duration": 16,
    "start_time": "2024-07-26T19:33:04.873Z"
   },
   {
    "duration": 46,
    "start_time": "2024-07-26T19:33:04.892Z"
   },
   {
    "duration": 372,
    "start_time": "2024-07-26T19:33:04.943Z"
   },
   {
    "duration": 1027,
    "start_time": "2024-07-26T19:33:05.318Z"
   },
   {
    "duration": 11,
    "start_time": "2024-07-26T19:33:06.348Z"
   },
   {
    "duration": 1157,
    "start_time": "2024-07-26T19:33:06.362Z"
   },
   {
    "duration": 15,
    "start_time": "2024-07-26T19:33:07.523Z"
   },
   {
    "duration": 96,
    "start_time": "2024-07-26T19:33:07.541Z"
   },
   {
    "duration": 19,
    "start_time": "2024-07-26T19:33:07.641Z"
   },
   {
    "duration": 78,
    "start_time": "2024-07-26T19:33:07.663Z"
   },
   {
    "duration": 289112,
    "start_time": "2024-07-26T19:33:07.744Z"
   },
   {
    "duration": 443618,
    "start_time": "2024-07-26T19:37:56.861Z"
   },
   {
    "duration": 252478,
    "start_time": "2024-07-26T19:45:20.482Z"
   },
   {
    "duration": 672471,
    "start_time": "2024-07-26T19:49:32.963Z"
   },
   {
    "duration": 15,
    "start_time": "2024-07-26T20:00:45.438Z"
   },
   {
    "duration": 236,
    "start_time": "2024-07-26T20:00:45.456Z"
   },
   {
    "duration": 234,
    "start_time": "2024-07-26T20:00:45.695Z"
   },
   {
    "duration": 1636,
    "start_time": "2024-07-26T20:08:33.891Z"
   },
   {
    "duration": 48,
    "start_time": "2024-07-26T20:08:35.530Z"
   },
   {
    "duration": 18,
    "start_time": "2024-07-26T20:08:35.581Z"
   },
   {
    "duration": 14,
    "start_time": "2024-07-26T20:08:35.633Z"
   },
   {
    "duration": 378,
    "start_time": "2024-07-26T20:08:35.652Z"
   },
   {
    "duration": 1029,
    "start_time": "2024-07-26T20:08:36.034Z"
   },
   {
    "duration": 10,
    "start_time": "2024-07-26T20:08:37.066Z"
   },
   {
    "duration": 1096,
    "start_time": "2024-07-26T20:08:37.079Z"
   },
   {
    "duration": 6,
    "start_time": "2024-07-26T20:08:38.178Z"
   },
   {
    "duration": 148,
    "start_time": "2024-07-26T20:08:38.188Z"
   },
   {
    "duration": 26,
    "start_time": "2024-07-26T20:08:38.339Z"
   },
   {
    "duration": 181,
    "start_time": "2024-07-26T20:08:38.368Z"
   },
   {
    "duration": 1023950,
    "start_time": "2024-07-26T20:08:38.552Z"
   },
   {
    "duration": 1665452,
    "start_time": "2024-07-26T20:25:42.508Z"
   },
   {
    "duration": 616895,
    "start_time": "2024-07-26T20:53:27.964Z"
   },
   {
    "duration": 1244478,
    "start_time": "2024-07-26T21:03:44.862Z"
   },
   {
    "duration": 14,
    "start_time": "2024-07-26T21:24:29.343Z"
   },
   {
    "duration": 253,
    "start_time": "2024-07-26T21:24:29.361Z"
   },
   {
    "duration": 236,
    "start_time": "2024-07-26T21:24:29.617Z"
   },
   {
    "duration": 5202,
    "start_time": "2024-07-27T16:02:40.364Z"
   },
   {
    "duration": 54,
    "start_time": "2024-07-27T16:02:45.570Z"
   },
   {
    "duration": 17,
    "start_time": "2024-07-27T16:02:45.627Z"
   },
   {
    "duration": 13,
    "start_time": "2024-07-27T16:02:47.513Z"
   },
   {
    "duration": 362,
    "start_time": "2024-07-27T16:02:49.480Z"
   },
   {
    "duration": 1039,
    "start_time": "2024-07-27T16:02:52.764Z"
   },
   {
    "duration": 5,
    "start_time": "2024-07-27T16:55:21.565Z"
   },
   {
    "duration": 39,
    "start_time": "2024-07-27T16:55:22.157Z"
   },
   {
    "duration": 14,
    "start_time": "2024-07-27T16:55:22.927Z"
   },
   {
    "duration": 14,
    "start_time": "2024-07-27T16:55:24.398Z"
   },
   {
    "duration": 338,
    "start_time": "2024-07-27T16:55:25.423Z"
   },
   {
    "duration": 1049,
    "start_time": "2024-07-27T16:55:27.093Z"
   },
   {
    "duration": 10,
    "start_time": "2024-07-27T16:55:31.392Z"
   },
   {
    "duration": 1058,
    "start_time": "2024-07-27T16:55:33.120Z"
   },
   {
    "duration": 6,
    "start_time": "2024-07-27T16:55:34.937Z"
   },
   {
    "duration": 116,
    "start_time": "2024-07-27T16:55:35.661Z"
   },
   {
    "duration": 5,
    "start_time": "2024-07-27T16:56:51.418Z"
   },
   {
    "duration": 9,
    "start_time": "2024-07-27T16:57:01.026Z"
   },
   {
    "duration": 8,
    "start_time": "2024-07-27T16:57:38.806Z"
   },
   {
    "duration": 9,
    "start_time": "2024-07-27T16:58:24.913Z"
   },
   {
    "duration": 6,
    "start_time": "2024-07-27T16:59:21.193Z"
   },
   {
    "duration": 8,
    "start_time": "2024-07-27T16:59:48.106Z"
   },
   {
    "duration": 13,
    "start_time": "2024-07-27T17:00:25.850Z"
   },
   {
    "duration": 43,
    "start_time": "2024-07-27T17:00:35.521Z"
   },
   {
    "duration": 42,
    "start_time": "2024-07-27T17:00:54.876Z"
   },
   {
    "duration": 41,
    "start_time": "2024-07-27T17:01:04.148Z"
   },
   {
    "duration": 10,
    "start_time": "2024-07-27T17:02:37.144Z"
   },
   {
    "duration": 1703,
    "start_time": "2024-07-27T17:03:17.632Z"
   },
   {
    "duration": 41,
    "start_time": "2024-07-27T17:03:19.338Z"
   },
   {
    "duration": 17,
    "start_time": "2024-07-27T17:03:19.382Z"
   },
   {
    "duration": 13,
    "start_time": "2024-07-27T17:03:20.827Z"
   },
   {
    "duration": 361,
    "start_time": "2024-07-27T17:03:23.747Z"
   },
   {
    "duration": 1013,
    "start_time": "2024-07-27T17:03:24.638Z"
   },
   {
    "duration": 521,
    "start_time": "2024-07-27T17:04:19.932Z"
   },
   {
    "duration": 0,
    "start_time": "2024-07-27T17:04:20.456Z"
   },
   {
    "duration": 6,
    "start_time": "2024-07-27T17:04:54.133Z"
   },
   {
    "duration": 139,
    "start_time": "2024-07-27T17:05:10.696Z"
   },
   {
    "duration": 9,
    "start_time": "2024-07-27T17:05:36.546Z"
   },
   {
    "duration": 9,
    "start_time": "2024-07-27T17:06:19.957Z"
   },
   {
    "duration": 39,
    "start_time": "2024-07-27T17:07:20.155Z"
   },
   {
    "duration": 13,
    "start_time": "2024-07-27T17:07:44.386Z"
   },
   {
    "duration": 217,
    "start_time": "2024-07-27T17:07:54.387Z"
   },
   {
    "duration": 2833,
    "start_time": "2024-07-27T17:08:05.013Z"
   },
   {
    "duration": 14,
    "start_time": "2024-07-27T17:08:35.575Z"
   },
   {
    "duration": 24,
    "start_time": "2024-07-27T17:09:10.629Z"
   },
   {
    "duration": 24,
    "start_time": "2024-07-27T17:09:35.459Z"
   },
   {
    "duration": 31,
    "start_time": "2024-07-27T17:09:53.036Z"
   },
   {
    "duration": 310,
    "start_time": "2024-07-27T17:09:59.414Z"
   },
   {
    "duration": 14,
    "start_time": "2024-07-27T17:10:18.196Z"
   },
   {
    "duration": 15,
    "start_time": "2024-07-27T17:10:31.704Z"
   },
   {
    "duration": 18,
    "start_time": "2024-07-27T17:10:42.176Z"
   },
   {
    "duration": 17,
    "start_time": "2024-07-27T17:11:16.798Z"
   },
   {
    "duration": 2919,
    "start_time": "2024-07-27T17:11:42.553Z"
   },
   {
    "duration": 3115,
    "start_time": "2024-07-27T17:13:20.523Z"
   },
   {
    "duration": 20,
    "start_time": "2024-07-27T17:13:38.313Z"
   },
   {
    "duration": 18,
    "start_time": "2024-07-27T17:18:08.595Z"
   },
   {
    "duration": 17,
    "start_time": "2024-07-27T17:19:54.289Z"
   },
   {
    "duration": 26,
    "start_time": "2024-07-27T17:23:50.138Z"
   },
   {
    "duration": 19,
    "start_time": "2024-07-27T17:26:01.301Z"
   },
   {
    "duration": 14,
    "start_time": "2024-07-27T17:27:10.361Z"
   },
   {
    "duration": 18,
    "start_time": "2024-07-27T17:27:26.932Z"
   },
   {
    "duration": 2091,
    "start_time": "2024-07-27T17:28:08.492Z"
   },
   {
    "duration": 150,
    "start_time": "2024-07-27T17:28:29.403Z"
   },
   {
    "duration": 11,
    "start_time": "2024-07-27T17:29:05.248Z"
   },
   {
    "duration": 15,
    "start_time": "2024-07-27T17:29:13.508Z"
   },
   {
    "duration": 19,
    "start_time": "2024-07-27T17:29:43.312Z"
   },
   {
    "duration": 147,
    "start_time": "2024-07-27T17:31:28.951Z"
   },
   {
    "duration": 83,
    "start_time": "2024-07-27T17:38:31.986Z"
   },
   {
    "duration": 40,
    "start_time": "2024-07-27T17:38:37.205Z"
   },
   {
    "duration": 48,
    "start_time": "2024-07-27T17:38:53.381Z"
   },
   {
    "duration": 20,
    "start_time": "2024-07-27T17:41:58.712Z"
   },
   {
    "duration": 20,
    "start_time": "2024-07-27T17:42:56.556Z"
   },
   {
    "duration": 25,
    "start_time": "2024-07-27T17:43:11.533Z"
   },
   {
    "duration": 798,
    "start_time": "2024-07-27T17:43:22.661Z"
   },
   {
    "duration": 850,
    "start_time": "2024-07-27T17:45:13.203Z"
   },
   {
    "duration": 28,
    "start_time": "2024-07-27T17:45:41.246Z"
   },
   {
    "duration": 876,
    "start_time": "2024-07-27T17:46:00.256Z"
   },
   {
    "duration": 685,
    "start_time": "2024-07-27T17:46:13.679Z"
   },
   {
    "duration": 944,
    "start_time": "2024-07-27T17:46:47.182Z"
   },
   {
    "duration": 700,
    "start_time": "2024-07-27T17:47:28.274Z"
   },
   {
    "duration": 702,
    "start_time": "2024-07-27T17:48:12.621Z"
   },
   {
    "duration": 698,
    "start_time": "2024-07-27T17:49:06.655Z"
   },
   {
    "duration": 707,
    "start_time": "2024-07-27T17:49:20.529Z"
   },
   {
    "duration": 679,
    "start_time": "2024-07-27T17:49:45.490Z"
   },
   {
    "duration": 694,
    "start_time": "2024-07-27T17:50:11.847Z"
   },
   {
    "duration": 1005,
    "start_time": "2024-07-27T17:50:24.786Z"
   },
   {
    "duration": 696,
    "start_time": "2024-07-27T17:50:37.252Z"
   },
   {
    "duration": 934,
    "start_time": "2024-07-27T17:53:03.326Z"
   },
   {
    "duration": 946,
    "start_time": "2024-07-27T17:53:27.517Z"
   },
   {
    "duration": 931,
    "start_time": "2024-07-27T17:54:35.534Z"
   },
   {
    "duration": 933,
    "start_time": "2024-07-27T17:54:56.978Z"
   },
   {
    "duration": 10,
    "start_time": "2024-07-27T17:58:46.083Z"
   },
   {
    "duration": 14,
    "start_time": "2024-07-27T17:59:11.361Z"
   },
   {
    "duration": 1204,
    "start_time": "2024-07-27T17:59:14.304Z"
   },
   {
    "duration": 918,
    "start_time": "2024-07-27T17:59:48.005Z"
   },
   {
    "duration": 175,
    "start_time": "2024-07-27T18:01:17.217Z"
   },
   {
    "duration": 32,
    "start_time": "2024-07-27T18:02:46.394Z"
   },
   {
    "duration": 25,
    "start_time": "2024-07-27T18:03:31.720Z"
   },
   {
    "duration": 183,
    "start_time": "2024-07-27T18:03:35.554Z"
   },
   {
    "duration": 1718,
    "start_time": "2024-07-27T18:16:27.510Z"
   },
   {
    "duration": 47,
    "start_time": "2024-07-27T18:16:29.232Z"
   },
   {
    "duration": 40,
    "start_time": "2024-07-27T18:16:29.283Z"
   },
   {
    "duration": 16,
    "start_time": "2024-07-27T18:16:29.327Z"
   },
   {
    "duration": 365,
    "start_time": "2024-07-27T18:16:30.213Z"
   },
   {
    "duration": 1042,
    "start_time": "2024-07-27T18:16:31.518Z"
   },
   {
    "duration": 13,
    "start_time": "2024-07-27T18:16:37.507Z"
   },
   {
    "duration": 1603,
    "start_time": "2024-07-27T18:16:58.342Z"
   },
   {
    "duration": 1025,
    "start_time": "2024-07-27T18:17:09.192Z"
   },
   {
    "duration": 7,
    "start_time": "2024-07-27T18:17:29.689Z"
   },
   {
    "duration": 112,
    "start_time": "2024-07-27T18:17:33.587Z"
   },
   {
    "duration": 58,
    "start_time": "2024-07-27T18:18:18.126Z"
   },
   {
    "duration": 24,
    "start_time": "2024-07-27T18:18:26.558Z"
   },
   {
    "duration": 217,
    "start_time": "2024-07-27T18:18:29.929Z"
   },
   {
    "duration": 1735,
    "start_time": "2024-07-27T18:18:55.426Z"
   },
   {
    "duration": 42,
    "start_time": "2024-07-27T18:18:57.165Z"
   },
   {
    "duration": 25,
    "start_time": "2024-07-27T18:18:57.209Z"
   },
   {
    "duration": 14,
    "start_time": "2024-07-27T18:18:57.239Z"
   },
   {
    "duration": 388,
    "start_time": "2024-07-27T18:18:57.259Z"
   },
   {
    "duration": 1009,
    "start_time": "2024-07-27T18:18:57.650Z"
   },
   {
    "duration": 13,
    "start_time": "2024-07-27T18:18:58.664Z"
   },
   {
    "duration": 1133,
    "start_time": "2024-07-27T18:18:58.681Z"
   },
   {
    "duration": 15,
    "start_time": "2024-07-27T18:18:59.818Z"
   },
   {
    "duration": 135,
    "start_time": "2024-07-27T18:18:59.838Z"
   },
   {
    "duration": 25,
    "start_time": "2024-07-27T18:18:59.976Z"
   },
   {
    "duration": 124,
    "start_time": "2024-07-27T18:19:00.022Z"
   },
   {
    "duration": 887319,
    "start_time": "2024-07-27T18:19:00.224Z"
   },
   {
    "duration": 1748162,
    "start_time": "2024-07-27T18:33:47.546Z"
   },
   {
    "duration": 649625,
    "start_time": "2024-07-27T19:02:55.711Z"
   },
   {
    "duration": 1302930,
    "start_time": "2024-07-27T19:13:45.339Z"
   },
   {
    "duration": 53,
    "start_time": "2024-07-27T19:35:28.273Z"
   },
   {
    "duration": 233,
    "start_time": "2024-07-27T19:35:28.330Z"
   },
   {
    "duration": 242,
    "start_time": "2024-07-27T19:35:28.567Z"
   },
   {
    "duration": 1726,
    "start_time": "2024-07-27T19:37:45.730Z"
   },
   {
    "duration": 42,
    "start_time": "2024-07-27T19:37:47.460Z"
   },
   {
    "duration": 32,
    "start_time": "2024-07-27T19:37:47.505Z"
   },
   {
    "duration": 15,
    "start_time": "2024-07-27T19:37:47.540Z"
   },
   {
    "duration": 387,
    "start_time": "2024-07-27T19:37:47.559Z"
   },
   {
    "duration": 1030,
    "start_time": "2024-07-27T19:37:47.949Z"
   },
   {
    "duration": 13,
    "start_time": "2024-07-27T19:37:48.983Z"
   },
   {
    "duration": 1100,
    "start_time": "2024-07-27T19:37:49.000Z"
   },
   {
    "duration": 6,
    "start_time": "2024-07-27T19:37:50.103Z"
   },
   {
    "duration": 57,
    "start_time": "2024-07-27T19:37:50.127Z"
   },
   {
    "duration": 38,
    "start_time": "2024-07-27T19:37:50.187Z"
   },
   {
    "duration": 98,
    "start_time": "2024-07-27T19:37:50.229Z"
   },
   {
    "duration": 553,
    "start_time": "2024-07-27T19:37:50.331Z"
   },
   {
    "duration": 0,
    "start_time": "2024-07-27T19:37:50.887Z"
   },
   {
    "duration": 0,
    "start_time": "2024-07-27T19:37:50.889Z"
   },
   {
    "duration": 0,
    "start_time": "2024-07-27T19:37:50.890Z"
   },
   {
    "duration": 0,
    "start_time": "2024-07-27T19:37:50.892Z"
   },
   {
    "duration": 0,
    "start_time": "2024-07-27T19:37:50.893Z"
   },
   {
    "duration": 0,
    "start_time": "2024-07-27T19:37:50.894Z"
   },
   {
    "duration": 0,
    "start_time": "2024-07-27T19:37:50.896Z"
   },
   {
    "duration": 1693,
    "start_time": "2024-07-27T19:39:43.537Z"
   },
   {
    "duration": 42,
    "start_time": "2024-07-27T19:39:45.234Z"
   },
   {
    "duration": 16,
    "start_time": "2024-07-27T19:39:45.279Z"
   },
   {
    "duration": 34,
    "start_time": "2024-07-27T19:39:45.299Z"
   },
   {
    "duration": 386,
    "start_time": "2024-07-27T19:39:45.336Z"
   },
   {
    "duration": 1058,
    "start_time": "2024-07-27T19:39:45.725Z"
   },
   {
    "duration": 15,
    "start_time": "2024-07-27T19:39:46.786Z"
   },
   {
    "duration": 1094,
    "start_time": "2024-07-27T19:39:46.804Z"
   },
   {
    "duration": 6,
    "start_time": "2024-07-27T19:39:47.902Z"
   },
   {
    "duration": 54,
    "start_time": "2024-07-27T19:39:47.926Z"
   },
   {
    "duration": 18,
    "start_time": "2024-07-27T19:39:47.983Z"
   },
   {
    "duration": 106,
    "start_time": "2024-07-27T19:39:48.024Z"
   },
   {
    "duration": 262289,
    "start_time": "2024-07-27T19:39:48.134Z"
   },
   {
    "duration": 511296,
    "start_time": "2024-07-27T19:44:10.426Z"
   },
   {
    "duration": 214307,
    "start_time": "2024-07-27T19:52:41.725Z"
   },
   {
    "duration": 719896,
    "start_time": "2024-07-27T19:56:16.035Z"
   },
   {
    "duration": 16,
    "start_time": "2024-07-27T20:08:15.934Z"
   },
   {
    "duration": 252,
    "start_time": "2024-07-27T20:08:15.952Z"
   },
   {
    "duration": 240,
    "start_time": "2024-07-27T20:08:16.207Z"
   },
   {
    "duration": 9,
    "start_time": "2024-07-27T22:58:14.221Z"
   },
   {
    "duration": 1030,
    "start_time": "2024-07-27T22:58:33.803Z"
   },
   {
    "duration": 11,
    "start_time": "2024-07-27T22:59:11.744Z"
   },
   {
    "duration": 92,
    "start_time": "2024-07-27T22:59:50.901Z"
   },
   {
    "duration": 56,
    "start_time": "2024-07-27T23:00:58.446Z"
   },
   {
    "duration": 690,
    "start_time": "2024-07-27T23:02:50.693Z"
   },
   {
    "duration": 50,
    "start_time": "2024-07-27T23:03:40.419Z"
   },
   {
    "duration": 7,
    "start_time": "2024-07-27T23:36:57.032Z"
   },
   {
    "duration": 7,
    "start_time": "2024-07-27T23:37:21.196Z"
   },
   {
    "duration": 6,
    "start_time": "2024-07-27T23:37:53.907Z"
   },
   {
    "duration": 16,
    "start_time": "2024-07-27T23:41:33.057Z"
   },
   {
    "duration": 16,
    "start_time": "2024-07-27T23:42:11.084Z"
   },
   {
    "duration": 16,
    "start_time": "2024-07-27T23:44:11.690Z"
   },
   {
    "duration": 17,
    "start_time": "2024-07-27T23:57:18.486Z"
   },
   {
    "duration": 17,
    "start_time": "2024-07-27T23:58:52.436Z"
   },
   {
    "duration": 16,
    "start_time": "2024-07-28T00:00:05.124Z"
   },
   {
    "duration": 18,
    "start_time": "2024-07-28T00:00:14.250Z"
   },
   {
    "duration": 10,
    "start_time": "2024-07-28T00:34:48.820Z"
   },
   {
    "duration": 12,
    "start_time": "2024-07-28T00:37:08.962Z"
   },
   {
    "duration": 11,
    "start_time": "2024-07-28T00:38:54.145Z"
   },
   {
    "duration": 12,
    "start_time": "2024-07-28T00:39:41.643Z"
   },
   {
    "duration": 11,
    "start_time": "2024-07-28T00:39:54.269Z"
   },
   {
    "duration": 10,
    "start_time": "2024-07-28T00:40:04.711Z"
   },
   {
    "duration": 10,
    "start_time": "2024-07-28T00:40:13.019Z"
   },
   {
    "duration": 19,
    "start_time": "2024-07-28T00:40:40.582Z"
   },
   {
    "duration": 28,
    "start_time": "2024-07-28T00:40:49.119Z"
   },
   {
    "duration": 31,
    "start_time": "2024-07-28T00:41:44.708Z"
   },
   {
    "duration": 28,
    "start_time": "2024-07-28T00:42:41.595Z"
   },
   {
    "duration": 29,
    "start_time": "2024-07-28T00:43:37.071Z"
   },
   {
    "duration": 291,
    "start_time": "2024-07-28T00:45:46.177Z"
   },
   {
    "duration": 30,
    "start_time": "2024-07-28T00:47:19.002Z"
   },
   {
    "duration": 337,
    "start_time": "2024-07-28T00:48:11.128Z"
   },
   {
    "duration": 394,
    "start_time": "2024-07-28T00:50:25.991Z"
   },
   {
    "duration": 332,
    "start_time": "2024-07-28T00:55:54.994Z"
   },
   {
    "duration": 473,
    "start_time": "2024-07-28T00:56:10.767Z"
   },
   {
    "duration": 322,
    "start_time": "2024-07-28T00:57:03.491Z"
   },
   {
    "duration": 351,
    "start_time": "2024-07-28T00:57:18.999Z"
   },
   {
    "duration": 355,
    "start_time": "2024-07-28T00:58:33.815Z"
   },
   {
    "duration": 317,
    "start_time": "2024-07-28T00:58:56.928Z"
   },
   {
    "duration": 216,
    "start_time": "2024-07-28T00:59:39.343Z"
   },
   {
    "duration": 209,
    "start_time": "2024-07-28T01:00:03.992Z"
   },
   {
    "duration": 36,
    "start_time": "2024-07-28T01:01:49.436Z"
   },
   {
    "duration": 6,
    "start_time": "2024-07-28T01:01:53.735Z"
   },
   {
    "duration": 35,
    "start_time": "2024-07-28T01:01:54.258Z"
   },
   {
    "duration": 16,
    "start_time": "2024-07-28T01:02:22.688Z"
   },
   {
    "duration": 86,
    "start_time": "2024-07-28T01:02:31.639Z"
   },
   {
    "duration": 11,
    "start_time": "2024-07-28T01:14:46.677Z"
   },
   {
    "duration": 318,
    "start_time": "2024-07-28T01:14:58.968Z"
   },
   {
    "duration": 335,
    "start_time": "2024-07-28T01:15:01.180Z"
   },
   {
    "duration": 350,
    "start_time": "2024-07-28T01:46:40.352Z"
   },
   {
    "duration": 1675,
    "start_time": "2024-07-28T02:01:48.982Z"
   },
   {
    "duration": 46,
    "start_time": "2024-07-28T02:01:50.661Z"
   },
   {
    "duration": 27,
    "start_time": "2024-07-28T02:01:50.712Z"
   },
   {
    "duration": 15,
    "start_time": "2024-07-28T02:01:50.744Z"
   },
   {
    "duration": 394,
    "start_time": "2024-07-28T02:01:50.762Z"
   },
   {
    "duration": 1020,
    "start_time": "2024-07-28T02:01:51.161Z"
   },
   {
    "duration": 14,
    "start_time": "2024-07-28T02:01:52.184Z"
   },
   {
    "duration": 1078,
    "start_time": "2024-07-28T02:01:52.201Z"
   },
   {
    "duration": 6,
    "start_time": "2024-07-28T02:01:53.283Z"
   },
   {
    "duration": 73,
    "start_time": "2024-07-28T02:01:53.295Z"
   },
   {
    "duration": 19,
    "start_time": "2024-07-28T02:01:53.371Z"
   },
   {
    "duration": 49,
    "start_time": "2024-07-28T02:01:53.393Z"
   },
   {
    "duration": 261708,
    "start_time": "2024-07-28T02:01:53.444Z"
   },
   {
    "duration": 513409,
    "start_time": "2024-07-28T02:06:15.155Z"
   },
   {
    "duration": 237866,
    "start_time": "2024-07-28T02:14:48.567Z"
   },
   {
    "duration": 734787,
    "start_time": "2024-07-28T02:18:46.436Z"
   },
   {
    "duration": 16,
    "start_time": "2024-07-28T02:31:01.226Z"
   },
   {
    "duration": 249,
    "start_time": "2024-07-28T02:31:01.246Z"
   },
   {
    "duration": 240,
    "start_time": "2024-07-28T02:31:01.499Z"
   },
   {
    "duration": 16,
    "start_time": "2024-07-28T02:31:01.742Z"
   },
   {
    "duration": 335,
    "start_time": "2024-07-28T02:31:01.761Z"
   },
   {
    "duration": 367,
    "start_time": "2024-07-28T02:31:02.099Z"
   },
   {
    "duration": 1809,
    "start_time": "2024-07-28T16:24:16.222Z"
   },
   {
    "duration": 52,
    "start_time": "2024-07-28T16:24:18.066Z"
   },
   {
    "duration": 17,
    "start_time": "2024-07-28T16:24:18.937Z"
   },
   {
    "duration": 23,
    "start_time": "2024-07-28T16:24:24.040Z"
   },
   {
    "duration": 385,
    "start_time": "2024-07-28T16:24:26.879Z"
   },
   {
    "duration": 1045,
    "start_time": "2024-07-28T16:24:35.019Z"
   },
   {
    "duration": 1051,
    "start_time": "2024-07-28T16:27:02.667Z"
   },
   {
    "duration": 12,
    "start_time": "2024-07-28T16:27:08.336Z"
   },
   {
    "duration": 1032,
    "start_time": "2024-07-28T16:27:09.395Z"
   },
   {
    "duration": 6,
    "start_time": "2024-07-28T16:27:19.222Z"
   },
   {
    "duration": 537,
    "start_time": "2024-07-28T16:28:46.876Z"
   },
   {
    "duration": 35,
    "start_time": "2024-07-28T16:29:28.803Z"
   },
   {
    "duration": 12,
    "start_time": "2024-07-28T16:30:25.837Z"
   },
   {
    "duration": 28,
    "start_time": "2024-07-28T16:30:39.003Z"
   },
   {
    "duration": 5765,
    "start_time": "2024-07-28T23:11:03.363Z"
   },
   {
    "duration": 62,
    "start_time": "2024-07-28T23:11:09.133Z"
   },
   {
    "duration": 19,
    "start_time": "2024-07-28T23:11:09.199Z"
   },
   {
    "duration": 15,
    "start_time": "2024-07-28T23:11:09.224Z"
   },
   {
    "duration": 448,
    "start_time": "2024-07-28T23:11:09.244Z"
   },
   {
    "duration": 1138,
    "start_time": "2024-07-28T23:11:09.697Z"
   },
   {
    "duration": 7,
    "start_time": "2024-07-28T23:11:19.316Z"
   },
   {
    "duration": 6,
    "start_time": "2024-07-28T23:12:08.074Z"
   },
   {
    "duration": 6,
    "start_time": "2024-07-28T23:14:45.655Z"
   },
   {
    "duration": 7,
    "start_time": "2024-07-28T23:14:45.994Z"
   },
   {
    "duration": 369,
    "start_time": "2024-07-28T23:17:30.981Z"
   },
   {
    "duration": 1182,
    "start_time": "2024-07-28T23:17:31.903Z"
   },
   {
    "duration": 17,
    "start_time": "2024-07-28T23:17:37.633Z"
   },
   {
    "duration": 1104,
    "start_time": "2024-07-28T23:17:40.468Z"
   },
   {
    "duration": 7,
    "start_time": "2024-07-28T23:17:45.810Z"
   },
   {
    "duration": 19,
    "start_time": "2024-07-28T23:17:46.186Z"
   },
   {
    "duration": 11,
    "start_time": "2024-07-28T23:17:47.957Z"
   },
   {
    "duration": 55,
    "start_time": "2024-07-28T23:17:50.272Z"
   },
   {
    "duration": 27,
    "start_time": "2024-07-28T23:17:58.203Z"
   },
   {
    "duration": 386,
    "start_time": "2024-07-28T23:21:55.994Z"
   },
   {
    "duration": 430,
    "start_time": "2024-07-28T23:23:24.568Z"
   },
   {
    "duration": 398,
    "start_time": "2024-07-28T23:24:16.092Z"
   },
   {
    "duration": 620,
    "start_time": "2024-07-28T23:26:46.479Z"
   },
   {
    "duration": 628,
    "start_time": "2024-07-28T23:27:50.262Z"
   },
   {
    "duration": 696,
    "start_time": "2024-07-28T23:28:25.259Z"
   },
   {
    "duration": 628,
    "start_time": "2024-07-28T23:28:40.977Z"
   },
   {
    "duration": 576,
    "start_time": "2024-07-28T23:29:05.530Z"
   },
   {
    "duration": 579,
    "start_time": "2024-07-28T23:30:03.588Z"
   },
   {
    "duration": 630,
    "start_time": "2024-07-28T23:30:23.960Z"
   },
   {
    "duration": 400,
    "start_time": "2024-07-28T23:31:55.951Z"
   },
   {
    "duration": 579,
    "start_time": "2024-07-28T23:32:14.294Z"
   },
   {
    "duration": 357,
    "start_time": "2024-07-28T23:32:28.933Z"
   },
   {
    "duration": 341,
    "start_time": "2024-07-28T23:33:09.133Z"
   },
   {
    "duration": 599,
    "start_time": "2024-07-28T23:36:36.892Z"
   },
   {
    "duration": 622,
    "start_time": "2024-07-28T23:37:10.168Z"
   },
   {
    "duration": 650,
    "start_time": "2024-07-28T23:38:59.111Z"
   },
   {
    "duration": 717,
    "start_time": "2024-07-28T23:39:38.198Z"
   },
   {
    "duration": 711,
    "start_time": "2024-07-28T23:43:12.594Z"
   },
   {
    "duration": 1684,
    "start_time": "2024-07-28T23:45:08.638Z"
   },
   {
    "duration": 42,
    "start_time": "2024-07-28T23:45:10.326Z"
   },
   {
    "duration": 28,
    "start_time": "2024-07-28T23:45:10.371Z"
   },
   {
    "duration": 14,
    "start_time": "2024-07-28T23:45:10.403Z"
   },
   {
    "duration": 9,
    "start_time": "2024-07-28T23:45:10.420Z"
   },
   {
    "duration": 8,
    "start_time": "2024-07-28T23:45:10.432Z"
   },
   {
    "duration": 409,
    "start_time": "2024-07-28T23:45:10.443Z"
   },
   {
    "duration": 1076,
    "start_time": "2024-07-28T23:45:10.856Z"
   },
   {
    "duration": 14,
    "start_time": "2024-07-28T23:45:11.936Z"
   },
   {
    "duration": 1124,
    "start_time": "2024-07-28T23:45:11.958Z"
   },
   {
    "duration": 10,
    "start_time": "2024-07-28T23:45:13.091Z"
   },
   {
    "duration": 16,
    "start_time": "2024-07-28T23:45:13.105Z"
   },
   {
    "duration": 9,
    "start_time": "2024-07-28T23:45:13.124Z"
   },
   {
    "duration": 87,
    "start_time": "2024-07-28T23:45:13.135Z"
   },
   {
    "duration": 19,
    "start_time": "2024-07-28T23:45:13.226Z"
   },
   {
    "duration": 683,
    "start_time": "2024-07-28T23:45:13.248Z"
   },
   {
    "duration": 74,
    "start_time": "2024-07-28T23:45:13.935Z"
   },
   {
    "duration": 263213,
    "start_time": "2024-07-28T23:45:14.012Z"
   },
   {
    "duration": 502039,
    "start_time": "2024-07-28T23:49:37.228Z"
   },
   {
    "duration": 220735,
    "start_time": "2024-07-28T23:57:59.271Z"
   },
   {
    "duration": 755627,
    "start_time": "2024-07-29T00:01:40.009Z"
   },
   {
    "duration": 50,
    "start_time": "2024-07-29T00:14:15.640Z"
   },
   {
    "duration": 237,
    "start_time": "2024-07-29T00:14:15.694Z"
   },
   {
    "duration": 257,
    "start_time": "2024-07-29T00:14:15.934Z"
   },
   {
    "duration": 11,
    "start_time": "2024-07-29T00:14:16.194Z"
   },
   {
    "duration": 353,
    "start_time": "2024-07-29T00:14:16.208Z"
   },
   {
    "duration": 480,
    "start_time": "2024-07-29T00:14:16.564Z"
   }
  ],
  "kernelspec": {
   "display_name": "Python 3 (ipykernel)",
   "language": "python",
   "name": "python3"
  },
  "language_info": {
   "codemirror_mode": {
    "name": "ipython",
    "version": 3
   },
   "file_extension": ".py",
   "mimetype": "text/x-python",
   "name": "python",
   "nbconvert_exporter": "python",
   "pygments_lexer": "ipython3",
   "version": "3.12.4"
  },
  "toc": {
   "base_numbering": 1,
   "nav_menu": {},
   "number_sections": true,
   "sideBar": true,
   "skip_h1_title": true,
   "title_cell": "Table of Contents",
   "title_sidebar": "Contents",
   "toc_cell": false,
   "toc_position": {},
   "toc_section_display": true,
   "toc_window_display": false
  }
 },
 "nbformat": 4,
 "nbformat_minor": 2
}
